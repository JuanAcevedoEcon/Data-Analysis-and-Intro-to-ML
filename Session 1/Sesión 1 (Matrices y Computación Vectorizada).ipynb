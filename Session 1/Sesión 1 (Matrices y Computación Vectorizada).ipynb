{
 "cells": [
  {
   "cell_type": "markdown",
   "metadata": {
    "id": "eyi3Ge2m0SCv"
   },
   "source": [
    "### 1.) Pensemos de forma diferente\n",
    "\n",
    "Toda nuestra data puede ser visualizada mediante vectores y matrices, sin importar fuente o formato."
   ]
  },
  {
   "cell_type": "code",
   "execution_count": null,
   "metadata": {
    "id": "f9JhlZyv0SCy",
    "outputId": "715ec40e-20d0-4740-c580-9da155b60d50"
   },
   "outputs": [],
   "source": [
    "from PIL import Image\n",
    "\n",
    "img = ______.open(\"picture.jpg\") \n",
    "  \n",
    "print(img.______) \n",
    "print(img.______) \n",
    "print(img.______)"
   ]
  },
  {
   "cell_type": "code",
   "execution_count": null,
   "metadata": {
    "id": "joT89KHv0SC0",
    "outputId": "199497f7-1ff9-471a-bc98-5878a60a41e7"
   },
   "outputs": [],
   "source": [
    "import ______ as __ \n",
    " \n",
    "numpydata = np.______(img)"
   ]
  },
  {
   "cell_type": "code",
   "execution_count": null,
   "metadata": {
    "id": "9Tcq9dQL0SC0",
    "outputId": "150224b8-9470-4c6d-af1c-e9238d7b8fbd"
   },
   "outputs": [],
   "source": [
    "np_img = np.______(img) "
   ]
  },
  {
   "cell_type": "markdown",
   "metadata": {
    "id": "H8bnshR50SC1"
   },
   "source": [
    "Veamos cuáles son los colores RGB que nos está mostrando la matriz https://htmlcolorcodes.com/es/"
   ]
  },
  {
   "cell_type": "code",
   "execution_count": null,
   "metadata": {
    "id": "53FseFng0SC2",
    "outputId": "0b81580b-ef5f-49c2-fdad-d4262ea55d63"
   },
   "outputs": [],
   "source": [
    "# Podemos invertir el proceso, es decir, convertir una matriz a imágen\n",
    "\n",
    "pil_image = Image.___________(numpydata)\n",
    "\n",
    "print(type(_______))\n",
    "print(pil_image.______) \n",
    "print(pil_image.______)"
   ]
  },
  {
   "cell_type": "markdown",
   "metadata": {
    "id": "8EUU-fSk0SC3"
   },
   "source": [
    "#### Juguemos un poco con la matriz"
   ]
  },
  {
   "cell_type": "code",
   "execution_count": null,
   "metadata": {
    "id": "ktBqgguu0SC3",
    "outputId": "55871a0e-7ff9-4d7b-bfa9-ffe6ef4f37d3"
   },
   "outputs": [],
   "source": []
  },
  {
   "cell_type": "code",
   "execution_count": null,
   "metadata": {
    "id": "8EO4JfTb0SC4",
    "outputId": "1bb9f650-132e-4cd3-80df-b3d9483504d8"
   },
   "outputs": [],
   "source": [
    "pil_image._______(\"\")"
   ]
  },
  {
   "cell_type": "markdown",
   "metadata": {
    "id": "aQdiiDI80SC5"
   },
   "source": [
    "Supongamos que, se dea extraer únicamente el __logo de python__ dentro de la img. Esto será posible mediante la selección de elementos dentro de un array"
   ]
  },
  {
   "cell_type": "code",
   "execution_count": null,
   "metadata": {},
   "outputs": [],
   "source": []
  },
  {
   "cell_type": "markdown",
   "metadata": {
    "id": "M_LDlLuX0SC5"
   },
   "source": [
    "### 2.) Repaso de los tipos de datos en Python"
   ]
  },
  {
   "cell_type": "raw",
   "metadata": {
    "id": "1rZIXN_E0SC5"
   },
   "source": [
    "/* C code */\n",
    "int result = 0;\n",
    "for(int i=0; i<100; i++){\n",
    " result += i;\n",
    "}"
   ]
  },
  {
   "cell_type": "code",
   "execution_count": null,
   "metadata": {
    "id": "VqjeYPo50SC6"
   },
   "outputs": [],
   "source": [
    "# Python code\n"
   ]
  },
  {
   "cell_type": "raw",
   "metadata": {
    "id": "ZfSA9qaq0SC6"
   },
   "source": [
    "/* C code */\n",
    "int x = 4;\n",
    "x = \"four\"; // FAILS # Si ejecutara este código en C, fallaría pues requiere especificar dtype"
   ]
  },
  {
   "cell_type": "code",
   "execution_count": null,
   "metadata": {
    "id": "wVKsmhfK0SC6"
   },
   "outputs": [],
   "source": [
    "# Python code\n"
   ]
  },
  {
   "cell_type": "markdown",
   "metadata": {
    "id": "Dpha5jok0SC6"
   },
   "source": [
    "#### Tipos de datos primitivos"
   ]
  },
  {
   "cell_type": "code",
   "execution_count": null,
   "metadata": {},
   "outputs": [],
   "source": []
  },
  {
   "cell_type": "markdown",
   "metadata": {
    "id": "k7A0HvDK0SC7"
   },
   "source": [
    "#### Tipos de secuencias"
   ]
  },
  {
   "cell_type": "markdown",
   "metadata": {},
   "source": [
    "##### Listas"
   ]
  },
  {
   "cell_type": "code",
   "execution_count": null,
   "metadata": {},
   "outputs": [],
   "source": []
  },
  {
   "cell_type": "markdown",
   "metadata": {
    "id": "XJMWey8i0SC9"
   },
   "source": [
    "##### Tuplas"
   ]
  },
  {
   "cell_type": "code",
   "execution_count": null,
   "metadata": {},
   "outputs": [],
   "source": []
  },
  {
   "cell_type": "markdown",
   "metadata": {
    "id": "vzRFgnAI0SC-"
   },
   "source": [
    "##### Diccionario"
   ]
  },
  {
   "cell_type": "code",
   "execution_count": null,
   "metadata": {},
   "outputs": [],
   "source": []
  },
  {
   "cell_type": "markdown",
   "metadata": {
    "id": "GlJb0rQq0SC-"
   },
   "source": [
    "### 3.) Introducción a Numpy\n",
    "\n",
    "Una de las características clave de NumPy es su objeto de matriz N-dimensional, o ndarray, que es un contenedor rápido y flexible para grandes conjuntos de datos en Python. Las matrices le permiten realizar operaciones matemáticas en bloques completos de datos utilizando una sintaxis similar a las operaciones equivalentes entre elementos escalares."
   ]
  },
  {
   "cell_type": "code",
   "execution_count": null,
   "metadata": {
    "id": "wC8IX-gm0SC-",
    "outputId": "04859972-4a3c-417b-919f-f8a7e1a26319"
   },
   "outputs": [],
   "source": [
    "np.array([1, 7, 14, 2, 1])"
   ]
  },
  {
   "cell_type": "code",
   "execution_count": null,
   "metadata": {
    "id": "ocUmtZkd0SC-",
    "outputId": "0438dfd8-38b3-42fa-a65e-90af49ddf546"
   },
   "outputs": [],
   "source": [
    "np.array([3.14, 4, 7, 3])"
   ]
  },
  {
   "cell_type": "code",
   "execution_count": null,
   "metadata": {
    "id": "RWheuO0U0SC_",
    "outputId": "4221092d-f57b-4485-a8df-1dce5979e688"
   },
   "outputs": [],
   "source": [
    "np.array([1, 2, 3, 4], dtype=\"_______\")"
   ]
  },
  {
   "cell_type": "markdown",
   "metadata": {
    "id": "s5gKmAYP0SC_"
   },
   "source": [
    "Especialmente para arreglos más grandes, es más eficiente crear arreglos desde cero utilizando rutinas integradas en NumPy."
   ]
  },
  {
   "cell_type": "code",
   "execution_count": null,
   "metadata": {
    "id": "GCpHUF8t0SC_",
    "outputId": "9425b7dd-43b7-49ca-80f1-0ef9875600c9"
   },
   "outputs": [],
   "source": [
    "np.______(10, dtype=int)"
   ]
  },
  {
   "cell_type": "code",
   "execution_count": null,
   "metadata": {
    "id": "f2HGMLdU0SC_",
    "outputId": "02d6bda3-8106-4b74-804a-1f56b9767c69"
   },
   "outputs": [],
   "source": [
    "np.______((3, 5), dtype=float)"
   ]
  },
  {
   "cell_type": "code",
   "execution_count": null,
   "metadata": {
    "id": "NiIt1TRh0SC_",
    "outputId": "665bc781-c989-4dfa-fed1-4580a4fae366"
   },
   "outputs": [],
   "source": [
    "np.______((3, 5), 3.14)"
   ]
  },
  {
   "cell_type": "code",
   "execution_count": null,
   "metadata": {
    "id": "D15jTn1l0SC_",
    "outputId": "99cbb840-2834-40ce-d54c-87926785f4ae"
   },
   "outputs": [],
   "source": [
    "np.______(0, 20, 2)"
   ]
  },
  {
   "cell_type": "code",
   "execution_count": null,
   "metadata": {
    "id": "zEnhK9_20SC_",
    "outputId": "70a5c98c-7fad-427c-9126-e8b5bab04023"
   },
   "outputs": [],
   "source": [
    "np.______(0, 1, 5)"
   ]
  },
  {
   "cell_type": "code",
   "execution_count": null,
   "metadata": {
    "id": "FM-WuYoR0SDA",
    "outputId": "bd0993de-2d4a-437e-ab35-3be7c2305f0c"
   },
   "outputs": [],
   "source": [
    "np.______.______((3, 3))"
   ]
  },
  {
   "cell_type": "code",
   "execution_count": null,
   "metadata": {
    "id": "TGeexL540SDA",
    "outputId": "f4efae34-e9d3-442c-9916-7ecca4f7843b"
   },
   "outputs": [],
   "source": [
    "np.______.______(0, 1, (3, 3))"
   ]
  },
  {
   "cell_type": "code",
   "execution_count": null,
   "metadata": {
    "id": "9kjko8op0SDA",
    "outputId": "94ccff69-fbde-4710-a926-830ee57f36a4"
   },
   "outputs": [],
   "source": [
    "np.random.______(0, 10, (3, 3))"
   ]
  },
  {
   "cell_type": "code",
   "execution_count": null,
   "metadata": {
    "id": "ssIOgKFT0SDA",
    "outputId": "91baf4d2-4233-4e83-8193-fe7be0489c08"
   },
   "outputs": [],
   "source": [
    "np.____(3)"
   ]
  },
  {
   "cell_type": "code",
   "execution_count": null,
   "metadata": {
    "id": "xzAa-S9_0SDA",
    "outputId": "fc475528-ec32-491d-f4ff-58085b87b8c4"
   },
   "outputs": [],
   "source": [
    "np.______(3)"
   ]
  },
  {
   "cell_type": "markdown",
   "metadata": {
    "id": "AsDkUC-a0SDA"
   },
   "source": [
    "#### Atributos de los Numpy array"
   ]
  },
  {
   "cell_type": "code",
   "execution_count": null,
   "metadata": {
    "id": "bPJtd0se0SDB"
   },
   "outputs": [],
   "source": [
    "np.random.seed(10422) # seed for reproducibility\n",
    "\n",
    "x1 = np.random.randint(10, size=6) \n",
    "x2 = np.random.randint(10, size=(3, 4)) \n",
    "x3 = np.random.randint(10, size=(3, 4, 5)) "
   ]
  },
  {
   "cell_type": "code",
   "execution_count": null,
   "metadata": {
    "id": "rqh3oCoa0SDB",
    "outputId": "03b06cab-c32a-4437-f2f9-8c39235015e1"
   },
   "outputs": [],
   "source": [
    "print(\"x3 ndim: \", x3._____) \n",
    "print(\"x3 shape:\", x3._____)\n",
    "print(\"x3 size: \", x3._____)"
   ]
  },
  {
   "cell_type": "code",
   "execution_count": null,
   "metadata": {
    "id": "2wWKoe_20SDB",
    "outputId": "a019b6ca-8d51-4f91-da88-7f3a2e8d9c5c"
   },
   "outputs": [],
   "source": [
    "print(\"dtype:\", x3.dtype)"
   ]
  },
  {
   "cell_type": "code",
   "execution_count": null,
   "metadata": {
    "id": "6qsfRiwK0SDB",
    "outputId": "439ab5c3-0d1d-4793-8d8b-04e8484f5166"
   },
   "outputs": [],
   "source": [
    "print(\"itemsize:\", x3._____, \"bytes\")\n",
    "print(\"nbytes:\", x3._____, \"bytes\")"
   ]
  },
  {
   "cell_type": "markdown",
   "metadata": {
    "id": "trlXeZX10SDB"
   },
   "source": [
    "### Array Indexing"
   ]
  },
  {
   "cell_type": "code",
   "execution_count": null,
   "metadata": {},
   "outputs": [],
   "source": [
    "# __________ 2d array __________#\n",
    "x1"
   ]
  },
  {
   "cell_type": "code",
   "execution_count": null,
   "metadata": {
    "id": "pjAPRoYI0SDC",
    "outputId": "dc3bd209-bb04-4a94-d0ff-77e2a1134749"
   },
   "outputs": [],
   "source": [
    "# __________ 2d array __________#\n",
    "x2"
   ]
  },
  {
   "cell_type": "markdown",
   "metadata": {
    "id": "4WMKp99q0SDD"
   },
   "source": [
    "### Acceso a subarreglos"
   ]
  },
  {
   "cell_type": "code",
   "execution_count": null,
   "metadata": {
    "id": "sD0FLUUF0SDD",
    "outputId": "b8a44b38-948b-4e3a-ca3c-e5bf2e689c21"
   },
   "outputs": [],
   "source": [
    "x = np.arange(10)\n",
    "x"
   ]
  },
  {
   "cell_type": "markdown",
   "metadata": {
    "id": "8CuHvlsR0SDE"
   },
   "source": [
    "##### -------------- Ejercicios -------------- ###"
   ]
  },
  {
   "cell_type": "code",
   "execution_count": null,
   "metadata": {
    "id": "1r0v-lk70SDE",
    "outputId": "79655507-ed95-4cb2-d661-a368b8003776"
   },
   "outputs": [],
   "source": [
    "x2"
   ]
  },
  {
   "cell_type": "markdown",
   "metadata": {},
   "source": [
    "#### ----------------------------"
   ]
  },
  {
   "cell_type": "code",
   "execution_count": null,
   "metadata": {},
   "outputs": [],
   "source": []
  },
  {
   "cell_type": "markdown",
   "metadata": {
    "id": "bNvvbQ000SDF"
   },
   "source": [
    "### Copia vs Vista\n",
    "\n",
    "Una cosa importante y extremadamente útil que debe saber acerca de los segmentos de matriz es que **devuelven vistas en lugar de copias** de los datos de la matriz. Esta es un área en la que el corte de matrices NumPy difiere del corte de listas de Python: en las listas, los cortes serán copias. Considere nuestra matriz bidimensional de antes:"
   ]
  },
  {
   "cell_type": "code",
   "execution_count": null,
   "metadata": {
    "id": "XzIlaCfy0SDF",
    "outputId": "06dd69f3-281d-4f97-abf4-1c4d33329295"
   },
   "outputs": [],
   "source": [
    "print(x2)"
   ]
  },
  {
   "cell_type": "code",
   "execution_count": null,
   "metadata": {
    "id": "-V0MxY7l0SDF",
    "outputId": "134c9ac9-3dc0-493e-bca0-bf34f0bcdebd"
   },
   "outputs": [],
   "source": [
    "x2_sub = x2_______\n",
    "print(x2_sub)"
   ]
  },
  {
   "cell_type": "code",
   "execution_count": null,
   "metadata": {
    "id": "5KH96Lj80SDF",
    "outputId": "a5dee8fd-dc3e-45d7-d3cc-5d9488005752"
   },
   "outputs": [],
   "source": [
    "x2_sub_______ = 99\n",
    "print(x2_sub)"
   ]
  },
  {
   "cell_type": "code",
   "execution_count": null,
   "metadata": {
    "id": "EtpXJmIm0SDG",
    "outputId": "28ba7be7-4ac1-420e-9c73-d9324ecc7d44"
   },
   "outputs": [],
   "source": [
    "print(x2)"
   ]
  },
  {
   "cell_type": "markdown",
   "metadata": {
    "id": "Uat3Ow-O0SDG"
   },
   "source": [
    "Este comportamiento predeterminado es bastante útil: significa que cuando trabajamos con grandes conjuntos de datos, podemos acceder y procesar partes de estos conjuntos de datos sin necesidad de copiar el búfer (espacio de memoria) de datos subyacente."
   ]
  },
  {
   "cell_type": "code",
   "execution_count": null,
   "metadata": {
    "id": "Yt6rjkvu0SDG",
    "outputId": "57ef57ac-bd76-46f1-f22a-da1142d7384d"
   },
   "outputs": [],
   "source": [
    "x2_sub_copy = x2[:2, :2]_______\n",
    "print(x2_sub_copy)"
   ]
  },
  {
   "cell_type": "code",
   "execution_count": null,
   "metadata": {
    "id": "b_i-yDwL0SDG",
    "outputId": "cd72873d-b80a-405e-ba96-33d7240a438e"
   },
   "outputs": [],
   "source": [
    "x2_sub_copy_______ = 42\n",
    "print(x2_sub_copy)"
   ]
  },
  {
   "cell_type": "code",
   "execution_count": null,
   "metadata": {
    "id": "ERtKC9Jn0SDG",
    "outputId": "40de6120-afd0-4de5-bd0d-cfc351e8644f"
   },
   "outputs": [],
   "source": [
    "print(x2)"
   ]
  },
  {
   "cell_type": "markdown",
   "metadata": {
    "id": "7XM_x-5e0SDG"
   },
   "source": [
    "### Álgebra Lineal"
   ]
  },
  {
   "cell_type": "code",
   "execution_count": null,
   "metadata": {
    "id": "srq1FhlO0SDG",
    "outputId": "a9937c95-4976-489d-84c8-970e47df6674"
   },
   "outputs": [],
   "source": [
    "arr = np.array([[1., 2., 3.], [4., 5., 6.]])\n",
    "arr"
   ]
  },
  {
   "cell_type": "code",
   "execution_count": null,
   "metadata": {},
   "outputs": [],
   "source": []
  },
  {
   "cell_type": "code",
   "execution_count": null,
   "metadata": {
    "id": "xjfhha8l0SDH",
    "outputId": "39841631-fae8-43d9-9ab6-3c0361729446"
   },
   "outputs": [],
   "source": [
    "arr2 = np.array([[0., 4., 1.], [7., 2., 12.]])\n",
    "arr2"
   ]
  },
  {
   "cell_type": "code",
   "execution_count": null,
   "metadata": {},
   "outputs": [],
   "source": []
  },
  {
   "cell_type": "code",
   "execution_count": null,
   "metadata": {
    "id": "f2oL184X0SDH",
    "outputId": "305fac04-3b8a-444a-ec1d-2f7db654945e"
   },
   "outputs": [],
   "source": [
    "arr3 = np.array([[1., 2.],[4., 5.]])\n",
    "arr3 * np.___(2)"
   ]
  },
  {
   "cell_type": "code",
   "execution_count": null,
   "metadata": {
    "id": "69oyaLMU0SDK",
    "outputId": "cde330c1-0eed-4245-d94e-342cb322e997"
   },
   "outputs": [],
   "source": [
    "x1"
   ]
  },
  {
   "cell_type": "code",
   "execution_count": null,
   "metadata": {
    "id": "ouuf3RdX0SDK",
    "outputId": "370accfc-df60-4948-c6ce-7f83272bdca7"
   },
   "outputs": [],
   "source": [
    "mat1 = np.array([[1, 6, 5],[3 ,4, 8],[2, 12, 3]]) \n",
    "mat2 = np.array([[3, 4, 6],[5, 6, 7],[6, 56, 7]]) \n",
    "\n"
   ]
  },
  {
   "cell_type": "code",
   "execution_count": null,
   "metadata": {
    "id": "VXvfHGKR0SDL",
    "outputId": "70252ac4-cbc8-4786-f4d1-4d659fcc1d04"
   },
   "outputs": [],
   "source": [
    "# Convert a number of farenheit values, say the weather forecast, to celcius\n",
    "farenheit = np.array([0,-10,-5,-15,0])\n",
    "\n",
    "# The formula for conversion is ((°F - 32) x 5/9 = C°)\n",
    "celcius = \n",
    "celcius"
   ]
  },
  {
   "cell_type": "markdown",
   "metadata": {
    "id": "oJh9AbfB0SDL"
   },
   "source": [
    "### 4.) Nota importante"
   ]
  },
  {
   "cell_type": "markdown",
   "metadata": {
    "id": "-ZxAfyCj0SDL"
   },
   "source": [
    "Una de las razones por las que NumPy es tan importante para los cálculos numéricos en Python es porque está diseñado para ser eficiente en grandes matrices de datos. Las matrices NumPy usan mucha menos memoria que las secuencias integradas de Python."
   ]
  },
  {
   "cell_type": "code",
   "execution_count": null,
   "metadata": {
    "id": "GCfMLPlr0SDL",
    "outputId": "22558863-6b96-4e46-e116-1144713feb7a"
   },
   "outputs": [],
   "source": [
    "my_arr = np.arange(1000000) # Vector con 1 M de datos \n",
    "my_list = list(range(1000000)) # Lista con 1 M de datos\n",
    "\n",
    "print(my_arr[:10],my_list[:10])"
   ]
  },
  {
   "cell_type": "code",
   "execution_count": null,
   "metadata": {},
   "outputs": [],
   "source": []
  }
 ],
 "metadata": {
  "colab": {
   "name": "Sesión 1 (Matrices y Computación Vectorizada).ipynb",
   "provenance": []
  },
  "kernelspec": {
   "display_name": "Python 3",
   "language": "python",
   "name": "python3"
  },
  "language_info": {
   "codemirror_mode": {
    "name": "ipython",
    "version": 3
   },
   "file_extension": ".py",
   "mimetype": "text/x-python",
   "name": "python",
   "nbconvert_exporter": "python",
   "pygments_lexer": "ipython3",
   "version": "3.8.5"
  }
 },
 "nbformat": 4,
 "nbformat_minor": 1
}
