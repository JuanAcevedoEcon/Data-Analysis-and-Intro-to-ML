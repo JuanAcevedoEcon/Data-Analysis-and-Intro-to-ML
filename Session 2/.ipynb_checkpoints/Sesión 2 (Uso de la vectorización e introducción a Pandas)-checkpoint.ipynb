{
 "cells": [
  {
   "cell_type": "markdown",
   "metadata": {},
   "source": [
    "### 1) Universal Functions (ufunc)\n",
    "\n",
    "Una función universal (o ufunc para abreviar) es una función que opera en ndarrays elemento por elemento, admitiendo la transmisión de matrices, la conversión de tipos y varias otras características estándar. Es decir, un ufunc es un contenedor \"vectorizado\" para una función que toma un número fijo de entradas específicas y produce un número fijo de salidas específicas."
   ]
  },
  {
   "cell_type": "markdown",
   "metadata": {},
   "source": [
    "###### Ufuncs unarios"
   ]
  },
  {
   "cell_type": "code",
   "execution_count": 1,
   "metadata": {},
   "outputs": [],
   "source": [
    "import numpy as np\n",
    "import matplotlib.pyplot as plt"
   ]
  },
  {
   "cell_type": "code",
   "execution_count": 2,
   "metadata": {},
   "outputs": [
    {
     "data": {
      "text/plain": [
       "array([0, 1, 2, 3, 4, 5, 6, 7, 8, 9])"
      ]
     },
     "execution_count": 2,
     "metadata": {},
     "output_type": "execute_result"
    }
   ],
   "source": [
    "arr = np.arange(10)\n",
    "arr"
   ]
  },
  {
   "cell_type": "code",
   "execution_count": null,
   "metadata": {},
   "outputs": [],
   "source": []
  },
  {
   "cell_type": "markdown",
   "metadata": {},
   "source": [
    "###### Ufuncs binarios"
   ]
  },
  {
   "cell_type": "code",
   "execution_count": 8,
   "metadata": {},
   "outputs": [
    {
     "name": "stdout",
     "output_type": "stream",
     "text": [
      "[-2.54794771  1.61497706  0.3297239   2.13976188  0.63447567 -0.1568751\n",
      " -0.51559822 -1.44692905]\n",
      "[-0.12448001  0.43005967  1.01841105 -0.19674399  0.54208341 -0.94615172\n",
      " -0.124623    1.10447019]\n"
     ]
    }
   ],
   "source": [
    "x = np.random.randn(8)\n",
    "y = np.random.randn(8)\n",
    "\n",
    "print(x, y, sep = \"\\n\")"
   ]
  },
  {
   "cell_type": "code",
   "execution_count": null,
   "metadata": {},
   "outputs": [],
   "source": []
  },
  {
   "cell_type": "markdown",
   "metadata": {},
   "source": [
    "Si bien no es común, un ufunc puede devolver varios elementos; np.modf es un ejemplo, una versión vectorizada del divmod integrado de Python que devuelve las partes fraccionaria e integral de un vector flotante:"
   ]
  },
  {
   "cell_type": "code",
   "execution_count": 10,
   "metadata": {},
   "outputs": [
    {
     "data": {
      "text/plain": [
       "array([ 0.09921251,  7.11171753, -1.66023467,  1.52972262, -2.48698037,\n",
       "       -3.02570246, -3.64962391])"
      ]
     },
     "execution_count": 10,
     "metadata": {},
     "output_type": "execute_result"
    }
   ],
   "source": [
    "arr = np.random.randn(7) * 5\n",
    "arr"
   ]
  },
  {
   "cell_type": "code",
   "execution_count": 11,
   "metadata": {},
   "outputs": [
    {
     "name": "stdout",
     "output_type": "stream",
     "text": [
      "[ 0.09921251  0.11171753 -0.66023467  0.52972262 -0.48698037 -0.02570246\n",
      " -0.64962391]\n",
      "[ 0.  7. -1.  1. -2. -3. -3.]\n"
     ]
    }
   ],
   "source": [
    "remainder, whole_part = np._____(arr) \n",
    "print(remainder, whole_part, sep = \"\\n\")"
   ]
  },
  {
   "cell_type": "markdown",
   "metadata": {},
   "source": [
    "Ufuncs acepta un argumento de salida opcional que les permite reemplazar diréctamente el vector:"
   ]
  },
  {
   "cell_type": "code",
   "execution_count": 12,
   "metadata": {},
   "outputs": [
    {
     "data": {
      "text/plain": [
       "array([ 0.09921251,  7.11171753, -1.66023467,  1.52972262, -2.48698037,\n",
       "       -3.02570246, -3.64962391])"
      ]
     },
     "execution_count": 12,
     "metadata": {},
     "output_type": "execute_result"
    }
   ],
   "source": [
    "arr"
   ]
  },
  {
   "cell_type": "code",
   "execution_count": null,
   "metadata": {},
   "outputs": [],
   "source": []
  },
  {
   "cell_type": "markdown",
   "metadata": {},
   "source": [
    "### 2) Vectorización\n",
    "\n",
    "El tiempo de ejecución se vuelve una variable sustancial en el manejo de datos y crucial para decidir si una aplicación es confiable o no. Nuestro objetivo siempre se enfocará en ejecutar un algoritmo de gran tamaño en el menor tiempo posible cuando hablamos buscar resultados en tiempo real.\n",
    "\n",
    "La lentitud relativa de Python generalmente se manifiesta en situaciones en las que se repiten muchas operaciones pequeñas, por ejemplo, recorriendo matrices para operar en cada elemento. Por ejemplo, imagine que tenemos una matriz de valores y nos gustaría calcular el recíproco de cada uno. Un enfoque sencillo podría verse así:"
   ]
  },
  {
   "cell_type": "code",
   "execution_count": 16,
   "metadata": {},
   "outputs": [
    {
     "data": {
      "text/plain": [
       "array([6, 1, 4, 4, 8])"
      ]
     },
     "execution_count": 16,
     "metadata": {},
     "output_type": "execute_result"
    }
   ],
   "source": [
    "np.random.seed(0)\n",
    "\n",
    "def compute_reciprocals(values):\n",
    "    output = np.empty(len(values))\n",
    "    for i in range(len(values)):\n",
    "        output[i] = 1.0 / values[i]\n",
    "    return output\n",
    "\n",
    "values = np.random.randint(1, 10, size=5)\n",
    "values"
   ]
  },
  {
   "cell_type": "code",
   "execution_count": null,
   "metadata": {},
   "outputs": [],
   "source": []
  },
  {
   "cell_type": "markdown",
   "metadata": {},
   "source": [
    "Cada vez que se calcula el recíproco, Python primero examina el tipo de objeto y realiza una búsqueda dinámica de la función correcta que se utilizará para ese tipo. Si estuviéramos trabajando en código compilado, esta especificación de tipo se conocería antes de que se ejecute el código y el resultado podría calcularse de manera mucho más eficiente.\n",
    "\n",
    "Para muchos tipos de operaciones, NumPy proporciona una interfaz conveniente para este tipo de rutina compilada y tipificada estáticamente. Esto se conoce como operación vectorizada. Puede lograr esto simplemente realizando una operación en la matriz, que luego se aplicará a cada elemento. Este enfoque vectorizado está diseñado para insertar el bucle en la capa compilada que subyace a NumPy, lo que lleva a una ejecución mucho más rápida."
   ]
  },
  {
   "cell_type": "code",
   "execution_count": null,
   "metadata": {},
   "outputs": [],
   "source": []
  },
  {
   "cell_type": "code",
   "execution_count": null,
   "metadata": {},
   "outputs": [],
   "source": []
  },
  {
   "cell_type": "markdown",
   "metadata": {},
   "source": [
    "### Ejercicio realizado por el profesor\n",
    "\n",
    "Supongamos que deseamos evaluar la función:\n",
    "\n",
    "$$\\sqrt{x^2 + y^2}$$ \n",
    "\n",
    "a través de una cuadrícula regular de valores. La función np.meshgrid toma dos matrices 1D y produce dos matrices 2D correspondientes a todos los pares de (x, y) en las dos matrices:"
   ]
  },
  {
   "cell_type": "code",
   "execution_count": 20,
   "metadata": {},
   "outputs": [
    {
     "data": {
      "text/plain": [
       "(array([[-5. , -4.9, -4.8, ...,  4.7,  4.8,  4.9],\n",
       "        [-5. , -4.9, -4.8, ...,  4.7,  4.8,  4.9],\n",
       "        [-5. , -4.9, -4.8, ...,  4.7,  4.8,  4.9],\n",
       "        ...,\n",
       "        [-5. , -4.9, -4.8, ...,  4.7,  4.8,  4.9],\n",
       "        [-5. , -4.9, -4.8, ...,  4.7,  4.8,  4.9],\n",
       "        [-5. , -4.9, -4.8, ...,  4.7,  4.8,  4.9]]),\n",
       " array([[-5. , -5. , -5. , ..., -5. , -5. , -5. ],\n",
       "        [-4.9, -4.9, -4.9, ..., -4.9, -4.9, -4.9],\n",
       "        [-4.8, -4.8, -4.8, ..., -4.8, -4.8, -4.8],\n",
       "        ...,\n",
       "        [ 4.7,  4.7,  4.7, ...,  4.7,  4.7,  4.7],\n",
       "        [ 4.8,  4.8,  4.8, ...,  4.8,  4.8,  4.8],\n",
       "        [ 4.9,  4.9,  4.9, ...,  4.9,  4.9,  4.9]]))"
      ]
     },
     "execution_count": 20,
     "metadata": {},
     "output_type": "execute_result"
    }
   ],
   "source": [
    "datos = np.arange(-5, 5, 0.1) # 1000 equally spaced points\n",
    "x, y = np.meshgrid(datos, datos) \n",
    "# np.meshgrid devuelve una lista de matrices de coordenadas a partir de vectores de coordenadas.\n",
    "\n",
    "x, y"
   ]
  },
  {
   "cell_type": "code",
   "execution_count": null,
   "metadata": {},
   "outputs": [],
   "source": []
  },
  {
   "cell_type": "code",
   "execution_count": 22,
   "metadata": {
    "scrolled": true
   },
   "outputs": [
    {
     "data": {
      "image/png": "[encoded data removed]",
      "text/plain": [
       "<Figure size 432x288 with 2 Axes>"
      ]
     },
     "metadata": {
      "needs_background": "light"
     },
     "output_type": "display_data"
    }
   ],
   "source": [
    "plt.______(z, cmap=plt.cm.______)\n",
    "plt.______(\"Imágen de $\\sqrt{x^2 + y^2}$ para una cuadrícula de valores\")\n",
    "plt.______();"
   ]
  },
  {
   "cell_type": "markdown",
   "metadata": {},
   "source": [
    "### Ejercicio realizado por el alumno\n",
    "\n",
    "Evaluar la función:\n",
    "\n",
    "$$\\sin(x)^{10} + \\cos(10 + yx) \\cos(x)$$\n",
    "\n",
    "Empleando las mismas coordenadas de x y y; adicionalmente, aplique una barra de color diferente para el plot."
   ]
  },
  {
   "cell_type": "code",
   "execution_count": null,
   "metadata": {},
   "outputs": [],
   "source": []
  }
 ],
 "metadata": {
  "kernelspec": {
   "display_name": "Python 3",
   "language": "python",
   "name": "python3"
  },
  "language_info": {
   "codemirror_mode": {
    "name": "ipython",
    "version": 3
   },
   "file_extension": ".py",
   "mimetype": "text/x-python",
   "name": "python",
   "nbconvert_exporter": "python",
   "pygments_lexer": "ipython3",
   "version": "3.8.5"
  }
 },
 "nbformat": 4,
 "nbformat_minor": 2
}
