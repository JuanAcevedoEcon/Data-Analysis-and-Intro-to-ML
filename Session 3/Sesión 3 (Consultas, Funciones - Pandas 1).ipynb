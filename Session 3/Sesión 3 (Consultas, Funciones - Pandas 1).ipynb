{
 "cells": [
  {
   "cell_type": "markdown",
   "id": "19fb2c6e",
   "metadata": {
    "id": "19fb2c6e"
   },
   "source": [
    "### 1.) Indexación y selección de datos"
   ]
  },
  {
   "cell_type": "code",
   "execution_count": null,
   "id": "c2690afb",
   "metadata": {
    "id": "c2690afb"
   },
   "outputs": [],
   "source": [
    "import numpy as np\n",
    "import pandas as pd"
   ]
  },
  {
   "cell_type": "markdown",
   "id": "46ef74b1",
   "metadata": {
    "id": "46ef74b1"
   },
   "source": [
    "##### Selección de datos en una serie\n",
    "Como en un diccionario, el objeto Serie proporciona un mapeo de una colección de claves a una colección de valores:"
   ]
  },
  {
   "cell_type": "code",
   "execution_count": null,
   "id": "52070c08",
   "metadata": {
    "id": "52070c08",
    "outputId": "e468467f-7b05-45d2-8653-941b0ed70707"
   },
   "outputs": [],
   "source": [
    "data = pd.Series([0.25, 0.5, 0.75, 1.0],\n",
    "                 index=[\"a\", \"b\", \"c\", \"d\"])\n",
    "data"
   ]
  },
  {
   "cell_type": "code",
   "execution_count": null,
   "id": "ccdc484d",
   "metadata": {},
   "outputs": [],
   "source": []
  },
  {
   "cell_type": "markdown",
   "id": "fcff4e6d",
   "metadata": {
    "id": "fcff4e6d"
   },
   "source": [
    "Los objetos de serie pueden incluso modificarse con una sintaxis similar a la de un diccionario."
   ]
  },
  {
   "cell_type": "code",
   "execution_count": null,
   "id": "9788ccce",
   "metadata": {},
   "outputs": [],
   "source": []
  },
  {
   "cell_type": "markdown",
   "id": "d695e89f",
   "metadata": {
    "id": "d695e89f"
   },
   "source": [
    "Una serie se basa en esta interfaz similar a un diccionario y proporciona una selección de elementos de estilo de matriz a través de los mismos mecanismos básicos que de NumPy."
   ]
  },
  {
   "cell_type": "code",
   "execution_count": null,
   "id": "bfc9a2ee",
   "metadata": {},
   "outputs": [],
   "source": []
  },
  {
   "cell_type": "markdown",
   "id": "843ec845",
   "metadata": {
    "id": "843ec845"
   },
   "source": [
    "###### Indexadores: loc, iloc y ix"
   ]
  },
  {
   "cell_type": "code",
   "execution_count": null,
   "id": "f88f0c37",
   "metadata": {
    "colab": {
     "base_uri": "https://localhost:8080/"
    },
    "executionInfo": {
     "elapsed": 203,
     "status": "ok",
     "timestamp": 1654270211697,
     "user": {
      "displayName": "Sergio Alejandro Rubiano Bautista",
      "userId": "01038833732093453652"
     },
     "user_tz": 300
    },
    "id": "f88f0c37",
    "outputId": "a0e1c200-db05-436e-c874-9d09603258eb",
    "scrolled": true
   },
   "outputs": [],
   "source": [
    "data = pd.Series([\"a\", \"b\", \"c\"], index=[1,3,5])\n",
    "data"
   ]
  },
  {
   "cell_type": "code",
   "execution_count": null,
   "id": "26123481",
   "metadata": {},
   "outputs": [],
   "source": []
  },
  {
   "cell_type": "markdown",
   "id": "b2afec25",
   "metadata": {
    "id": "b2afec25"
   },
   "source": [
    "- Primero, el atributo **loc** permite la indexación y la segmentación haciendo referencia al __índice explícito__:"
   ]
  },
  {
   "cell_type": "code",
   "execution_count": null,
   "id": "357ff2db",
   "metadata": {},
   "outputs": [],
   "source": []
  },
  {
   "cell_type": "markdown",
   "id": "dacb5cd5",
   "metadata": {
    "id": "dacb5cd5"
   },
   "source": [
    "- El atributo __iloc__ permite la indexación y la segmentación haciendo referencia al __índice implícito__ del estilo Python:"
   ]
  },
  {
   "cell_type": "code",
   "execution_count": null,
   "id": "3018a186",
   "metadata": {},
   "outputs": [],
   "source": []
  },
  {
   "cell_type": "markdown",
   "id": "2070be20",
   "metadata": {
    "id": "2070be20"
   },
   "source": [
    "Un tercer atributo de indexación, **ix**, es un híbrido de los dos, y para los objetos Series es equivalente a la indexación estándar basada en [ ]. El propósito del indexador ix se hará más evidente en el contexto de los objetos DataFrame, que discutiremos en un momento."
   ]
  },
  {
   "cell_type": "markdown",
   "id": "c5d675fe",
   "metadata": {
    "id": "c5d675fe"
   },
   "source": [
    "##### Selección de datos en un DataFrame\n",
    "Recuerde que un DataFrame actúa en muchos aspectos como una matriz bidimensional o estructurada y, en otros, como un diccionario de estructuras de series que comparten el mismo índice."
   ]
  },
  {
   "cell_type": "code",
   "execution_count": null,
   "id": "f53f2e47",
   "metadata": {
    "colab": {
     "base_uri": "https://localhost:8080/",
     "height": 238
    },
    "executionInfo": {
     "elapsed": 236,
     "status": "ok",
     "timestamp": 1654270553967,
     "user": {
      "displayName": "Sergio Alejandro Rubiano Bautista",
      "userId": "01038833732093453652"
     },
     "user_tz": 300
    },
    "id": "f53f2e47",
    "outputId": "6fc2b05f-aa2b-4ff0-b715-33e3ff0225d0",
    "scrolled": true
   },
   "outputs": [],
   "source": [
    "data = {\"state\": [\"Ohio\", \"Ohio\", \"Ohio\", \"Nevada\", \"Nevada\", \"Nevada\"],\n",
    " \"year\": [2000, 2001, 2002, 2001, 2002, 2003],\n",
    " \"pop\": [1.5, 1.7, 3.6, 2.4, 2.9, 3.2]}\n",
    "\n",
    "frame = pd.DataFrame(data)\n",
    "frame"
   ]
  },
  {
   "cell_type": "code",
   "execution_count": null,
   "id": "e83a81d3",
   "metadata": {},
   "outputs": [],
   "source": []
  },
  {
   "cell_type": "code",
   "execution_count": null,
   "id": "8b444664",
   "metadata": {
    "colab": {
     "base_uri": "https://localhost:8080/",
     "height": 238
    },
    "executionInfo": {
     "elapsed": 3,
     "status": "ok",
     "timestamp": 1654270554800,
     "user": {
      "displayName": "Sergio Alejandro Rubiano Bautista",
      "userId": "01038833732093453652"
     },
     "user_tz": 300
    },
    "id": "8b444664",
    "outputId": "534d4103-3e87-460a-eeae-0c684405fbca"
   },
   "outputs": [],
   "source": [
    "frame2 = pd.DataFrame(data, _________ = [\"year\", \"state\", \"pop\", \"debt\"], \n",
    "                      ______ = [\"one\", \"two\", \"three\", \"four\",\"five\", \"six\"]) \n",
    "\n",
    "frame2"
   ]
  },
  {
   "cell_type": "markdown",
   "id": "20e3298b",
   "metadata": {
    "id": "20e3298b"
   },
   "source": [
    "##### Consultar Columnas\n",
    "Una columna en un DataFrame se puede recuperar como una Serie ya sea por notación similar a un diccionario o por atributo:"
   ]
  },
  {
   "cell_type": "code",
   "execution_count": null,
   "id": "3bb4d3c6",
   "metadata": {},
   "outputs": [],
   "source": []
  },
  {
   "cell_type": "markdown",
   "id": "bc6d9fea",
   "metadata": {
    "id": "bc6d9fea"
   },
   "source": [
    "##### Consultar Filas\n",
    "\n",
    "Las filas se pueden recuperar por posición mediante _iloc_ o con el índice explícito empleando el atributo especial _loc_ :"
   ]
  },
  {
   "cell_type": "code",
   "execution_count": null,
   "id": "acc59345",
   "metadata": {},
   "outputs": [],
   "source": []
  },
  {
   "cell_type": "markdown",
   "id": "cab1b5ac",
   "metadata": {
    "id": "cab1b5ac"
   },
   "source": [
    "### 2) Modificaciones básicas en bases de datos"
   ]
  },
  {
   "cell_type": "code",
   "execution_count": null,
   "id": "96ff1c2c",
   "metadata": {},
   "outputs": [],
   "source": []
  },
  {
   "cell_type": "code",
   "execution_count": null,
   "id": "925e8119",
   "metadata": {
    "colab": {
     "base_uri": "https://localhost:8080/",
     "height": 238
    },
    "executionInfo": {
     "elapsed": 195,
     "status": "ok",
     "timestamp": 1654270558702,
     "user": {
      "displayName": "Sergio Alejandro Rubiano Bautista",
      "userId": "01038833732093453652"
     },
     "user_tz": 300
    },
    "id": "925e8119",
    "outputId": "5e9abf48-53ea-42e7-b6b0-35cd7e7a763a"
   },
   "outputs": [],
   "source": [
    "# Podemos crear una columna vacía\n",
    "frame2 = pd.DataFrame(data, columns=[\"year\", \"state\", \"pop\", \"debt\"],\n",
    "                      index=[\"one\", \"two\", \"three\", \"four\",\"five\", \"six\"])\n",
    "frame2"
   ]
  },
  {
   "cell_type": "code",
   "execution_count": null,
   "id": "87871214",
   "metadata": {},
   "outputs": [],
   "source": []
  },
  {
   "cell_type": "markdown",
   "id": "ea73de4b",
   "metadata": {
    "id": "ea73de4b"
   },
   "source": [
    "Cuando está asignando listas o matrices a una columna, la longitud del valor debe coincidir con la\n",
    "longitud de la trama de datos. Si asigna una serie, sus etiquetas se realinearán exactamente para\n",
    "el índice de DataFrame, insertando valores faltantes en cualquier agujero:"
   ]
  },
  {
   "cell_type": "code",
   "execution_count": null,
   "id": "fa4c06e6",
   "metadata": {
    "colab": {
     "base_uri": "https://localhost:8080/"
    },
    "executionInfo": {
     "elapsed": 177,
     "status": "ok",
     "timestamp": 1654270561135,
     "user": {
      "displayName": "Sergio Alejandro Rubiano Bautista",
      "userId": "01038833732093453652"
     },
     "user_tz": 300
    },
    "id": "fa4c06e6",
    "outputId": "1aaac605-90c2-4a17-a017-6e6e8de015c7"
   },
   "outputs": [],
   "source": [
    "val = pd.Series([-1.2, -1.5, -1.7], index=[\"two\", \"four\", \"five\"])\n",
    "val"
   ]
  },
  {
   "cell_type": "code",
   "execution_count": null,
   "id": "01cd4182",
   "metadata": {},
   "outputs": [],
   "source": []
  },
  {
   "cell_type": "markdown",
   "id": "fb1910ac",
   "metadata": {
    "id": "fb1910ac"
   },
   "source": [
    "Un DF es una matriz 2D"
   ]
  },
  {
   "cell_type": "code",
   "execution_count": null,
   "id": "d52f9c97",
   "metadata": {},
   "outputs": [],
   "source": []
  },
  {
   "cell_type": "markdown",
   "id": "6b3dda02",
   "metadata": {
    "id": "6b3dda02"
   },
   "source": [
    "### Operaciones aritméticas\n",
    "\n",
    "Una característica importante de Pandas para algunas aplicaciones es el comportamiento aritmético entre objetos con diferentes índices. Cuando está sumando objetos, si algún par de índices no es el mismo, el índice respectivo en el resultado será la unión de los pares de índices. Para los usuarios con experiencia en bases de datos, esto es similar a una unión externa (outer join) automática en las etiquetas de índice. Veamos un ejemplo:"
   ]
  },
  {
   "cell_type": "code",
   "execution_count": null,
   "id": "77c454e8",
   "metadata": {
    "id": "77c454e8",
    "outputId": "55d411d6-999d-4b7f-a9fd-9ec383eaac9e"
   },
   "outputs": [],
   "source": [
    "s1 = pd.Series([7.3, -2.5, 3.4, 1.5], index=[\"a\", \"c\", \"d\", \"e\"])\n",
    "s2 = pd.Series([-2.1, 3.6, -1.5, 4, 3.1], index=[\"a\", \"c\", \"e\", \"f\", \"g\"])\n",
    "print(s1, \"\\n\\n\",s2)"
   ]
  },
  {
   "cell_type": "code",
   "execution_count": null,
   "id": "35a576ff",
   "metadata": {},
   "outputs": [],
   "source": []
  },
  {
   "cell_type": "code",
   "execution_count": null,
   "id": "8c4b1b35",
   "metadata": {
    "id": "8c4b1b35",
    "outputId": "1fc860f1-bd36-4ed9-ea6b-47c2fff1dbff"
   },
   "outputs": [],
   "source": [
    "df1 = pd.DataFrame(np.arange(9.).reshape((3, 3)), columns=list(\"bcd\"), \n",
    "                   index=[\"Ohio\", \"Texas\", \"Colorado\"])\n",
    "df2 = pd.DataFrame(np.arange(12.).reshape((4, 3)), columns=list(\"bde\"),\n",
    "                   index=[\"Utah\", \"Ohio\", \"Texas\", \"Oregon\"])\n",
    "\n",
    "df1"
   ]
  },
  {
   "cell_type": "code",
   "execution_count": null,
   "id": "fe271941",
   "metadata": {
    "id": "fe271941",
    "outputId": "53037a0d-d4a4-4f58-b310-7771c0ed0b11",
    "scrolled": true
   },
   "outputs": [],
   "source": [
    "df2"
   ]
  },
  {
   "cell_type": "code",
   "execution_count": null,
   "id": "1024aeff",
   "metadata": {},
   "outputs": [],
   "source": []
  },
  {
   "cell_type": "markdown",
   "id": "d188a9f4",
   "metadata": {
    "id": "d188a9f4"
   },
   "source": [
    "### Funciones esenciales\n",
    "\n",
    "Tras comprender la indexación de una serie y un DF, es relevante tener la capacidad de realizar modificaciones a los índices. Un método importante en los objetos pandas es **reindexar**, lo que significa crear un nuevo objeto con los datos conformes a un nuevo índice. Considere un ejemplo:"
   ]
  },
  {
   "cell_type": "code",
   "execution_count": null,
   "id": "86b9532c",
   "metadata": {
    "id": "86b9532c",
    "outputId": "637aebe3-3461-40b0-eefa-61f77c22fb70"
   },
   "outputs": [],
   "source": [
    "obj = pd.Series([4.5, 7.2, -5.3, 3.6], index=[\"d\", \"b\", \"a\", \"c\"])\n",
    "obj"
   ]
  },
  {
   "cell_type": "code",
   "execution_count": null,
   "id": "5f5870b4",
   "metadata": {
    "id": "5f5870b4",
    "outputId": "33317d76-81e6-4156-bd03-83a5baa4280d"
   },
   "outputs": [],
   "source": [
    "obj2 = obj._________([\"a\", \"b\", \"c\", \"d\", \"e\"])\n",
    "obj2"
   ]
  },
  {
   "cell_type": "markdown",
   "id": "2f4b8593",
   "metadata": {
    "id": "2f4b8593"
   },
   "source": [
    "Para datos ordenados como series de tiempo, puede ser deseable hacer alguna interpolación o completar valores al reindexar. La opción de método nos permite hacer esto, usando un método como ffill, que repite el valor de la fila previa:"
   ]
  },
  {
   "cell_type": "code",
   "execution_count": null,
   "id": "67729baf",
   "metadata": {
    "id": "67729baf",
    "outputId": "2c54918b-5da7-45ad-bb09-21e946acd62a"
   },
   "outputs": [],
   "source": [
    "obj3 = pd.Series([4053.93, 4056.41, 4004.07], index=[0, 2, 4])\n",
    "obj3 "
   ]
  },
  {
   "cell_type": "code",
   "execution_count": null,
   "id": "813ace34",
   "metadata": {
    "id": "813ace34",
    "outputId": "629fc78b-14cb-4b77-b6c9-f36fae871023"
   },
   "outputs": [],
   "source": [
    "obj3._________(range(6), _________=\"ffill\")"
   ]
  },
  {
   "cell_type": "markdown",
   "id": "cd368614",
   "metadata": {
    "id": "cd368614"
   },
   "source": [
    "Con DataFrame, la reindexación puede modificar el índice (fila), las columnas o ambos. Cuando se pasa solo una secuencia, vuelve a indexar las filas en el resultado:"
   ]
  },
  {
   "cell_type": "code",
   "execution_count": null,
   "id": "65a0de77",
   "metadata": {
    "id": "65a0de77",
    "outputId": "3ef9964d-a48e-45a6-cb67-bd419f6e3017"
   },
   "outputs": [],
   "source": [
    "frame = pd.DataFrame(np.arange(9).reshape((3, 3)), index=[\"a\", \"c\", \"d\"], \n",
    "                     columns=[\"Ohio\", \"Texas\", \"California\"])\n",
    "frame"
   ]
  },
  {
   "cell_type": "code",
   "execution_count": null,
   "id": "5fbcba4b",
   "metadata": {},
   "outputs": [],
   "source": []
  },
  {
   "cell_type": "code",
   "execution_count": null,
   "id": "766ef515",
   "metadata": {
    "id": "766ef515",
    "outputId": "2411c189-129b-4e6e-ea84-4a1f258a5d65"
   },
   "outputs": [],
   "source": [
    "obj = pd.Series(np.arange(5.), index=[\"a\", \"b\", \"c\", \"d\", \"e\"])\n",
    "obj"
   ]
  },
  {
   "cell_type": "code",
   "execution_count": null,
   "id": "99ecd327",
   "metadata": {
    "id": "99ecd327",
    "outputId": "9165748a-1960-4f48-e454-3703f5af9fb1"
   },
   "outputs": [],
   "source": [
    "new_obj = obj._____(\"c\")\n",
    "new_obj"
   ]
  },
  {
   "cell_type": "code",
   "execution_count": null,
   "id": "9c74c379",
   "metadata": {
    "id": "9c74c379",
    "outputId": "e4f9a864-67cb-4fc7-ab54-e42ecc64fc69"
   },
   "outputs": [],
   "source": [
    "data = pd.DataFrame(np.arange(16).reshape((4, 4)), index=[\"Ohio\", \"Colorado\", \"Utah\", \"New York\"],\n",
    "                    columns=[\"one\", \"two\", \"three\", \"four\"])\n",
    "data"
   ]
  },
  {
   "cell_type": "code",
   "execution_count": null,
   "id": "0d79dec0",
   "metadata": {},
   "outputs": [],
   "source": []
  },
  {
   "cell_type": "markdown",
   "id": "a5c657ca",
   "metadata": {
    "id": "a5c657ca"
   },
   "source": [
    "### 3) Ufuncs en Pandas\n",
    "Porque Pandas está diseñado para funcionar con NumPy, y NumPy ufunc funcionará en objetos Pandas Series y DataFrame."
   ]
  },
  {
   "cell_type": "code",
   "execution_count": null,
   "id": "7bdc89d3",
   "metadata": {
    "id": "7bdc89d3",
    "outputId": "aa6d549c-dd55-4c6b-805c-b4baea6c80b0"
   },
   "outputs": [],
   "source": [
    "rng = np.random.RandomState(42)\n",
    "ser = pd.Series(rng.randint(0, 10, 4))\n",
    "ser"
   ]
  },
  {
   "cell_type": "code",
   "execution_count": null,
   "id": "caa2df0a",
   "metadata": {
    "id": "caa2df0a",
    "outputId": "3498f59e-329c-4d80-e036-59aff9f1c2ae"
   },
   "outputs": [],
   "source": [
    "df = pd.DataFrame(rng.randint(0, 10, (3, 4)),\n",
    "columns=[\"A\", \"B\", \"C\", \"D\"])\n",
    "df"
   ]
  },
  {
   "cell_type": "code",
   "execution_count": null,
   "id": "b1aeb6c1",
   "metadata": {},
   "outputs": [],
   "source": []
  },
  {
   "cell_type": "code",
   "execution_count": null,
   "id": "216ba367",
   "metadata": {
    "id": "216ba367"
   },
   "outputs": [],
   "source": [
    "area = pd.Series({\"Alaska\": 1723337, \"Texas\": 695662, \"California\": 423967}, name=\"area\")\n",
    "population = pd.Series({\"California\": 38332521, \"Texas\": 26448193, \n",
    "                        \"New York\": 19651127}, name=\"population\")"
   ]
  },
  {
   "cell_type": "code",
   "execution_count": null,
   "id": "75a01e9b",
   "metadata": {},
   "outputs": [],
   "source": []
  },
  {
   "cell_type": "markdown",
   "id": "6db8e685",
   "metadata": {
    "id": "6db8e685"
   },
   "source": [
    "Cualquier elemento para el que uno u otro no tenga una entrada se marca con NaN, o \"No es un número\", que es como Pandas marca los datos faltantes (tema que discutiremos en la próxima sesión)."
   ]
  },
  {
   "cell_type": "code",
   "execution_count": null,
   "id": "c1eacc45",
   "metadata": {
    "id": "c1eacc45",
    "outputId": "92fc361d-792e-4166-8a4f-96042d0d25a9"
   },
   "outputs": [],
   "source": [
    "A = pd.Series([2, 4, 6], index=[0, 1, 2])\n",
    "B = pd.Series([1, 3, 5], index=[1, 2, 3])"
   ]
  },
  {
   "cell_type": "code",
   "execution_count": null,
   "id": "560ac3d4",
   "metadata": {
    "id": "560ac3d4",
    "outputId": "30ed4144-78a6-465c-e715-98630ab21687"
   },
   "outputs": [],
   "source": [
    "A.___(B, _________=0)"
   ]
  },
  {
   "cell_type": "code",
   "execution_count": null,
   "id": "f108b994",
   "metadata": {
    "id": "f108b994",
    "outputId": "3629579e-c229-4de3-a8b5-67d1971d6bf6"
   },
   "outputs": [],
   "source": [
    "# Algo similar para en los DF\n",
    "A = pd.DataFrame(rng.randint(0, 20, (2, 2)), columns=list(\"AB\"))\n",
    "A"
   ]
  },
  {
   "cell_type": "code",
   "execution_count": null,
   "id": "e59c811d",
   "metadata": {
    "id": "e59c811d",
    "outputId": "08babf9d-b176-42aa-a68b-4ab3df5df212"
   },
   "outputs": [],
   "source": [
    "B = pd.DataFrame(rng.randint(0, 10, (3, 3)), columns=list(\"BAC\"))\n",
    "B"
   ]
  }
 ],
 "metadata": {
  "colab": {
   "provenance": []
  },
  "kernelspec": {
   "display_name": "Python 3",
   "language": "python",
   "name": "python3"
  },
  "language_info": {
   "codemirror_mode": {
    "name": "ipython",
    "version": 3
   },
   "file_extension": ".py",
   "mimetype": "text/x-python",
   "name": "python",
   "nbconvert_exporter": "python",
   "pygments_lexer": "ipython3",
   "version": "3.8.5"
  }
 },
 "nbformat": 4,
 "nbformat_minor": 5
}
