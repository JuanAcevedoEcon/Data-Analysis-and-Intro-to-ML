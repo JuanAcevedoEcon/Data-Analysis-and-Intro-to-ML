{
 "cells": [
  {
   "cell_type": "markdown",
   "id": "7c9efd40",
   "metadata": {
    "id": "7c9efd40"
   },
   "source": [
    "### 1) Function Application and Mapping"
   ]
  },
  {
   "cell_type": "code",
   "execution_count": null,
   "id": "b20420ac",
   "metadata": {
    "id": "b20420ac"
   },
   "outputs": [],
   "source": [
    "import pandas as pd\n",
    "import numpy as np"
   ]
  },
  {
   "cell_type": "code",
   "execution_count": null,
   "id": "a5880543",
   "metadata": {
    "id": "a5880543",
    "outputId": "d32d64b0-b479-4ffb-a610-f824d3b1af5a"
   },
   "outputs": [],
   "source": [
    "frame = pd.DataFrame(np.random.randn(4, 3), columns=list(\"bde\"), index=[\"Utah\", \"Ohio\", \"Texas\", \"Oregon\"])\n",
    "frame"
   ]
  },
  {
   "cell_type": "code",
   "execution_count": null,
   "id": "a23cdca2",
   "metadata": {},
   "outputs": [],
   "source": []
  },
  {
   "cell_type": "markdown",
   "id": "8bfaae11",
   "metadata": {
    "id": "8bfaae11"
   },
   "source": [
    "Método apply"
   ]
  },
  {
   "cell_type": "code",
   "execution_count": null,
   "id": "11e3eae2",
   "metadata": {},
   "outputs": [],
   "source": []
  },
  {
   "cell_type": "markdown",
   "id": "3bdcc796",
   "metadata": {
    "id": "3bdcc796"
   },
   "source": [
    "La función pasada para aplicar no necesita devolver un valor escalar; también puede devolver una Serie\n",
    "con múltiples valores:"
   ]
  },
  {
   "cell_type": "code",
   "execution_count": null,
   "id": "7b5a8d72",
   "metadata": {
    "id": "7b5a8d72",
    "outputId": "056e850b-123c-47e8-ce79-4cb897f4f0f8"
   },
   "outputs": [],
   "source": []
  },
  {
   "cell_type": "markdown",
   "id": "4370d8e9",
   "metadata": {
    "id": "4370d8e9"
   },
   "source": [
    "También se pueden usar funciones de Python basadas en elementos. Método applymap."
   ]
  },
  {
   "cell_type": "code",
   "execution_count": null,
   "id": "759b2a30",
   "metadata": {},
   "outputs": [],
   "source": []
  },
  {
   "cell_type": "markdown",
   "id": "7229d48d",
   "metadata": {
    "id": "7229d48d"
   },
   "source": [
    "La función asociada con applymap() se aplica a todos los elementos del DataFrame dado y, por lo tanto, el método applymap() se define solo para DataFrames. De manera similar, la función asociada con el método apply() se puede aplicar a todos los elementos de DataFrame o Series, y por lo tanto, el método apply() se define para los objetos Series y DataFrame. El método map() solo se puede definir para objetos Series en Pandas.\n",
    "\n",
    "**Ejercicios prácticos para aplicar funciones a DF:**\n",
    "\n",
    "1. Dado el DataFrame, encuentre la forma más óptima de calcular la raíz de la columna experiencia (Exp) guardando el resultado en una nueva columna identificada con \"Sq Exp\"."
   ]
  },
  {
   "cell_type": "code",
   "execution_count": null,
   "id": "cc76a84e",
   "metadata": {
    "id": "cc76a84e",
    "outputId": "679b9946-e2e8-4cf2-8c84-1ea1e43b484c"
   },
   "outputs": [],
   "source": [
    "data = {\"Exp\":[4.4,1.0,2.2,5.5,6.9,10.2,1.1],\n",
    "       \"Educ\":[1,1,2,3,4,2,3],\n",
    "       \"W\":[100,200,130,120,120,400,200]}\n",
    "\n",
    "data = pd.DataFrame(data)\n",
    "data"
   ]
  },
  {
   "cell_type": "code",
   "execution_count": null,
   "id": "9625d5d1",
   "metadata": {},
   "outputs": [],
   "source": []
  },
  {
   "cell_type": "markdown",
   "id": "a330479e",
   "metadata": {
    "id": "a330479e"
   },
   "source": [
    "2. Modifique el formato de todos los datos del DF para que se encuentres redondeados sin parte decimal; por ejemplo, si aparece el número 4.4 debe quedar 4, si aparece 5.5 debe quedar 6."
   ]
  },
  {
   "cell_type": "code",
   "execution_count": null,
   "id": "01d21d40",
   "metadata": {},
   "outputs": [],
   "source": []
  },
  {
   "cell_type": "markdown",
   "id": "6c6ed806",
   "metadata": {
    "id": "6c6ed806"
   },
   "source": [
    "3. Empleando la función apply cree una función NO anónima (sin emplear lambda), que asigne en una nueva columna identificada como (\"Nivel Academico\"):\n",
    "- Si el valor en la columna Educ corresponde a 1 -> Primaria\n",
    "- Si el valor en la columna Educ corresponde a 2 -> Secundaria\n",
    "- Si el valor en la columna Educ corresponde a 3 -> Pregrado\n",
    "- Si el valor en la columna Educ corresponde a 4 -> Posgrado\n",
    "\n",
    "Nota: es posible realizar la función de asignación en dos líneas sin emplear condicional if ¿cómo lo lograría?"
   ]
  },
  {
   "cell_type": "code",
   "execution_count": null,
   "id": "f47410b8",
   "metadata": {},
   "outputs": [],
   "source": []
  },
  {
   "cell_type": "markdown",
   "id": "2fcceeeb",
   "metadata": {
    "id": "2fcceeeb"
   },
   "source": [
    "### 2.) Datos faltantes\n",
    "\n",
    "**None**"
   ]
  },
  {
   "cell_type": "code",
   "execution_count": null,
   "id": "abb8b8e7",
   "metadata": {
    "id": "abb8b8e7",
    "outputId": "06a92848-01dd-496c-929d-613aacc9ab55"
   },
   "outputs": [],
   "source": [
    "vals1 = np.array([1, None, 3, 4])\n",
    "vals1"
   ]
  },
  {
   "cell_type": "markdown",
   "id": "e165515d",
   "metadata": {
    "id": "e165515d"
   },
   "source": [
    "Cuando trabajamos con objetos de python (dtype = object)  cualquier operación en los datos se realizará en el nivel de Python, con mucha más sobrecarga que las operaciones típicamente rápidas que se ven para las matrices con tipos nativos:"
   ]
  },
  {
   "cell_type": "code",
   "execution_count": null,
   "id": "be5ac03c",
   "metadata": {
    "id": "be5ac03c",
    "outputId": "f941a5ed-e2e3-4438-cbe8-1bdc14b018cd",
    "scrolled": true
   },
   "outputs": [],
   "source": [
    "for dtype in [\"_______\", \"___\"]:\n",
    "    print(\"dtype =\", _____)\n",
    "    %timeit np.arange(1E6, dtype=_____).sum()\n",
    "    print()"
   ]
  },
  {
   "cell_type": "markdown",
   "id": "ce0d16be",
   "metadata": {
    "id": "ce0d16be"
   },
   "source": [
    "El uso de objetos de Python en una matriz también significa que si realiza agregaciones como sum() o min() en una matriz con un valor None, generalmente obtendrá un error:"
   ]
  },
  {
   "cell_type": "code",
   "execution_count": null,
   "id": "1f09587f",
   "metadata": {},
   "outputs": [],
   "source": []
  },
  {
   "cell_type": "markdown",
   "id": "7cf9d738",
   "metadata": {
    "id": "7cf9d738"
   },
   "source": [
    "**NaN**"
   ]
  },
  {
   "cell_type": "code",
   "execution_count": null,
   "id": "0887cc05",
   "metadata": {
    "id": "0887cc05",
    "outputId": "3cec5f0b-045c-4232-d1d3-24333d680b1a"
   },
   "outputs": [],
   "source": [
    "vals2 = np.array([1, np.nan, 3, 4])\n",
    "vals2.dtype"
   ]
  },
  {
   "cell_type": "markdown",
   "id": "c94b7305",
   "metadata": {
    "id": "c94b7305"
   },
   "source": [
    "Debe tener en cuenta que NaN es un poco como un virus de datos: infecta cualquier otro objeto que toca."
   ]
  },
  {
   "cell_type": "code",
   "execution_count": null,
   "id": "c5e18b45",
   "metadata": {},
   "outputs": [],
   "source": []
  },
  {
   "cell_type": "markdown",
   "id": "f6f51e0f",
   "metadata": {
    "id": "f6f51e0f"
   },
   "source": [
    "Tenga en cuenta que esto significa que los agregados sobre los valores están bien definidos (es decir, no dan como resultado un error) pero no siempre son útiles:"
   ]
  },
  {
   "cell_type": "code",
   "execution_count": null,
   "id": "dda6df46",
   "metadata": {
    "id": "dda6df46",
    "outputId": "b4979e20-6aed-4775-d362-1fd8aa43c979"
   },
   "outputs": [],
   "source": [
    "vals2._____, vals2._____, vals2._____"
   ]
  },
  {
   "cell_type": "markdown",
   "id": "05eef431",
   "metadata": {
    "id": "05eef431"
   },
   "source": [
    "NaN y None tienen su lugar, y Pandas está diseñado para manejarlos casi indistintamente, convirtiendo entre ellos cuando corresponda:"
   ]
  },
  {
   "cell_type": "code",
   "execution_count": null,
   "id": "c56282d5",
   "metadata": {
    "id": "c56282d5",
    "outputId": "787e0877-df8b-479e-c9ca-c84e7b870c38"
   },
   "outputs": [],
   "source": [
    "pd.Series([1, np.nan, 2, None])"
   ]
  },
  {
   "cell_type": "markdown",
   "id": "549af6f8",
   "metadata": {
    "id": "549af6f8"
   },
   "source": [
    "Por ejemplo, si establecemos un valor en una matriz de enteros en np.nan, se convertirá automáticamente a tipo float para acomodar el NA:"
   ]
  },
  {
   "cell_type": "code",
   "execution_count": null,
   "id": "987dba37",
   "metadata": {
    "id": "987dba37",
    "outputId": "5e07e9f8-09b8-4af2-f508-dabf542b5f59"
   },
   "outputs": [],
   "source": [
    "x = pd._____(range(2), _____=int)\n",
    "x"
   ]
  },
  {
   "cell_type": "code",
   "execution_count": null,
   "id": "2416bfc7",
   "metadata": {},
   "outputs": [],
   "source": []
  },
  {
   "cell_type": "markdown",
   "id": "b856b104",
   "metadata": {
    "id": "b856b104"
   },
   "source": [
    "#### Detectar valores nulos"
   ]
  },
  {
   "cell_type": "code",
   "execution_count": null,
   "id": "ead25452",
   "metadata": {
    "id": "ead25452",
    "outputId": "a304116a-cc7e-44e3-c304-14547612b191"
   },
   "outputs": [],
   "source": [
    "data = pd.Series([1, np.nan, \"hello\", None])\n",
    "data._____()"
   ]
  },
  {
   "cell_type": "code",
   "execution_count": null,
   "id": "dabc802e",
   "metadata": {},
   "outputs": [],
   "source": []
  },
  {
   "cell_type": "markdown",
   "id": "6e6a8f85",
   "metadata": {
    "id": "6e6a8f85"
   },
   "source": [
    "#### Borrar valores nulos"
   ]
  },
  {
   "cell_type": "code",
   "execution_count": null,
   "id": "1e5fc15f",
   "metadata": {},
   "outputs": [],
   "source": []
  },
  {
   "cell_type": "code",
   "execution_count": null,
   "id": "068726f3",
   "metadata": {
    "id": "068726f3",
    "outputId": "bf217cd9-e8ef-4bba-fba2-69f809aaca71"
   },
   "outputs": [],
   "source": [
    "df = pd.DataFrame([[1, np.nan, 2], [2, 3, 5], [np.nan, 4, 6]])\n",
    "df"
   ]
  },
  {
   "cell_type": "markdown",
   "id": "efaa0a60",
   "metadata": {
    "id": "efaa0a60"
   },
   "source": [
    "No podemos eliminar valores individuales de un DataFrame; solo podemos borrar filas completas o columnas completas."
   ]
  },
  {
   "cell_type": "code",
   "execution_count": null,
   "id": "b67e2037",
   "metadata": {},
   "outputs": [],
   "source": []
  },
  {
   "cell_type": "markdown",
   "id": "cd73f86e",
   "metadata": {
    "id": "cd73f86e"
   },
   "source": [
    "Es posible que le interese colocar filas o columnas con todos los valores NA, o la mayoría de los valores NA."
   ]
  },
  {
   "cell_type": "code",
   "execution_count": null,
   "id": "8668e52c",
   "metadata": {},
   "outputs": [],
   "source": []
  },
  {
   "cell_type": "markdown",
   "id": "472a8bb5",
   "metadata": {
    "id": "472a8bb5"
   },
   "source": [
    "#### Relleno de valores nulos\n",
    "\n",
    "A veces, en lugar de eliminar los valores de NA, prefiere reemplazarlos con un valor válido."
   ]
  },
  {
   "cell_type": "code",
   "execution_count": null,
   "id": "852d58b8",
   "metadata": {
    "id": "852d58b8",
    "outputId": "65434bf1-cce5-40c3-b69f-aebce8e388b7"
   },
   "outputs": [],
   "source": [
    "data = pd.Series([1, np.nan, 2, None, 3], index=list(\"abcde\"))\n",
    "data"
   ]
  },
  {
   "cell_type": "code",
   "execution_count": null,
   "id": "73645513",
   "metadata": {
    "id": "73645513",
    "outputId": "ff6f8c65-8cd6-46b1-9141-fe077e2c26c5"
   },
   "outputs": [],
   "source": [
    "data.__________(0)"
   ]
  },
  {
   "cell_type": "code",
   "execution_count": null,
   "id": "83ff1fdc",
   "metadata": {},
   "outputs": [],
   "source": []
  },
  {
   "cell_type": "markdown",
   "id": "7e337849",
   "metadata": {
    "id": "7e337849"
   },
   "source": [
    "Para DataFrames, las opciones son similares:"
   ]
  },
  {
   "cell_type": "code",
   "execution_count": null,
   "id": "87184ae3",
   "metadata": {
    "id": "87184ae3",
    "outputId": "08d23b72-cd4c-4e9c-abc9-eae2d7ec23b0"
   },
   "outputs": [],
   "source": [
    "df"
   ]
  },
  {
   "cell_type": "code",
   "execution_count": null,
   "id": "e4ccae84",
   "metadata": {},
   "outputs": [],
   "source": []
  },
  {
   "cell_type": "code",
   "execution_count": null,
   "id": "693f602d",
   "metadata": {
    "id": "693f602d",
    "outputId": "d686a1b2-804e-4a12-bac4-b73f83e47929"
   },
   "outputs": [],
   "source": [
    "df = pd.DataFrame(np.random.randn(7, 3))\n",
    "df"
   ]
  },
  {
   "cell_type": "code",
   "execution_count": null,
   "id": "6dc5a67f",
   "metadata": {
    "id": "6dc5a67f",
    "outputId": "c08d136d-8b21-48bb-f1aa-051b62c337e1"
   },
   "outputs": [],
   "source": [
    "df.iloc[:4, 1] = np.nan\n",
    "df.iloc[:2, 2] = np.nan\n",
    "\n",
    "df"
   ]
  },
  {
   "cell_type": "code",
   "execution_count": null,
   "id": "2f63ce39",
   "metadata": {},
   "outputs": [],
   "source": []
  },
  {
   "cell_type": "markdown",
   "id": "87c8819e",
   "metadata": {
    "id": "87c8819e"
   },
   "source": [
    "#### Ejercicios de Valores Nulos\n",
    "\n",
    "1.) Reemplace los valores de la siguiente serie con el promedio. Tenga en cuenta que, normalmente es esto lo que ocurre. "
   ]
  },
  {
   "cell_type": "code",
   "execution_count": null,
   "id": "a30410b4",
   "metadata": {
    "id": "a30410b4",
    "outputId": "07c65fb2-e53c-4554-e4ce-a6c88299d6cd"
   },
   "outputs": [],
   "source": [
    "data = pd.Series([1., np.nan, 3.5, np.nan, 7])\n",
    "data"
   ]
  },
  {
   "cell_type": "code",
   "execution_count": null,
   "id": "eedd9e70",
   "metadata": {},
   "outputs": [],
   "source": []
  },
  {
   "cell_type": "markdown",
   "id": "f76f2d5c",
   "metadata": {
    "id": "f76f2d5c"
   },
   "source": [
    "2.) Seleccione únicamente aquellas filas que tengan 2 o más datos no nulos."
   ]
  },
  {
   "cell_type": "code",
   "execution_count": null,
   "id": "96838070",
   "metadata": {
    "id": "96838070",
    "outputId": "11902d0b-cdf7-460a-ce3e-9dc9e2a0cd5c"
   },
   "outputs": [],
   "source": [
    "df = pd.DataFrame({\"A\":[1,2,np.nan],\n",
    "                  \"B\":[5,np.nan,np.nan],\n",
    "                  \"C\":[1,2,3]})\n",
    "df"
   ]
  },
  {
   "cell_type": "code",
   "execution_count": null,
   "id": "3d3f7c1d",
   "metadata": {},
   "outputs": [],
   "source": []
  },
  {
   "cell_type": "markdown",
   "id": "28e4487e",
   "metadata": {
    "id": "28e4487e"
   },
   "source": [
    "### 3.) Datos duplicados "
   ]
  },
  {
   "cell_type": "code",
   "execution_count": null,
   "id": "e0516180",
   "metadata": {
    "id": "e0516180",
    "outputId": "df2d1156-c58b-4686-d3c4-50df10510304"
   },
   "outputs": [],
   "source": [
    "data = pd.DataFrame({\"k1\": [\"one\", \"two\"] * 3 + [\"two\"], \"k2\": [1, 1, 2, 3, 3, 4, 4]})\n",
    "data"
   ]
  },
  {
   "cell_type": "code",
   "execution_count": null,
   "id": "c1944994",
   "metadata": {},
   "outputs": [],
   "source": []
  },
  {
   "cell_type": "markdown",
   "id": "83b5802b",
   "metadata": {
    "id": "83b5802b"
   },
   "source": [
    "#### Ejercicio datos duplicados"
   ]
  },
  {
   "cell_type": "code",
   "execution_count": null,
   "id": "4823f1d2",
   "metadata": {
    "id": "4823f1d2",
    "outputId": "a11f972c-1180-4ec2-f4ca-2818c616eed8"
   },
   "outputs": [],
   "source": [
    "data = {\"id\": [1, 2, 3, 4, 5, 6, 7, 7],\n",
    "        \"first_name\": [\"Sigrid\", \"Kennedy\", \"Theodoric\", \"Sigrid\", \"Kennedy\", \"Beatrix\", \"Olimpia\", \"Olimpia\"],\n",
    "        \"last_name\": [\"Mannock\", \"Donnell\", \"Rivers\", \"Mannock\", \"Donnell\", \"Parlett\", \"Guenther\", \"Guenther\"],\n",
    "        \"age\": [27, 31, 36, 27, 53, 48, 36, 36],\n",
    "        \"amount\": [7.17, 1.90, 1.11, 7.17, 1.41, 6.69, 4.62, 4.62]}\n",
    "df = pd.DataFrame(data, columns = [\"id\", \"first_name\", \"last_name\", \"age\", \"amount\"])\n",
    "df"
   ]
  },
  {
   "cell_type": "markdown",
   "id": "9bb584c1",
   "metadata": {
    "id": "9bb584c1"
   },
   "source": [
    "1.) ¿Cuántos registros se encuentran totalmente duplicados?"
   ]
  },
  {
   "cell_type": "code",
   "execution_count": null,
   "id": "6ee75ff1",
   "metadata": {},
   "outputs": [],
   "source": []
  },
  {
   "cell_type": "markdown",
   "id": "07687b81",
   "metadata": {
    "id": "07687b81"
   },
   "source": [
    "2) Elimine los registros duplicados"
   ]
  },
  {
   "cell_type": "code",
   "execution_count": null,
   "id": "33998701",
   "metadata": {},
   "outputs": [],
   "source": []
  }
 ],
 "metadata": {
  "colab": {
   "provenance": []
  },
  "kernelspec": {
   "display_name": "Python 3",
   "language": "python",
   "name": "python3"
  },
  "language_info": {
   "codemirror_mode": {
    "name": "ipython",
    "version": 3
   },
   "file_extension": ".py",
   "mimetype": "text/x-python",
   "name": "python",
   "nbconvert_exporter": "python",
   "pygments_lexer": "ipython3",
   "version": "3.8.5"
  }
 },
 "nbformat": 4,
 "nbformat_minor": 5
}
