{
 "cells": [
  {
   "cell_type": "markdown",
   "id": "481e3f1c",
   "metadata": {
    "id": "481e3f1c"
   },
   "source": [
    "### 1.) Gestión de datos (combinar y unir)\n",
    "\n",
    "Las operaciones de *merge* o *join* combinan conjuntos de datos al vincular filas usando una o más claves. Estas operaciones son fundamentales para las bases de datos relacionales (por ejemplo, basadas en SQL). La función *merge* en pandas es el principal punto de entrada para usar estos algoritmos en sus datos."
   ]
  },
  {
   "cell_type": "code",
   "execution_count": null,
   "id": "df85af8b",
   "metadata": {
    "id": "df85af8b"
   },
   "outputs": [],
   "source": [
    "import pandas as pd\n",
    "import numpy as np"
   ]
  },
  {
   "cell_type": "markdown",
   "id": "df635c89",
   "metadata": {
    "id": "df635c89"
   },
   "source": [
    "**merge**"
   ]
  },
  {
   "cell_type": "code",
   "execution_count": null,
   "id": "8a074148",
   "metadata": {
    "id": "8a074148",
    "outputId": "d227c632-8f95-4c55-8328-18ebf4aebd4f"
   },
   "outputs": [],
   "source": [
    "df1 = pd.DataFrame({\"key\": [\"b\", \"b\", \"a\", \"c\", \"a\", \"a\", \"b\"], \"data1\": range(7)})\n",
    "df2 = pd.DataFrame({\"key\": [\"a\", \"b\", \"d\"], \"data2\": range(3)})\n",
    "\n",
    "df1"
   ]
  },
  {
   "cell_type": "code",
   "execution_count": null,
   "id": "26d51ebe",
   "metadata": {
    "id": "26d51ebe",
    "outputId": "d232d415-55fe-4b52-d981-05a098a9008d"
   },
   "outputs": [],
   "source": [
    "df2"
   ]
  },
  {
   "cell_type": "markdown",
   "id": "3aa2956a",
   "metadata": {
    "id": "3aa2956a"
   },
   "source": [
    "Este es un ejemplo de una unión de many-to-one (muchos a uno); los datos en df1 tienen múltiples filas etiquetadas como\n",
    "a y b, mientras que df2 tiene solo una fila para cada valor en la columna clave. La función *merge* arroja:"
   ]
  },
  {
   "cell_type": "code",
   "execution_count": null,
   "id": "549ad1e1",
   "metadata": {},
   "outputs": [],
   "source": []
  },
  {
   "cell_type": "markdown",
   "id": "78542038",
   "metadata": {
    "id": "78542038"
   },
   "source": [
    "Si los nombres de las columnas son diferentes en cada objeto, puede especificarlos por separado:"
   ]
  },
  {
   "cell_type": "code",
   "execution_count": null,
   "id": "4804bb1d",
   "metadata": {
    "id": "4804bb1d",
    "outputId": "7ffd397c-47a9-4312-e596-38f35249e6eb"
   },
   "outputs": [],
   "source": [
    "df3 = pd.DataFrame({\"lkey\": [\"b\", \"b\", \"a\", \"c\", \"a\", \"a\", \"b\"],\"data1\": range(7)})\n",
    "df4 = pd.DataFrame({\"rkey\": [\"a\", \"b\", \"d\"],\"data2\": range(3)})\n",
    "\n",
    "df3"
   ]
  },
  {
   "cell_type": "code",
   "execution_count": null,
   "id": "8fa43abd",
   "metadata": {
    "id": "8fa43abd",
    "outputId": "48e17302-8022-4e70-9396-e34739460656"
   },
   "outputs": [],
   "source": [
    "df4"
   ]
  },
  {
   "cell_type": "code",
   "execution_count": null,
   "id": "47ed5ced",
   "metadata": {},
   "outputs": [],
   "source": [
    "pd.________(df3, df4, _______=\"lkey\", _______=\"rkey\")"
   ]
  },
  {
   "cell_type": "markdown",
   "id": "f580f52a",
   "metadata": {
    "id": "f580f52a"
   },
   "source": [
    "Puede notar que los valores \"c\" y \"d\" y los datos asociados faltan en el resultado. Por defecto, merge hace una unión \"interna\"; las claves en el resultado son la intersección, o el conjunto común que se encuentra en ambas tablas. Otras opciones posibles son \"izquierda\", \"derecha\" y \"exterior\". La unión exterior toma la unión de las llaves, combinando las\n",
    "efecto de aplicar combinaciones izquierda y derecha:"
   ]
  },
  {
   "cell_type": "code",
   "execution_count": null,
   "id": "bc8e90a2",
   "metadata": {},
   "outputs": [],
   "source": []
  },
  {
   "cell_type": "code",
   "execution_count": null,
   "id": "d85c5606",
   "metadata": {
    "id": "d85c5606",
    "outputId": "07db4b97-abd1-4209-e16e-433b26a4b5e9"
   },
   "outputs": [],
   "source": [
    "df1 = pd.DataFrame({\"key\": [\"b\", \"b\", \"a\", \"c\", \"a\", \"b\"], \"data1\": range(6)})\n",
    "df2 = pd.DataFrame({\"key\": [\"a\", \"b\", \"a\", \"b\", \"d\"], \"data2\": range(5)})\n",
    "\n",
    "df1"
   ]
  },
  {
   "cell_type": "code",
   "execution_count": null,
   "id": "542dbaae",
   "metadata": {
    "id": "542dbaae",
    "outputId": "b7d9b3c7-f9bb-43fb-ad73-154884e27313"
   },
   "outputs": [],
   "source": [
    "df2"
   ]
  },
  {
   "cell_type": "code",
   "execution_count": null,
   "id": "26cc1373",
   "metadata": {},
   "outputs": [],
   "source": [
    "pd._________(df1, df2, on=\"key\", _________)"
   ]
  },
  {
   "cell_type": "markdown",
   "id": "090d0d63",
   "metadata": {
    "id": "090d0d63"
   },
   "source": [
    "Como eran tres filas \"b\" en el DataFrame izquierdo y dos en el derecho, hay seis filas \"b\" en el resultado. El método de combinación solo afecta a los distintos valores clave que aparecen en el resultado:"
   ]
  },
  {
   "cell_type": "code",
   "execution_count": null,
   "id": "8358e996",
   "metadata": {
    "id": "8358e996",
    "outputId": "e7bf81af-0c06-476d-c51f-d81cab1f0bee"
   },
   "outputs": [],
   "source": [
    "pd.merge(df1, df2, _________)"
   ]
  },
  {
   "cell_type": "markdown",
   "id": "5863c4a4",
   "metadata": {
    "id": "5863c4a4"
   },
   "source": [
    "Para fusionar con varias claves, pase una lista de nombres de columna:"
   ]
  },
  {
   "cell_type": "code",
   "execution_count": null,
   "id": "9b4abb9e",
   "metadata": {
    "id": "9b4abb9e",
    "outputId": "24c29f07-d077-4a13-e1e2-717184188e85"
   },
   "outputs": [],
   "source": [
    "left = pd.DataFrame({\"key1\": [\"foo\", \"foo\", \"bar\"],\"key2\": [\"one\", \"two\", \"one\"],\"lval\": [1, 2, 3]})\n",
    "right = pd.DataFrame({\"key1\": [\"foo\", \"foo\", \"bar\", \"bar\"],\"key2\": [\"one\", \"one\", \"one\", \"two\"],\"rval\": [4, 5, 6, 7]})\n",
    "\n",
    "left"
   ]
  },
  {
   "cell_type": "code",
   "execution_count": null,
   "id": "f361bfcc",
   "metadata": {
    "id": "f361bfcc",
    "outputId": "88a4ae8e-9507-4cb3-9854-896836c22a9a"
   },
   "outputs": [],
   "source": [
    "right"
   ]
  },
  {
   "cell_type": "code",
   "execution_count": null,
   "id": "78b1e94c",
   "metadata": {
    "id": "78b1e94c",
    "outputId": "56c89427-6aef-40e5-bad1-0b07131ca93e"
   },
   "outputs": [],
   "source": [
    "pd.merge(left, right, _________, _________)"
   ]
  },
  {
   "cell_type": "code",
   "execution_count": null,
   "id": "4aaa96d4",
   "metadata": {
    "id": "4aaa96d4",
    "outputId": "2d7a61ea-6f46-44c5-fc6d-0cd719bc9b45",
    "scrolled": true
   },
   "outputs": [],
   "source": [
    "pd.merge(left, right, _________)"
   ]
  },
  {
   "cell_type": "code",
   "execution_count": null,
   "id": "dfcab642",
   "metadata": {
    "id": "dfcab642",
    "outputId": "a954e65e-4bc0-485b-f46e-81cb46d868cf"
   },
   "outputs": [],
   "source": [
    "pd.merge(left, right, on=\"key1\", _________)"
   ]
  },
  {
   "cell_type": "markdown",
   "id": "a6e438e5",
   "metadata": {
    "id": "a6e438e5"
   },
   "source": [
    "El merge también se puede realizar por índice y no por nombre de columna (como se ha visto hasta el momento)"
   ]
  },
  {
   "cell_type": "code",
   "execution_count": null,
   "id": "9dff4efc",
   "metadata": {
    "id": "9dff4efc",
    "outputId": "ed10b759-0d5e-4bd2-aa61-e1a5f3fe177c"
   },
   "outputs": [],
   "source": [
    "left1 = pd.DataFrame({\"key\": [\"a\", \"b\", \"a\", \"a\", \"b\", \"c\"], \"value\": range(6)})\n",
    "right1 = pd.DataFrame({\"group_val\": [3.5, 7]}, index=[\"a\", \"b\"])\n",
    "\n",
    "left1"
   ]
  },
  {
   "cell_type": "code",
   "execution_count": null,
   "id": "bf1c84ef",
   "metadata": {
    "id": "bf1c84ef",
    "outputId": "a7f0394f-2f9a-4c4a-f2bd-ff5d45abbdd7"
   },
   "outputs": [],
   "source": [
    "right1"
   ]
  },
  {
   "cell_type": "code",
   "execution_count": null,
   "id": "a7ca59b7",
   "metadata": {
    "id": "a7ca59b7",
    "outputId": "7950c0ed-5a60-4cec-993a-d3c921fd9ff2"
   },
   "outputs": [],
   "source": [
    "pd.merge(left1, right1, _________, _________)"
   ]
  },
  {
   "cell_type": "code",
   "execution_count": null,
   "id": "8b634a13",
   "metadata": {
    "id": "8b634a13",
    "outputId": "3dd1fc0e-b3e9-4cc2-ad66-c39791677adb"
   },
   "outputs": [],
   "source": [
    "pd.merge(left1, right1, left_on=\"key\", _________, _________)"
   ]
  },
  {
   "cell_type": "markdown",
   "id": "55d568c7",
   "metadata": {
    "id": "55d568c7"
   },
   "source": [
    "**concat**\n",
    "\n",
    "Otro tipo de operación de combinación de datos se conoce indistintamente como concatenaciónn, encuadernación o apilamiento. La función concatenar de NumPy puede hacer esto con  matrices:"
   ]
  },
  {
   "cell_type": "code",
   "execution_count": null,
   "id": "82c6ec49",
   "metadata": {
    "id": "82c6ec49",
    "outputId": "555821b5-953a-4607-cfff-17b157edfb10"
   },
   "outputs": [],
   "source": [
    "arr = np.arange(12).reshape((3, 4))\n",
    "arr"
   ]
  },
  {
   "cell_type": "code",
   "execution_count": null,
   "id": "551cb03a",
   "metadata": {
    "id": "551cb03a",
    "outputId": "5a4f4cac-4b0e-4bee-e795-98dddd78b895"
   },
   "outputs": [],
   "source": [
    "np._________([arr, arr], axis=1)"
   ]
  },
  {
   "cell_type": "code",
   "execution_count": null,
   "id": "a88f12a7",
   "metadata": {
    "id": "a88f12a7",
    "outputId": "60e2155c-eb39-4b54-be1c-312cab0104bd"
   },
   "outputs": [],
   "source": [
    "s1 = pd.Series([0, 1], index=[\"a\", \"b\"])\n",
    "s2 = pd.Series([2, 3, 4], index=[\"c\", \"d\", \"e\"])\n",
    "s3 = pd.Series([5, 6], index=[\"f\", \"g\"])\n",
    "\n",
    "pd._________([s1, s2, s3])"
   ]
  },
  {
   "cell_type": "code",
   "execution_count": null,
   "id": "b10fac32",
   "metadata": {
    "id": "b10fac32",
    "outputId": "b316a176-989e-4615-8ff8-ce23c233fb41"
   },
   "outputs": [],
   "source": [
    "pd._________([s1, s2, s3], _________)"
   ]
  },
  {
   "cell_type": "code",
   "execution_count": null,
   "id": "5f1bbbc4",
   "metadata": {
    "id": "5f1bbbc4",
    "outputId": "15a739a8-ec08-4f6f-f0a3-ec275738400e"
   },
   "outputs": [],
   "source": [
    "pd.concat([s1, s2, s3], _________, _________)"
   ]
  },
  {
   "cell_type": "code",
   "execution_count": null,
   "id": "b3bc1b79",
   "metadata": {
    "id": "b3bc1b79",
    "outputId": "fa0597ae-84dd-4cbe-bf76-ec895e521e7b"
   },
   "outputs": [],
   "source": [
    "df1 = pd.DataFrame(np.random.randn(3, 4), columns=[\"a\", \"b\", \"c\", \"d\"])\n",
    "df2 = pd.DataFrame(np.random.randn(2, 3), columns=[\"b\", \"d\", \"a\"])\n",
    "\n",
    "df1"
   ]
  },
  {
   "cell_type": "code",
   "execution_count": null,
   "id": "b99aeb97",
   "metadata": {
    "id": "b99aeb97",
    "outputId": "3eeaa7a2-6d33-4114-e4bc-ea3a2ffa65f4"
   },
   "outputs": [],
   "source": [
    "df2"
   ]
  },
  {
   "cell_type": "code",
   "execution_count": null,
   "id": "79bd0a3c",
   "metadata": {
    "id": "79bd0a3c",
    "outputId": "9258df68-9931-45fb-e519-bdba7f4c1ecc"
   },
   "outputs": [],
   "source": [
    "pd._________([df1, df2])"
   ]
  },
  {
   "cell_type": "code",
   "execution_count": null,
   "id": "e9f46257",
   "metadata": {
    "id": "e9f46257",
    "outputId": "93b92f0f-e98d-497e-c713-984fde266604"
   },
   "outputs": [],
   "source": [
    "pd._________([df1, df2], _________)"
   ]
  },
  {
   "cell_type": "markdown",
   "id": "3a80af81",
   "metadata": {
    "id": "3a80af81"
   },
   "source": [
    "Combinar datos con superposición. Hay otra situación de combinación de datos que no se puede expresar como una combinación\n",
    "o operación de concatenación. Puede tener dos conjuntos de datos cuyos índices se superponen por completo o en parte. Como ejemplo motivador, considere la función where de NumPy, que realiza el equivalente orientado a matrices de una expresión if-else:"
   ]
  },
  {
   "cell_type": "code",
   "execution_count": null,
   "id": "78d10b57",
   "metadata": {
    "id": "78d10b57",
    "outputId": "996ec35b-3185-41a1-c136-4f96bacf6b79"
   },
   "outputs": [],
   "source": [
    "a = pd.Series([np.nan, 2.5, np.nan, 3.5, 4.5, np.nan], index=[\"f\", \"e\", \"d\", \"c\", \"b\", \"a\"])\n",
    "b = pd.Series(np.arange(len(a), dtype=np.float64), index=[\"f\", \"e\", \"d\", \"c\", \"b\", \"a\"])\n",
    "b[-1] = np.nan\n",
    "\n",
    "a"
   ]
  },
  {
   "cell_type": "code",
   "execution_count": null,
   "id": "8a62b714",
   "metadata": {
    "id": "8a62b714",
    "outputId": "e8959c67-3753-4bfc-f490-d77fe992473e"
   },
   "outputs": [],
   "source": [
    "b"
   ]
  },
  {
   "cell_type": "code",
   "execution_count": null,
   "id": "959dc07f",
   "metadata": {
    "id": "959dc07f",
    "outputId": "bfed5f75-9671-4a57-f77f-853e97b55cec"
   },
   "outputs": [],
   "source": [
    "np._________(pd._________, b, a)"
   ]
  },
  {
   "cell_type": "code",
   "execution_count": null,
   "id": "37b3d1f9",
   "metadata": {
    "id": "37b3d1f9",
    "outputId": "10824011-57cb-4495-e657-af6b8153ba1a"
   },
   "outputs": [],
   "source": [
    "a._________(b)"
   ]
  },
  {
   "cell_type": "code",
   "execution_count": null,
   "id": "d48225d0",
   "metadata": {
    "id": "d48225d0",
    "outputId": "487f3496-f9f0-4dcd-84b7-d8c4cc63deb2"
   },
   "outputs": [],
   "source": [
    "df1 = pd.DataFrame({\"a\": [1., np.nan, 5., np.nan], \"b\": [np.nan, 2., np.nan, 6.], \"c\": range(2, 18, 4)})\n",
    "df2 = pd.DataFrame({\"a\": [5., 4., np.nan, 3., 7.], \"b\": [np.nan, 3., 4., 6., 8.]})\n",
    "\n",
    "df1"
   ]
  },
  {
   "cell_type": "code",
   "execution_count": null,
   "id": "f5edf3e5",
   "metadata": {
    "id": "f5edf3e5",
    "outputId": "f83b38e3-c02e-46d1-d42e-de72244d32c5"
   },
   "outputs": [],
   "source": [
    "df2"
   ]
  },
  {
   "cell_type": "code",
   "execution_count": null,
   "id": "e280a994",
   "metadata": {
    "id": "e280a994",
    "outputId": "09dc3428-30a5-4f91-d0a4-f1827c215933"
   },
   "outputs": [],
   "source": [
    "df1._________(df2)"
   ]
  },
  {
   "cell_type": "markdown",
   "id": "09f0b2b4",
   "metadata": {
    "id": "09f0b2b4"
   },
   "source": [
    "### 2.) Reformar y pivotar\n",
    "\n",
    "Hay una serie de operaciones básicas para reorganizar datos tabulares. Estas son conocidas como operaciones de cambio de forma o de pivote. \n",
    "    \n",
    "- **stack:** \n",
    "This “rotates” or pivots from the columns in the data to the rows\n",
    "- **unstack:**\n",
    "This pivots from the rows into the columns"
   ]
  },
  {
   "cell_type": "code",
   "execution_count": null,
   "id": "6df0922c",
   "metadata": {
    "id": "6df0922c",
    "outputId": "672bc5a2-4fe9-467c-de77-690ab065b0f2"
   },
   "outputs": [],
   "source": [
    "data = pd.DataFrame(np.arange(6).reshape((2, 3)), index=pd.Index([\"Ohio\", \"Colorado\"], name=\"state\"), \n",
    "                    columns=pd.Index([\"one\", \"two\", \"three\"], name=\"number\"))\n",
    "data"
   ]
  },
  {
   "cell_type": "code",
   "execution_count": null,
   "id": "1ebafcba",
   "metadata": {
    "id": "1ebafcba",
    "outputId": "6b011cb0-97ab-4e70-b557-2a538b332f10"
   },
   "outputs": [],
   "source": [
    "result = data._________\n",
    "result"
   ]
  },
  {
   "cell_type": "code",
   "execution_count": null,
   "id": "ca95a0b2",
   "metadata": {
    "id": "ca95a0b2",
    "outputId": "73dc9ffb-5e73-4317-f90e-b8db50d82116"
   },
   "outputs": [],
   "source": [
    "result._________"
   ]
  },
  {
   "cell_type": "code",
   "execution_count": null,
   "id": "3642328d",
   "metadata": {
    "id": "3642328d",
    "outputId": "57ff8c8d-0261-4fac-953d-2eb0bbfce159"
   },
   "outputs": [],
   "source": [
    "result._________"
   ]
  },
  {
   "cell_type": "markdown",
   "id": "818eb848",
   "metadata": {
    "id": "818eb848"
   },
   "source": [
    "Cambio de formato \"largo\" a \"ancho\"\n",
    "\n",
    "Una forma común de almacenar múltiples series de tiempo en bases de datos y CSV es en los llamados largos o formato apilado. Carguemos algunos datos de ejemplo y hagamos una pequeña cantidad de series de tiempo disputas y otra limpieza de datos:"
   ]
  },
  {
   "cell_type": "code",
   "execution_count": null,
   "id": "e1459c6c",
   "metadata": {
    "id": "e1459c6c",
    "outputId": "f8dc2530-6f85-4f3f-e24c-f1490a64e7bc"
   },
   "outputs": [],
   "source": [
    "data = pd.read_csv(\"https://raw.githubusercontent.com/BrambleXu/pydata-notebook/master/examples/macrodata.csv\")\n",
    "data.head()"
   ]
  },
  {
   "cell_type": "code",
   "execution_count": null,
   "id": "12fca6ac",
   "metadata": {
    "id": "12fca6ac",
    "outputId": "8a1b690a-840b-4390-b82f-15f4f2cb985a",
    "scrolled": true
   },
   "outputs": [],
   "source": [
    "_________"
   ]
  },
  {
   "cell_type": "code",
   "execution_count": null,
   "id": "859bc30a",
   "metadata": {
    "id": "859bc30a",
    "outputId": "c999f34c-45b3-4cbc-f40b-2dbd6052bec9"
   },
   "outputs": [],
   "source": [
    "periods = pd._________(year=_________, quarter=_________, name=\"date\")\n",
    "columns = pd.Index([\"realgdp\", \"infl\", \"unemp\"], name=\"item\")\n",
    "\n",
    "periods"
   ]
  },
  {
   "cell_type": "code",
   "execution_count": null,
   "id": "04c0890c",
   "metadata": {
    "id": "04c0890c"
   },
   "outputs": [],
   "source": [
    "data = data._________(columns=columns) \n",
    "data.index = periods._________(\"D\")\n",
    "\n",
    "ldata = data._________._________._________(columns={0: \"value\"})"
   ]
  },
  {
   "cell_type": "code",
   "execution_count": null,
   "id": "e705bb3b",
   "metadata": {
    "id": "e705bb3b",
    "outputId": "159252d2-61bb-45ee-ad2c-fa66b5653a98"
   },
   "outputs": [],
   "source": [
    "ldata[:10]"
   ]
  },
  {
   "cell_type": "markdown",
   "id": "e5747a3d",
   "metadata": {
    "id": "e5747a3d"
   },
   "source": [
    "Este es el llamado formato largo para múltiples series de tiempo u otros datos de observación. con dos o más claves (aquí, nuestras claves son date e item). Cada fila de la tabla representa envía una única observación.\n",
    "\n",
    "Los datos se almacenan con frecuencia de esta manera en bases de datos relacionales como MySQL, ya que un esquema fijo (nombres de columna y tipos de datos) permite que la cantidad de valores distintos en la columna del elemento cambie a medida que se agregan datos a la tabla. En el ejemplo anterior, la fecha y el elemento suelen ser las claves principales (en el lenguaje de la base de datos relacional), lo que ofrece integridad relacional y uniones más sencillas. En algunos casos, puede ser más difícil trabajar con los datos en este formato; es posible que prefiera tener un DataFrame que contenga una columna por valor de elemento distinto indexado por marcas de tiempo en la columna de fecha. \n",
    "\n",
    "El método de pivote de Frame realiza exactamente esta transformación:"
   ]
  },
  {
   "cell_type": "code",
   "execution_count": null,
   "id": "17c184bd",
   "metadata": {
    "id": "17c184bd",
    "outputId": "6e517218-1aea-4781-983a-8bcaea8fef1b"
   },
   "outputs": [],
   "source": [
    "pivoted = ldata._________(\"date\", \"item\", \"value\")\n",
    "pivoted"
   ]
  },
  {
   "cell_type": "markdown",
   "id": "c7fa3d91",
   "metadata": {
    "id": "c7fa3d91"
   },
   "source": [
    "Suponga que tiene dos columnas de valor que desea remodelar simultáneamente:"
   ]
  },
  {
   "cell_type": "code",
   "execution_count": null,
   "id": "19b9be6d",
   "metadata": {
    "id": "19b9be6d",
    "outputId": "10f4f12c-6486-485b-f6dc-128d4ac634fc"
   },
   "outputs": [],
   "source": [
    "ldata[\"value2\"] = np.random.randn(len(ldata))\n",
    "ldata[:10]"
   ]
  },
  {
   "cell_type": "code",
   "execution_count": null,
   "id": "c5ca0fa5",
   "metadata": {
    "id": "c5ca0fa5",
    "outputId": "0716e0b0-048c-4bbf-ddaf-d94a1a07305a"
   },
   "outputs": [],
   "source": [
    "pivoted = ldata._________(\"date\", \"item\")\n",
    "pivoted"
   ]
  },
  {
   "cell_type": "code",
   "execution_count": null,
   "id": "0b22ff00",
   "metadata": {
    "id": "0b22ff00",
    "outputId": "6d4b1cf9-7053-4544-985f-2bdd8937569f"
   },
   "outputs": [],
   "source": [
    "pivoted[\"value\"][:5]"
   ]
  },
  {
   "cell_type": "code",
   "execution_count": null,
   "id": "a1139e5f",
   "metadata": {
    "id": "a1139e5f",
    "outputId": "4e63c980-5985-48ae-f4fa-20367dd2aad8"
   },
   "outputs": [],
   "source": [
    "unstacked = ldata.set_index([\"date\", \"item\"])._________\n",
    "unstacked[:7]"
   ]
  },
  {
   "cell_type": "markdown",
   "id": "42fd450e",
   "metadata": {
    "id": "42fd450e"
   },
   "source": [
    "##### Pivoting “Wide” to “Long” Format"
   ]
  },
  {
   "cell_type": "code",
   "execution_count": null,
   "id": "6b7c1056",
   "metadata": {
    "id": "6b7c1056",
    "outputId": "b4fc2887-1e79-48ba-921f-de2a73dea5b7",
    "scrolled": true
   },
   "outputs": [],
   "source": [
    "df = pd.DataFrame({\"key\": [\"foo\", \"bar\", \"baz\"], \"A\": [1, 2, 3], \"B\": [4, 5, 6], \"C\": [7, 8, 9]})\n",
    "df"
   ]
  },
  {
   "cell_type": "markdown",
   "id": "ba5d15a5",
   "metadata": {
    "id": "ba5d15a5"
   },
   "source": [
    "La columna \"clave\" puede ser un indicador de grupo, y las otras columnas son valores de datos. Al usar pandas.melt, debemos indicar qué columnas (si las hay) son indicativas de grupo. Usemos \"clave\" como el único indicador de grupo aquí:"
   ]
  },
  {
   "cell_type": "code",
   "execution_count": null,
   "id": "2d5718a4",
   "metadata": {
    "id": "2d5718a4",
    "outputId": "691cdf82-e2b3-41db-a0a2-c34869f264b6"
   },
   "outputs": [],
   "source": [
    "melted = pd._________(df, [\"key\"])\n",
    "melted"
   ]
  },
  {
   "cell_type": "code",
   "execution_count": null,
   "id": "cb21a16d",
   "metadata": {
    "id": "cb21a16d",
    "outputId": "126892e1-8899-45f6-e8fe-757a9993ddae"
   },
   "outputs": [],
   "source": [
    "reshaped = melted._________(\"key\", \"variable\", \"value\")\n",
    "reshaped"
   ]
  },
  {
   "cell_type": "code",
   "execution_count": null,
   "id": "1cf17492",
   "metadata": {
    "id": "1cf17492",
    "outputId": "100d2528-ec65-45e4-8853-761f531ae431"
   },
   "outputs": [],
   "source": [
    "reshaped._________"
   ]
  },
  {
   "cell_type": "code",
   "execution_count": null,
   "id": "9254e779",
   "metadata": {
    "id": "9254e779",
    "outputId": "70b1c02a-8e0b-4102-c14b-f6bbd4720624"
   },
   "outputs": [],
   "source": [
    "pd._________(df, id_vars=[\"key\"], _________)"
   ]
  },
  {
   "cell_type": "code",
   "execution_count": null,
   "id": "7c57858c",
   "metadata": {
    "id": "7c57858c",
    "outputId": "28dc6839-1b4c-40de-ff89-a1d0b96cd265"
   },
   "outputs": [],
   "source": [
    "pd._________(df, _________)\n"
   ]
  },
  {
   "cell_type": "code",
   "execution_count": null,
   "id": "b4186aff",
   "metadata": {
    "id": "b4186aff",
    "outputId": "76fb87f1-4a0f-4346-a51e-4f01e35401a9"
   },
   "outputs": [],
   "source": [
    "pd._________(df, _________)"
   ]
  },
  {
   "cell_type": "markdown",
   "id": "1becb378",
   "metadata": {
    "id": "1becb378"
   },
   "source": [
    "### 3.) Visualización\n",
    "\n",
    "Para todos los temas relacionados a visualización, la librería principal va a ser matplotlib. Por suerte, cuenta con una documentación extensa que puede ser consultada [AQUÍ](https://matplotlib.org/)."
   ]
  },
  {
   "cell_type": "code",
   "execution_count": null,
   "id": "c1888ca4",
   "metadata": {
    "id": "c1888ca4"
   },
   "outputs": [],
   "source": [
    "%matplotlib notebook"
   ]
  },
  {
   "cell_type": "code",
   "execution_count": null,
   "id": "99620c48",
   "metadata": {
    "id": "99620c48",
    "outputId": "ad66d24d-1088-434f-c9a2-eb5fdc3bb889"
   },
   "outputs": [],
   "source": [
    "import numpy as np\n",
    "import matplotlib as mpl\n",
    "import matplotlib.pyplot as plt\n",
    "\n",
    "x = np.linspace(0, 10, 100)\n",
    "\n",
    "plt.____(x, np.sin(x))\n",
    "plt.____(x, np.cos(x))\n",
    "\n",
    "plt.show()"
   ]
  },
  {
   "cell_type": "markdown",
   "id": "afba4d71",
   "metadata": {
    "id": "afba4d71"
   },
   "source": [
    "Una cosa a tener en cuenta: el comando plt.show() debe usarse solo una vez por sesión de Python, y se ve con mayor frecuencia al final del script. Múltiples comandos show() pueden conducir a un comportamiento impredecible dependiente del backend y, en su mayoría, deben evitarse."
   ]
  },
  {
   "cell_type": "code",
   "execution_count": null,
   "id": "e0d8fccc",
   "metadata": {
    "id": "e0d8fccc",
    "outputId": "bdb5a1fa-5a4f-45a9-c12c-aef8ff900afd"
   },
   "outputs": [],
   "source": [
    "fig = plt.figure()\n",
    "\n",
    "plt.____(x, np.sin(x), ____)\n",
    "plt.____(x, np.cos(x), ____);"
   ]
  },
  {
   "cell_type": "code",
   "execution_count": null,
   "id": "27f57a7f",
   "metadata": {
    "id": "27f57a7f"
   },
   "outputs": [],
   "source": [
    "fig.____(\"my_figure.png\")"
   ]
  },
  {
   "cell_type": "code",
   "execution_count": null,
   "id": "d0c2e566",
   "metadata": {
    "id": "d0c2e566",
    "outputId": "e7a0647d-9fcf-4fac-a6a1-5a1de2fd69fd"
   },
   "outputs": [],
   "source": [
    "from IPython.display import ____\n",
    "____(\"my_figure.png\")"
   ]
  },
  {
   "cell_type": "code",
   "execution_count": null,
   "id": "bf0af189",
   "metadata": {
    "id": "bf0af189",
    "outputId": "a7ba1f92-a0ae-4b3f-ab62-08c1b1fb3fed"
   },
   "outputs": [],
   "source": [
    "fig.____.get_supported_filetypes()"
   ]
  },
  {
   "cell_type": "markdown",
   "id": "a11040d2",
   "metadata": {
    "id": "a11040d2"
   },
   "source": [
    "Los gráficos en matplotlib residen dentro de un objeto Figure. Puedes crear una nueva figura con plt.figure:"
   ]
  },
  {
   "cell_type": "code",
   "execution_count": null,
   "id": "c85be801",
   "metadata": {
    "id": "c85be801",
    "outputId": "6821fee9-b402-4768-e57a-1febf88e5277"
   },
   "outputs": [],
   "source": [
    "fig = plt.figure()"
   ]
  },
  {
   "cell_type": "code",
   "execution_count": null,
   "id": "1ef66426",
   "metadata": {
    "id": "1ef66426"
   },
   "outputs": [],
   "source": [
    "ax1 = fig.____(2, 2, 1)\n",
    "ax2 = fig.____(2, 2, 2)"
   ]
  },
  {
   "cell_type": "code",
   "execution_count": null,
   "id": "8f7358fd",
   "metadata": {
    "id": "8f7358fd"
   },
   "outputs": [],
   "source": [
    "ax3 = fig.____(2, 2, 3)"
   ]
  },
  {
   "cell_type": "code",
   "execution_count": null,
   "id": "fb2f2851",
   "metadata": {
    "id": "fb2f2851"
   },
   "outputs": [],
   "source": [
    "plt.plot(np.random.randn(50).cumsum(), ____);"
   ]
  },
  {
   "cell_type": "markdown",
   "id": "b31ddbf8",
   "metadata": {
    "id": "b31ddbf8"
   },
   "source": [
    "Cuando ejecuta un comando de trazado como plt.plot([1.5, 3.5, -2, 1.6]), matplotlib se basa en la última figura y la subtrama utilizada (creando una si es necesario)"
   ]
  },
  {
   "cell_type": "code",
   "execution_count": null,
   "id": "9d8c1933",
   "metadata": {
    "id": "9d8c1933"
   },
   "outputs": [],
   "source": [
    "hist = ax1.____(np.random.randn(100), bins=20, ____, ____)"
   ]
  },
  {
   "cell_type": "code",
   "execution_count": null,
   "id": "12a96887",
   "metadata": {
    "id": "12a96887"
   },
   "outputs": [],
   "source": [
    "ax2.____(np.arange(30), np.arange(30) + 3 * np.random.randn(30));"
   ]
  },
  {
   "cell_type": "markdown",
   "id": "4c85a625",
   "metadata": {
    "id": "4c85a625"
   },
   "source": [
    "Otra forma posible de crear subplots es: "
   ]
  },
  {
   "cell_type": "code",
   "execution_count": null,
   "id": "f74ff6a5",
   "metadata": {
    "id": "f74ff6a5",
    "outputId": "a400784f-a00d-4e36-bf3b-559c5003220a"
   },
   "outputs": [],
   "source": [
    "plt.figure()\n",
    "\n",
    "plt.____(2, 1, 1)\n",
    "plt.____(x, np.sin(x))\n",
    "\n",
    "plt.____(2, 1, 2)\n",
    "plt.____(x, np.cos(x));"
   ]
  },
  {
   "cell_type": "markdown",
   "id": "83d5ba97",
   "metadata": {
    "id": "83d5ba97"
   },
   "source": [
    "La interfaz orientada a objetos está disponible para estas situaciones más complicadas y para cuando quieras tener más control sobre tu figura. En lugar de depender de alguna noción de una figura o ejes \"activos\", en la interfaz orientada a objetos, las funciones de trazado son métodos de objetos explícitos de Figura y Ejes. Para volver a crear el gráfico anterior utilizando este estilo de trazado, puede hacer lo siguiente"
   ]
  },
  {
   "cell_type": "code",
   "execution_count": null,
   "id": "f9e2e9f6",
   "metadata": {
    "id": "f9e2e9f6",
    "outputId": "72c9b75a-1022-4b7e-f2ee-e97134fc4750"
   },
   "outputs": [],
   "source": [
    "fig, ax = plt.____(2)\n",
    "\n",
    "____.plot(x, np.sin(x))\n",
    "____.plot(x, np.cos(x));"
   ]
  },
  {
   "cell_type": "markdown",
   "id": "25ae0c0c",
   "metadata": {
    "id": "25ae0c0c"
   },
   "source": [
    "Establecer colores"
   ]
  },
  {
   "cell_type": "code",
   "execution_count": null,
   "id": "f57858bf",
   "metadata": {
    "id": "f57858bf",
    "outputId": "fd53a34b-1701-44eb-8876-ff5dd12077f8"
   },
   "outputs": [],
   "source": [
    "x"
   ]
  },
  {
   "cell_type": "code",
   "execution_count": null,
   "id": "6400c9eb",
   "metadata": {
    "id": "6400c9eb",
    "outputId": "1c400e3a-89f0-4a47-f041-3727ad3712c6"
   },
   "outputs": [],
   "source": [
    "plt.figure()\n",
    "\n",
    "plt.plot(x, np.sin(x - 0), color=\"blue\") \n",
    "plt.plot(x, np.sin(x - 1), color=\"g\")\n",
    "plt.plot(x, np.sin(x - 2), color=\"0.75\")\n",
    "plt.plot(x, np.sin(x - 3), color=\"#FFDD44\")\n",
    "plt.plot(x, np.sin(x - 4), color=(1.0,0.2,0.3))\n",
    "plt.plot(x, np.sin(x - 5), color=\"chartreuse\");"
   ]
  },
  {
   "cell_type": "markdown",
   "id": "8b318b1b",
   "metadata": {
    "id": "8b318b1b"
   },
   "source": [
    "Establecer estilo"
   ]
  },
  {
   "cell_type": "code",
   "execution_count": null,
   "id": "43fbdcd8",
   "metadata": {
    "id": "43fbdcd8",
    "outputId": "605dcf57-17c1-4822-97b4-b840bd45f2e9"
   },
   "outputs": [],
   "source": [
    "plt.figure()\n",
    "\n",
    "plt.plot(x, x + 0, linestyle=\"solid\")\n",
    "plt.plot(x, x + 1, linestyle=\"dashed\")\n",
    "plt.plot(x, x + 2, linestyle=\"dashdot\")\n",
    "plt.plot(x, x + 3, linestyle=\"dotted\");\n",
    "\n",
    "plt.plot(x, x + 4, linestyle=____) \n",
    "plt.plot(x, x + 5, linestyle=____)\n",
    "plt.plot(x, x + 6, linestyle=____)\n",
    "plt.plot(x, x + 7, linestyle=____);"
   ]
  },
  {
   "cell_type": "code",
   "execution_count": null,
   "id": "043ec24f",
   "metadata": {
    "id": "043ec24f",
    "outputId": "56a69cdd-1c20-4061-e7b1-5c694a456ea8"
   },
   "outputs": [],
   "source": [
    "plt.figure()\n",
    "\n",
    "plt.plot(x, x + 0, ____)\n",
    "plt.plot(x, x + 1, ____)\n",
    "plt.plot(x, x + 2, ____)\n",
    "plt.plot(x, x + 3, ____);"
   ]
  },
  {
   "cell_type": "markdown",
   "id": "eb3b1f2a",
   "metadata": {
    "id": "eb3b1f2a"
   },
   "source": [
    "Ajustes del plot"
   ]
  },
  {
   "cell_type": "code",
   "execution_count": null,
   "id": "61da9200",
   "metadata": {
    "id": "61da9200",
    "outputId": "54dc6780-05ab-4e6b-9492-c4317404ba40",
    "scrolled": false
   },
   "outputs": [],
   "source": [
    "plt.figure()\n",
    "\n",
    "plt.plot(x, np.sin(x))\n",
    "\n",
    "plt.____(10, 0)\n",
    "plt.____(1.2, -1.2);"
   ]
  },
  {
   "cell_type": "markdown",
   "id": "55cd4de9",
   "metadata": {
    "id": "55cd4de9"
   },
   "source": [
    "El método plt.axis() le permite establecer los límites x e y con una sola llamada, pasando una lista que especifica [xmin, xmax, ymin, ymax]"
   ]
  },
  {
   "cell_type": "code",
   "execution_count": null,
   "id": "1741b8a7",
   "metadata": {
    "id": "1741b8a7"
   },
   "outputs": [],
   "source": [
    "plt.plot(x, np.sin(x))\n",
    "plt.____([-1, 11, -1.5, 1.5]);"
   ]
  },
  {
   "cell_type": "code",
   "execution_count": null,
   "id": "82d8cdcf",
   "metadata": {
    "id": "82d8cdcf",
    "outputId": "1a4ba1c1-8098-4173-e72f-ba666531dd09"
   },
   "outputs": [],
   "source": [
    "plt.figure()\n",
    "\n",
    "ax = plt.axes()\n",
    "ax.plot(x, np.sin(x))\n",
    "ax.set(xlim=(0, 10), ylim=(-2, 2),\n",
    "xlabel=\"x\", ylabel=\"sin(x)\",\n",
    "title=\"A Simple Plot\");"
   ]
  }
 ],
 "metadata": {
  "colab": {
   "provenance": []
  },
  "kernelspec": {
   "display_name": "Python 3",
   "language": "python",
   "name": "python3"
  },
  "language_info": {
   "codemirror_mode": {
    "name": "ipython",
    "version": 3
   },
   "file_extension": ".py",
   "mimetype": "text/x-python",
   "name": "python",
   "nbconvert_exporter": "python",
   "pygments_lexer": "ipython3",
   "version": "3.8.5"
  }
 },
 "nbformat": 4,
 "nbformat_minor": 5
}
