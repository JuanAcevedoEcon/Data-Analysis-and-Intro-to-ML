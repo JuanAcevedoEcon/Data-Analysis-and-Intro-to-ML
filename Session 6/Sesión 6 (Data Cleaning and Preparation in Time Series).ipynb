{
 "cells": [
  {
   "cell_type": "markdown",
   "id": "dd685e35",
   "metadata": {},
   "source": [
    "### 1.) Datetime, Date and Timedelta"
   ]
  },
  {
   "cell_type": "code",
   "execution_count": null,
   "id": "257c470e",
   "metadata": {},
   "outputs": [],
   "source": [
    "import pandas as pd\n",
    "import numpy as np\n",
    "\n",
    "from datetime import datetime, date, timedelta"
   ]
  },
  {
   "cell_type": "code",
   "execution_count": null,
   "id": "25c9fb7f",
   "metadata": {},
   "outputs": [],
   "source": [
    "x = ____.now()\n",
    "print(x)"
   ]
  },
  {
   "cell_type": "code",
   "execution_count": null,
   "id": "517c06ae",
   "metadata": {},
   "outputs": [],
   "source": [
    "print(x.____)\n",
    "print(x.____)\n",
    "print(x.____)\n",
    "print(x.____)\n",
    "print(x.____)\n",
    "print(x.____)"
   ]
  },
  {
   "cell_type": "code",
   "execution_count": null,
   "id": "a7f5a2df",
   "metadata": {},
   "outputs": [],
   "source": [
    "print(x.____(\"%B\"))\n",
    "print(x.____(\"%b\"))\n",
    "print(x.____(\"%A\"))\n",
    "print(x.____(\"%p\"))\n",
    "print(x.____(\"%c\"))\n",
    "print(x.____(\"%x\"))"
   ]
  },
  {
   "cell_type": "code",
   "execution_count": null,
   "id": "24fe6ad6",
   "metadata": {},
   "outputs": [],
   "source": [
    "x = ____(2022,12,1)\n",
    "print(x)"
   ]
  },
  {
   "cell_type": "code",
   "execution_count": null,
   "id": "e3a4116e",
   "metadata": {},
   "outputs": [],
   "source": [
    "print(x.____)\n",
    "print(x.____)\n",
    "print(x.____)"
   ]
  },
  {
   "cell_type": "code",
   "execution_count": null,
   "id": "c8aba8b0",
   "metadata": {},
   "outputs": [],
   "source": [
    "print(\"Fecha Original: \", x)\n",
    "\n",
    "print(\"Fecha - 10 days: \", x - timedelta(____))\n",
    "print(\"Fecha + 1 weeks: \", x + timedelta(____))\n",
    "print(\"Fecha - 2 days + 4 weeks: \", x - timedelta(____, ____))"
   ]
  },
  {
   "cell_type": "markdown",
   "id": "d22f552c",
   "metadata": {},
   "source": [
    "### 2.) Time Series en Pandas\n",
    "\n",
    "Los más fundamentales de estos objetos de fecha/hora son los objetos Timestamp y DatetimeIndex. Si bien estos objetos de clase se pueden invocar directamente, es más común usar la función pd.to_datetime(), que puede analizar una amplia variedad de formatos. Pasar una sola fecha a pd.to_datetime() produce una marca de tiempo; pasar una serie de fechas de forma predeterminada produce un DatetimeIndex:"
   ]
  },
  {
   "cell_type": "code",
   "execution_count": null,
   "id": "c84c3d52",
   "metadata": {},
   "outputs": [],
   "source": [
    "dates = pd.to_datetime([datetime(2022, 7, 3), '4th of July, 2022','2022-Jul-6', '07-07-2022', '20220708'])\n",
    "dates"
   ]
  },
  {
   "cell_type": "code",
   "execution_count": null,
   "id": "f1c37cee",
   "metadata": {},
   "outputs": [],
   "source": [
    "dates = pd.________([datetime(2022, 12, 3), '4th of December, 2022','2022-Dec-6', '12-07-2022', '20230101'])\n",
    "dates"
   ]
  },
  {
   "cell_type": "code",
   "execution_count": null,
   "id": "453c7696",
   "metadata": {},
   "outputs": [],
   "source": [
    "dates.____('D')"
   ]
  },
  {
   "cell_type": "code",
   "execution_count": null,
   "id": "b1cfa0ef",
   "metadata": {},
   "outputs": [],
   "source": [
    "dates.____('W') "
   ]
  },
  {
   "cell_type": "code",
   "execution_count": null,
   "id": "2db2499e",
   "metadata": {},
   "outputs": [],
   "source": [
    "dates.____('Y')"
   ]
  },
  {
   "cell_type": "markdown",
   "id": "e9153178",
   "metadata": {},
   "source": [
    "TimedeltaIndex se crea, por ejemplo, cuando se resta una fecha de otra:"
   ]
  },
  {
   "cell_type": "code",
   "execution_count": null,
   "id": "a965edd0",
   "metadata": {},
   "outputs": [],
   "source": []
  },
  {
   "cell_type": "markdown",
   "id": "3e347638",
   "metadata": {},
   "source": [
    "##### Regular sequences: pd.date_range()"
   ]
  },
  {
   "cell_type": "code",
   "execution_count": null,
   "id": "1bed8458",
   "metadata": {},
   "outputs": [],
   "source": [
    "pd.____________('2022-10-03', '2022-10-13')"
   ]
  },
  {
   "cell_type": "code",
   "execution_count": null,
   "id": "9b9c0aa6",
   "metadata": {},
   "outputs": [],
   "source": [
    "pd.____________('2022-07-03', periods=8)"
   ]
  },
  {
   "cell_type": "code",
   "execution_count": null,
   "id": "ce652fbf",
   "metadata": {
    "scrolled": true
   },
   "outputs": [],
   "source": [
    "pd.________('2022-07-03', periods=8, ________)"
   ]
  },
  {
   "cell_type": "code",
   "execution_count": null,
   "id": "764905bd",
   "metadata": {},
   "outputs": [],
   "source": [
    "pd.________('2022-07', periods=8, ________) "
   ]
  },
  {
   "cell_type": "markdown",
   "id": "c41ca382",
   "metadata": {},
   "source": [
    "Para crear secuencias regulares de períodos o valores delta de tiempo, las funciones muy similares pd.period_range() y pd.timedelta_range() son útiles. Estos son algunos períodos mensuales:"
   ]
  },
  {
   "cell_type": "code",
   "execution_count": null,
   "id": "66f6363e",
   "metadata": {},
   "outputs": [],
   "source": [
    "pd.________('2022-07', periods=8, ________)"
   ]
  },
  {
   "cell_type": "code",
   "execution_count": null,
   "id": "4c5b2f20",
   "metadata": {},
   "outputs": [],
   "source": [
    "pd.________(0, periods=10, ________)"
   ]
  },
  {
   "cell_type": "code",
   "execution_count": null,
   "id": "d5f6873d",
   "metadata": {},
   "outputs": [],
   "source": [
    "pd.timedelta_range(0, periods=9, ________)"
   ]
  },
  {
   "cell_type": "markdown",
   "id": "1274516b",
   "metadata": {},
   "source": [
    "### Resampling, Shifting, and Windowing (Financial Data)\n",
    "\n",
    "La capacidad de utilizar fechas y horas como índices para organizar y acceder de forma intuitiva a los datos es una pieza importante de las herramientas de series temporales de Pandas. Los beneficios de los datos indexados en general (alineación automática durante las operaciones, división y acceso intuitivo de datos, etc.) aún se aplican, y Pandas proporciona varias operaciones adicionales específicas de series de tiempo."
   ]
  },
  {
   "cell_type": "code",
   "execution_count": null,
   "id": "de724d7e",
   "metadata": {},
   "outputs": [],
   "source": [
    "from pandas_datareader import data \n",
    "import matplotlib.pyplot as plt\n",
    "import seaborn; seaborn.set()\n",
    "\n",
    "aapl = data.DataReader(\"AAPL\", \"yahoo\", 2018, 2022) # Yahoo Finance Data\n",
    "\n",
    "# Por facilidad trabajamos solo con el precio de cierre \n",
    "aapl = aapl['Close']"
   ]
  },
  {
   "cell_type": "code",
   "execution_count": null,
   "id": "2583e496",
   "metadata": {},
   "outputs": [],
   "source": [
    "%matplotlib inline\n",
    "\n",
    "aapl._____();"
   ]
  },
  {
   "cell_type": "markdown",
   "id": "8f6bcda4",
   "metadata": {},
   "source": [
    "Una necesidad común de datos de series temporales es volver a muestrear a una frecuencia más alta o más baja. Puedes hacer esto usando el método resample(), o el método mucho más simple asfreq(). La principal diferencia entre los dos es que resample() es fundamentalmente una agregación de datos, mientras que asfreq() es fundamentalmente una selección de datos."
   ]
  },
  {
   "cell_type": "code",
   "execution_count": null,
   "id": "f37e118a",
   "metadata": {
    "scrolled": true
   },
   "outputs": [],
   "source": [
    "aapl.plot(alpha=0.6, style='-')\n",
    "aapl.________('W').mean().plot(style=':')\n",
    "aapl.________('BMS').plot(style='--');\n",
    "plt.legend(['input', 'resample', 'asfreq'],\n",
    "loc='upper left');\n"
   ]
  },
  {
   "cell_type": "code",
   "execution_count": null,
   "id": "313c2ea8",
   "metadata": {},
   "outputs": [],
   "source": [
    "aapl.max"
   ]
  },
  {
   "cell_type": "markdown",
   "id": "1e376f2e",
   "metadata": {},
   "source": [
    "Para el muestreo ascendente, resample() y asfreq() son en gran medida equivalentes, aunque resample tiene muchas más opciones disponibles. En este caso, el valor predeterminado para ambos métodos es dejar vacíos los puntos muestreados, es decir, llenos con valores NA."
   ]
  },
  {
   "cell_type": "code",
   "execution_count": null,
   "id": "23b9c3a0",
   "metadata": {},
   "outputs": [],
   "source": [
    "fig, ax = plt.subplots(2, sharex=True)\n",
    "\n",
    "data = aapl.iloc[:10]\n",
    "data.asfreq('D').plot(ax=ax[0], marker='o')\n",
    "data.asfreq('D', ________).plot(ax=ax[1], style='-o')\n",
    "data.asfreq('D', ________).plot(ax=ax[1], style='--o')\n",
    "ax[1].legend([\"back-fill\", \"forward-fill\"]);\n"
   ]
  },
  {
   "cell_type": "markdown",
   "id": "7996caeb",
   "metadata": {},
   "source": [
    "##### Time-shifts\n",
    "\n",
    "Otra operación común específica de series de tiempo es el desplazamiento de datos en el tiempo. Pandas tiene dos métodos estrechamente relacionados para calcular esto: shift() y tshift(). En resumen, la diferencia entre ellos es que shift() cambia los datos, mientras que tshift() cambia el índice. En ambos casos, el cambio se especifica en múltiplos de la frecuencia."
   ]
  },
  {
   "cell_type": "code",
   "execution_count": null,
   "id": "10ea9d81",
   "metadata": {},
   "outputs": [],
   "source": [
    "fig, ax = plt.subplots(3, sharey=True, figsize=(10,10))\n",
    "\n",
    "aapl = aapl.asfreq('D', method='pad')\n",
    "aapl.plot(ax=ax[0])\n",
    "aapl._______(100).plot(ax=ax[1])\n",
    "aapl._______(100).plot(ax=ax[2])\n",
    "\n",
    "# legends and annotations\n",
    "local_min = pd.to_datetime('2020-03-20')\n",
    "offset = pd.Timedelta(100, 'D')\n",
    "\n",
    "ax[0].legend(['input'], loc=2)\n",
    "ax[0].get_xticklabels()[2].set(weight='heavy', color='red')\n",
    "ax[0].axvline(local_min, alpha=0.3, color='red')\n",
    "\n",
    "ax[1].legend(['shift(100)'], loc=2)\n",
    "ax[1].get_xticklabels()[2].set(weight='heavy', color='red')\n",
    "ax[1].axvline(local_min + offset, alpha=0.3, color='red');\n",
    "\n",
    "ax[2].legend(['tshift(100)'], loc=2)\n",
    "ax[2].get_xticklabels()[2].set(weight='heavy', color='red')\n",
    "ax[2].axvline(local_min + offset, alpha=0.3, color='red');\n"
   ]
  },
  {
   "cell_type": "markdown",
   "id": "1cc8adec",
   "metadata": {},
   "source": [
    "Un contexto común para este tipo de cambio es calcular las diferencias a lo largo del tiempo. Por ejemplo, usamos valores desplazados para calcular el retorno de la inversión de un año para las acciones de Google a lo largo del conjunto de datos"
   ]
  },
  {
   "cell_type": "code",
   "execution_count": null,
   "id": "2da2ad49",
   "metadata": {},
   "outputs": [],
   "source": [
    "ROI = 100 * (aapl._______(-365) / aapl - 1)\n",
    "ROI.plot()\n",
    "plt.ylabel('% Return on Investment');"
   ]
  },
  {
   "cell_type": "markdown",
   "id": "ecd37f38",
   "metadata": {},
   "source": [
    "##### Rolling Windows\n",
    "\n",
    "Las estadísticas continuas son un tercer tipo de operación específica de serie temporal implementada por Pandas. Esto se puede lograr a través del atributo rolling() de los objetos Series y DataFrame, que devuelve una vista similar a la que vimos con la operación groupby. Esta vista continua pone a disposición una serie de operaciones de agregación de forma predeterminada.\n",
    "\n",
    "Por ejemplo, aquí está la media móvil centrada en un año y la desviación estándar de los precios de las acciones de AAPL:"
   ]
  },
  {
   "cell_type": "code",
   "execution_count": null,
   "id": "6ebcb0db",
   "metadata": {
    "scrolled": true
   },
   "outputs": [],
   "source": [
    "rolling = aapl._______(365, center=True)\n",
    "data = pd.DataFrame({'input': aapl,\n",
    "'one-year rolling_mean': _______.mean(),\n",
    "'one-year rolling_std': _______.std()})\n",
    "\n",
    "ax = data.plot(style=['-', '--', ':'])\n",
    "ax.lines[0].set_alpha(0.3)\n"
   ]
  },
  {
   "cell_type": "markdown",
   "id": "1d63922e",
   "metadata": {},
   "source": [
    "### 3.) Ejercicio práctico"
   ]
  },
  {
   "cell_type": "code",
   "execution_count": null,
   "id": "67f14656",
   "metadata": {
    "scrolled": true
   },
   "outputs": [],
   "source": [
    "data = pd.read_csv('Fremont_Bridge_Bicycle_Counter.csv', index_col='Date', parse_dates=True)\n",
    "data.head()"
   ]
  },
  {
   "cell_type": "code",
   "execution_count": null,
   "id": "ba829527",
   "metadata": {},
   "outputs": [],
   "source": []
  },
  {
   "cell_type": "markdown",
   "id": "4120be77",
   "metadata": {},
   "source": [
    "Podemos obtener una idea del conjunto de datos al visualizarlo. Comencemos graficando los datos sin procesar:"
   ]
  },
  {
   "cell_type": "code",
   "execution_count": null,
   "id": "e84107d4",
   "metadata": {},
   "outputs": [],
   "source": []
  },
  {
   "cell_type": "markdown",
   "id": "629e6c06",
   "metadata": {},
   "source": [
    "Las ~86,000 muestras por hora son demasiado densas para que podamos entenderlas. Podemos obtener más información volviendo a muestrear los datos en una cuadrícula más gruesa. Remuestreemos por semana"
   ]
  },
  {
   "cell_type": "code",
   "execution_count": null,
   "id": "8a1d0a1c",
   "metadata": {},
   "outputs": [],
   "source": [
    "weekly = data._______('W').sum()\n",
    "weekly.plot(style=[ '-', '--',':'])\n",
    "plt.ylabel('Weekly bicycle count');"
   ]
  },
  {
   "cell_type": "markdown",
   "id": "0730aa31",
   "metadata": {},
   "source": [
    "Otra forma que resulta útil para agregar los datos es usar una media móvil, utilizando la función pd.rolling_mean(). Aquí haremos una media móvil de 30 días de nuestros datos, asegurándonos de centrar la ventana"
   ]
  },
  {
   "cell_type": "code",
   "execution_count": null,
   "id": "68fd8a93",
   "metadata": {},
   "outputs": [],
   "source": [
    "daily = data._______('D').sum()\n",
    "daily._______(30, center=True).sum().plot(style=[ '-', '--',':'])\n",
    "plt.ylabel('mean hourly count');"
   ]
  },
  {
   "cell_type": "code",
   "execution_count": null,
   "id": "e3448be4",
   "metadata": {},
   "outputs": [],
   "source": [
    "daily._______(50, center=True, _______='gaussian').sum(std=10).plot(style=['-', '--',':']);"
   ]
  },
  {
   "cell_type": "code",
   "execution_count": null,
   "id": "73650a50",
   "metadata": {},
   "outputs": [],
   "source": [
    "by_time = data._______(data.index.time).mean()\n",
    "hourly_ticks = 4 * 60 * 60 * np.arange(6)\n",
    "by_time.plot(xticks=_______, style=['-', '--',':']);"
   ]
  },
  {
   "cell_type": "code",
   "execution_count": null,
   "id": "4d86a217",
   "metadata": {},
   "outputs": [],
   "source": [
    "by_weekday = data.groupby(data.index._______).mean()\n",
    "by_weekday.index = ['Mon', 'Tues', 'Wed', 'Thurs', 'Fri', 'Sat', 'Sun']\n",
    "by_weekday.plot(style=['-', '--',':']);"
   ]
  },
  {
   "cell_type": "code",
   "execution_count": null,
   "id": "48499341",
   "metadata": {},
   "outputs": [],
   "source": [
    "weekend = np.where(data.index._______ < 5, 'Weekday', 'Weekend')\n",
    "by_time = data._______([weekend, data.index.time]).mean()\n",
    "\n",
    "fig, ax = plt.subplots(1, 2, figsize=(14, 5))\n",
    "\n",
    "by_time.loc['Weekday'].plot(ax=ax[0], title='Weekdays', xticks=_______, style=['-', '--',':'])\n",
    "by_time.loc['Weekend'].plot(ax=ax[1], title='Weekends', xticks=_______, style=['-', '--',':']);"
   ]
  }
 ],
 "metadata": {
  "kernelspec": {
   "display_name": "Python 3",
   "language": "python",
   "name": "python3"
  },
  "language_info": {
   "codemirror_mode": {
    "name": "ipython",
    "version": 3
   },
   "file_extension": ".py",
   "mimetype": "text/x-python",
   "name": "python",
   "nbconvert_exporter": "python",
   "pygments_lexer": "ipython3",
   "version": "3.8.5"
  }
 },
 "nbformat": 4,
 "nbformat_minor": 5
}
