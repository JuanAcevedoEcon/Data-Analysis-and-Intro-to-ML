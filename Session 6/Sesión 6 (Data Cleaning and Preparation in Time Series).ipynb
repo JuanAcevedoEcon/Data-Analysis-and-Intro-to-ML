{
 "cells": [
  {
   "cell_type": "markdown",
   "id": "dd685e35",
   "metadata": {},
   "source": [
    "### 1.) Datetime, Date and Timedelta"
   ]
  },
  {
   "cell_type": "code",
   "execution_count": 1,
   "id": "257c470e",
   "metadata": {},
   "outputs": [],
   "source": [
    "import pandas as pd\n",
    "import numpy as np\n",
    "\n",
    "from datetime import datetime, date, timedelta"
   ]
  },
  {
   "cell_type": "code",
   "execution_count": 2,
   "id": "25c9fb7f",
   "metadata": {},
   "outputs": [
    {
     "name": "stdout",
     "output_type": "stream",
     "text": [
      "2022-09-11 23:19:21.443665\n"
     ]
    }
   ],
   "source": [
    "x = ____.now()\n",
    "print(x)"
   ]
  },
  {
   "cell_type": "code",
   "execution_count": 3,
   "id": "517c06ae",
   "metadata": {},
   "outputs": [
    {
     "name": "stdout",
     "output_type": "stream",
     "text": [
      "2022\n",
      "9\n",
      "11\n",
      "23\n",
      "19\n",
      "21\n"
     ]
    }
   ],
   "source": [
    "print(x.____)\n",
    "print(x.____)\n",
    "print(x.____)\n",
    "print(x.____)\n",
    "print(x.____)\n",
    "print(x.____)"
   ]
  },
  {
   "cell_type": "code",
   "execution_count": 4,
   "id": "a7f5a2df",
   "metadata": {},
   "outputs": [
    {
     "name": "stdout",
     "output_type": "stream",
     "text": [
      "September\n",
      "Sep\n",
      "Sunday\n",
      "PM\n",
      "Sun Sep 11 23:19:21 2022\n",
      "09/11/22\n"
     ]
    }
   ],
   "source": [
    "print(x.____(\"%B\"))\n",
    "print(x.____(\"%b\"))\n",
    "print(x.____(\"%A\"))\n",
    "print(x.____(\"%p\"))\n",
    "print(x.____(\"%c\"))\n",
    "print(x.____(\"%x\"))"
   ]
  },
  {
   "cell_type": "code",
   "execution_count": 5,
   "id": "24fe6ad6",
   "metadata": {},
   "outputs": [
    {
     "name": "stdout",
     "output_type": "stream",
     "text": [
      "2022-12-01\n"
     ]
    }
   ],
   "source": [
    "x = ____(2022,12,1)\n",
    "print(x)"
   ]
  },
  {
   "cell_type": "code",
   "execution_count": 6,
   "id": "e3a4116e",
   "metadata": {},
   "outputs": [
    {
     "name": "stdout",
     "output_type": "stream",
     "text": [
      "2022\n",
      "12\n",
      "1\n"
     ]
    }
   ],
   "source": [
    "print(x.____)\n",
    "print(x.____)\n",
    "print(x.____)"
   ]
  },
  {
   "cell_type": "code",
   "execution_count": 7,
   "id": "c8aba8b0",
   "metadata": {},
   "outputs": [
    {
     "name": "stdout",
     "output_type": "stream",
     "text": [
      "Fecha Original:  2022-12-01\n",
      "Fecha - 10 days:  2022-11-21\n",
      "Fecha + 1 weeks:  2022-12-08\n",
      "Fecha - 2 days + 4 weeks:  2022-11-01\n"
     ]
    }
   ],
   "source": [
    "print(\"Fecha Original: \", x)\n",
    "\n",
    "print(\"Fecha - 10 days: \", x - timedelta(____))\n",
    "print(\"Fecha + 1 weeks: \", x + timedelta(____))\n",
    "print(\"Fecha - 2 days + 4 weeks: \", x - timedelta(____, ____))"
   ]
  },
  {
   "cell_type": "markdown",
   "id": "d22f552c",
   "metadata": {},
   "source": [
    "### 2.) Time Series en Pandas\n",
    "\n",
    "Los más fundamentales de estos objetos de fecha/hora son los objetos Timestamp y DatetimeIndex. Si bien estos objetos de clase se pueden invocar directamente, es más común usar la función pd.to_datetime(), que puede analizar una amplia variedad de formatos. Pasar una sola fecha a pd.to_datetime() produce una marca de tiempo; pasar una serie de fechas de forma predeterminada produce un DatetimeIndex:"
   ]
  },
  {
   "cell_type": "code",
   "execution_count": 8,
   "id": "c84c3d52",
   "metadata": {},
   "outputs": [
    {
     "data": {
      "text/plain": [
       "DatetimeIndex(['2022-07-03', '2022-07-04', '2022-07-06', '2022-07-07',\n",
       "               '2022-07-08'],\n",
       "              dtype='datetime64[ns]', freq=None)"
      ]
     },
     "execution_count": 8,
     "metadata": {},
     "output_type": "execute_result"
    }
   ],
   "source": [
    "dates = pd.to_datetime([datetime(2022, 7, 3), '4th of July, 2022','2022-Jul-6', '07-07-2022', '20220708'])\n",
    "dates"
   ]
  },
  {
   "cell_type": "code",
   "execution_count": 9,
   "id": "f1c37cee",
   "metadata": {},
   "outputs": [
    {
     "data": {
      "text/plain": [
       "DatetimeIndex(['2022-12-03', '2022-12-04', '2022-12-06', '2022-12-07',\n",
       "               '2023-01-01'],\n",
       "              dtype='datetime64[ns]', freq=None)"
      ]
     },
     "execution_count": 9,
     "metadata": {},
     "output_type": "execute_result"
    }
   ],
   "source": [
    "dates = pd.________([datetime(2022, 12, 3), '4th of December, 2022','2022-Dec-6', '12-07-2022', '20230101'])\n",
    "dates"
   ]
  },
  {
   "cell_type": "code",
   "execution_count": 10,
   "id": "453c7696",
   "metadata": {},
   "outputs": [
    {
     "data": {
      "text/plain": [
       "PeriodIndex(['2022-12-03', '2022-12-04', '2022-12-06', '2022-12-07',\n",
       "             '2023-01-01'],\n",
       "            dtype='period[D]', freq='D')"
      ]
     },
     "execution_count": 10,
     "metadata": {},
     "output_type": "execute_result"
    }
   ],
   "source": [
    "dates.____('D')"
   ]
  },
  {
   "cell_type": "code",
   "execution_count": 11,
   "id": "b1cfa0ef",
   "metadata": {},
   "outputs": [
    {
     "data": {
      "text/plain": [
       "PeriodIndex(['2022-11-28/2022-12-04', '2022-11-28/2022-12-04',\n",
       "             '2022-12-05/2022-12-11', '2022-12-05/2022-12-11',\n",
       "             '2022-12-26/2023-01-01'],\n",
       "            dtype='period[W-SUN]', freq='W-SUN')"
      ]
     },
     "execution_count": 11,
     "metadata": {},
     "output_type": "execute_result"
    }
   ],
   "source": [
    "dates.____('W') "
   ]
  },
  {
   "cell_type": "code",
   "execution_count": 12,
   "id": "2db2499e",
   "metadata": {},
   "outputs": [
    {
     "data": {
      "text/plain": [
       "PeriodIndex(['2022', '2022', '2022', '2022', '2023'], dtype='period[A-DEC]', freq='A-DEC')"
      ]
     },
     "execution_count": 12,
     "metadata": {},
     "output_type": "execute_result"
    }
   ],
   "source": [
    "dates.____('Y')"
   ]
  },
  {
   "cell_type": "markdown",
   "id": "e9153178",
   "metadata": {},
   "source": [
    "TimedeltaIndex se crea, por ejemplo, cuando se resta una fecha de otra:"
   ]
  },
  {
   "cell_type": "code",
   "execution_count": null,
   "id": "a965edd0",
   "metadata": {},
   "outputs": [],
   "source": []
  },
  {
   "cell_type": "markdown",
   "id": "3e347638",
   "metadata": {},
   "source": [
    "##### Regular sequences: pd.date_range()"
   ]
  },
  {
   "cell_type": "code",
   "execution_count": 14,
   "id": "1bed8458",
   "metadata": {},
   "outputs": [
    {
     "data": {
      "text/plain": [
       "DatetimeIndex(['2022-10-03', '2022-10-04', '2022-10-05', '2022-10-06',\n",
       "               '2022-10-07', '2022-10-08', '2022-10-09', '2022-10-10',\n",
       "               '2022-10-11', '2022-10-12', '2022-10-13'],\n",
       "              dtype='datetime64[ns]', freq='D')"
      ]
     },
     "execution_count": 14,
     "metadata": {},
     "output_type": "execute_result"
    }
   ],
   "source": [
    "pd.____________('2022-10-03', '2022-10-13')"
   ]
  },
  {
   "cell_type": "code",
   "execution_count": 15,
   "id": "9b9c0aa6",
   "metadata": {},
   "outputs": [
    {
     "data": {
      "text/plain": [
       "DatetimeIndex(['2022-07-03', '2022-07-04', '2022-07-05', '2022-07-06',\n",
       "               '2022-07-07', '2022-07-08', '2022-07-09', '2022-07-10'],\n",
       "              dtype='datetime64[ns]', freq='D')"
      ]
     },
     "execution_count": 15,
     "metadata": {},
     "output_type": "execute_result"
    }
   ],
   "source": [
    "pd.____________('2022-07-03', periods=8)"
   ]
  },
  {
   "cell_type": "code",
   "execution_count": 16,
   "id": "ce652fbf",
   "metadata": {
    "scrolled": true
   },
   "outputs": [
    {
     "data": {
      "text/plain": [
       "DatetimeIndex(['2022-07-31', '2022-08-31', '2022-09-30', '2022-10-31',\n",
       "               '2022-11-30', '2022-12-31', '2023-01-31', '2023-02-28'],\n",
       "              dtype='datetime64[ns]', freq='M')"
      ]
     },
     "execution_count": 16,
     "metadata": {},
     "output_type": "execute_result"
    }
   ],
   "source": [
    "pd.________('2022-07-03', periods=8, ________)"
   ]
  },
  {
   "cell_type": "code",
   "execution_count": 17,
   "id": "764905bd",
   "metadata": {},
   "outputs": [
    {
     "data": {
      "text/plain": [
       "DatetimeIndex(['2022-07-01', '2022-08-01', '2022-09-01', '2022-10-03',\n",
       "               '2022-11-01', '2022-12-01', '2023-01-02', '2023-02-01'],\n",
       "              dtype='datetime64[ns]', freq='BMS')"
      ]
     },
     "execution_count": 17,
     "metadata": {},
     "output_type": "execute_result"
    }
   ],
   "source": [
    "pd.________('2022-07', periods=8, ________) "
   ]
  },
  {
   "cell_type": "markdown",
   "id": "c41ca382",
   "metadata": {},
   "source": [
    "Para crear secuencias regulares de períodos o valores delta de tiempo, las funciones muy similares pd.period_range() y pd.timedelta_range() son útiles. Estos son algunos períodos mensuales:"
   ]
  },
  {
   "cell_type": "code",
   "execution_count": 18,
   "id": "66f6363e",
   "metadata": {},
   "outputs": [
    {
     "data": {
      "text/plain": [
       "PeriodIndex(['2022-07', '2022-08', '2022-09', '2022-10', '2022-11', '2022-12',\n",
       "             '2023-01', '2023-02'],\n",
       "            dtype='period[M]', freq='M')"
      ]
     },
     "execution_count": 18,
     "metadata": {},
     "output_type": "execute_result"
    }
   ],
   "source": [
    "pd.________('2022-07', periods=8, ________)"
   ]
  },
  {
   "cell_type": "code",
   "execution_count": 19,
   "id": "4c5b2f20",
   "metadata": {},
   "outputs": [
    {
     "data": {
      "text/plain": [
       "TimedeltaIndex(['0 days 00:00:00', '0 days 01:00:00', '0 days 02:00:00',\n",
       "                '0 days 03:00:00', '0 days 04:00:00', '0 days 05:00:00',\n",
       "                '0 days 06:00:00', '0 days 07:00:00', '0 days 08:00:00',\n",
       "                '0 days 09:00:00'],\n",
       "               dtype='timedelta64[ns]', freq='H')"
      ]
     },
     "execution_count": 19,
     "metadata": {},
     "output_type": "execute_result"
    }
   ],
   "source": [
    "pd.________(0, periods=10, ________)"
   ]
  },
  {
   "cell_type": "code",
   "execution_count": 20,
   "id": "d5f6873d",
   "metadata": {},
   "outputs": [
    {
     "data": {
      "text/plain": [
       "TimedeltaIndex(['0 days 00:00:00', '0 days 02:30:00', '0 days 05:00:00',\n",
       "                '0 days 07:30:00', '0 days 10:00:00', '0 days 12:30:00',\n",
       "                '0 days 15:00:00', '0 days 17:30:00', '0 days 20:00:00'],\n",
       "               dtype='timedelta64[ns]', freq='150T')"
      ]
     },
     "execution_count": 20,
     "metadata": {},
     "output_type": "execute_result"
    }
   ],
   "source": [
    "pd.timedelta_range(0, periods=9, ________)"
   ]
  },
  {
   "cell_type": "markdown",
   "id": "1274516b",
   "metadata": {},
   "source": [
    "### Resampling, Shifting, and Windowing (Financial Data)\n",
    "\n",
    "La capacidad de utilizar fechas y horas como índices para organizar y acceder de forma intuitiva a los datos es una pieza importante de las herramientas de series temporales de Pandas. Los beneficios de los datos indexados en general (alineación automática durante las operaciones, división y acceso intuitivo de datos, etc.) aún se aplican, y Pandas proporciona varias operaciones adicionales específicas de series de tiempo."
   ]
  },
  {
   "cell_type": "code",
   "execution_count": 21,
   "id": "de724d7e",
   "metadata": {},
   "outputs": [],
   "source": [
    "from pandas_datareader import data \n",
    "import matplotlib.pyplot as plt\n",
    "import seaborn; seaborn.set()\n",
    "\n",
    "aapl = data.DataReader(\"AAPL\", \"yahoo\", 2018, 2022) # Yahoo Finance Data\n",
    "\n",
    "# Por facilidad trabajamos solo con el precio de cierre \n",
    "aapl = aapl['Close']"
   ]
  },
  {
   "cell_type": "code",
   "execution_count": 22,
   "id": "2583e496",
   "metadata": {},
   "outputs": [
    {
     "data": {
      "image/png": "[encoded data removed]",
      "text/plain": [
       "<Figure size 432x288 with 1 Axes>"
      ]
     },
     "metadata": {
      "needs_background": "light"
     },
     "output_type": "display_data"
    }
   ],
   "source": [
    "%matplotlib inline\n",
    "\n",
    "aapl._____();"
   ]
  },
  {
   "cell_type": "markdown",
   "id": "8f6bcda4",
   "metadata": {},
   "source": [
    "Una necesidad común de datos de series temporales es volver a muestrear a una frecuencia más alta o más baja. Puedes hacer esto usando el método resample(), o el método mucho más simple asfreq(). La principal diferencia entre los dos es que resample() es fundamentalmente una agregación de datos, mientras que asfreq() es fundamentalmente una selección de datos."
   ]
  },
  {
   "cell_type": "code",
   "execution_count": 23,
   "id": "f37e118a",
   "metadata": {
    "scrolled": true
   },
   "outputs": [
    {
     "data": {
      "image/png": "[encoded data removed]",
      "text/plain": [
       "<Figure size 432x288 with 1 Axes>"
      ]
     },
     "metadata": {
      "needs_background": "light"
     },
     "output_type": "display_data"
    }
   ],
   "source": [
    "aapl.plot(alpha=0.6, style='-')\n",
    "aapl.________('W').mean().plot(style=':')\n",
    "aapl.________('BMS').plot(style='--');\n",
    "plt.legend(['input', 'resample', 'asfreq'],\n",
    "loc='upper left');\n"
   ]
  },
  {
   "cell_type": "code",
   "execution_count": 24,
   "id": "313c2ea8",
   "metadata": {},
   "outputs": [
    {
     "data": {
      "text/plain": [
       "<bound method NDFrame._add_numeric_operations.<locals>.max of Date\n",
       "2018-01-02     43.064999\n",
       "2018-01-03     43.057499\n",
       "2018-01-04     43.257500\n",
       "2018-01-05     43.750000\n",
       "2018-01-08     43.587502\n",
       "                 ...    \n",
       "2021-12-27    180.330002\n",
       "2021-12-28    179.289993\n",
       "2021-12-29    179.380005\n",
       "2021-12-30    178.199997\n",
       "2021-12-31    177.570007\n",
       "Name: Close, Length: 1008, dtype: float64>"
      ]
     },
     "execution_count": 24,
     "metadata": {},
     "output_type": "execute_result"
    }
   ],
   "source": [
    "aapl.max"
   ]
  },
  {
   "cell_type": "markdown",
   "id": "1e376f2e",
   "metadata": {},
   "source": [
    "Para el muestreo ascendente, resample() y asfreq() son en gran medida equivalentes, aunque resample tiene muchas más opciones disponibles. En este caso, el valor predeterminado para ambos métodos es dejar vacíos los puntos muestreados, es decir, llenos con valores NA."
   ]
  },
  {
   "cell_type": "code",
   "execution_count": 25,
   "id": "23b9c3a0",
   "metadata": {},
   "outputs": [
    {
     "data": {
      "image/png": "[encoded data removed]",
      "text/plain": [
       "<Figure size 432x288 with 2 Axes>"
      ]
     },
     "metadata": {
      "needs_background": "light"
     },
     "output_type": "display_data"
    }
   ],
   "source": [
    "fig, ax = plt.subplots(2, sharex=True)\n",
    "\n",
    "data = aapl.iloc[:10]\n",
    "data.asfreq('D').plot(ax=ax[0], marker='o')\n",
    "data.asfreq('D', ________).plot(ax=ax[1], style='-o')\n",
    "data.asfreq('D', ________).plot(ax=ax[1], style='--o')\n",
    "ax[1].legend([\"back-fill\", \"forward-fill\"]);\n"
   ]
  }
 ],
 "metadata": {
  "kernelspec": {
   "display_name": "Python 3",
   "language": "python",
   "name": "python3"
  },
  "language_info": {
   "codemirror_mode": {
    "name": "ipython",
    "version": 3
   },
   "file_extension": ".py",
   "mimetype": "text/x-python",
   "name": "python",
   "nbconvert_exporter": "python",
   "pygments_lexer": "ipython3",
   "version": "3.8.5"
  }
 },
 "nbformat": 4,
 "nbformat_minor": 5
}
