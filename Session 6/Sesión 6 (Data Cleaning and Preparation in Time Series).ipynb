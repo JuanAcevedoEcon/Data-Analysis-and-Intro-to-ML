{
 "cells": [
  {
   "cell_type": "markdown",
   "id": "1845eaae",
   "metadata": {},
   "source": [
    "### 1.) Datetime, Date and Timedelta"
   ]
  },
  {
   "cell_type": "code",
   "execution_count": 1,
   "id": "50ad8cf3",
   "metadata": {},
   "outputs": [],
   "source": [
    "import pandas as pd\n",
    "import numpy as np\n",
    "\n",
    "from datetime import datetime, date, timedelta"
   ]
  },
  {
   "cell_type": "code",
   "execution_count": 2,
   "id": "a29cefea",
   "metadata": {},
   "outputs": [
    {
     "name": "stdout",
     "output_type": "stream",
     "text": [
      "2022-11-12 10:43:20.911000\n"
     ]
    }
   ],
   "source": [
    "x = datetime.now()\n",
    "print(x)"
   ]
  },
  {
   "cell_type": "code",
   "execution_count": 3,
   "id": "e80c3cba",
   "metadata": {},
   "outputs": [
    {
     "name": "stdout",
     "output_type": "stream",
     "text": [
      "2022\n",
      "11\n",
      "12\n",
      "10\n",
      "43\n",
      "20\n"
     ]
    }
   ],
   "source": [
    "print(x.year)\n",
    "print(x.month)\n",
    "print(x.day)\n",
    "print(x.hour)\n",
    "print(x.minute)\n",
    "print(x.second)"
   ]
  },
  {
   "cell_type": "code",
   "execution_count": 4,
   "id": "b816208d",
   "metadata": {},
   "outputs": [
    {
     "name": "stdout",
     "output_type": "stream",
     "text": [
      "November\n",
      "Nov\n",
      "Saturday\n",
      "AM\n",
      "11/12/22 10:43:20\n",
      "11/12/22\n"
     ]
    }
   ],
   "source": [
    "print(x.strftime(\"%B\"))\n",
    "print(x.strftime(\"%b\"))\n",
    "print(x.strftime(\"%A\"))\n",
    "print(x.strftime(\"%p\"))\n",
    "print(x.strftime(\"%c\"))\n",
    "print(x.strftime(\"%x\"))"
   ]
  },
  {
   "cell_type": "code",
   "execution_count": 5,
   "id": "dc1f7303",
   "metadata": {},
   "outputs": [
    {
     "name": "stdout",
     "output_type": "stream",
     "text": [
      "2022-12-01\n"
     ]
    }
   ],
   "source": [
    "x = date(2022,12,1)\n",
    "print(x)"
   ]
  },
  {
   "cell_type": "code",
   "execution_count": 6,
   "id": "a60b5969",
   "metadata": {},
   "outputs": [
    {
     "name": "stdout",
     "output_type": "stream",
     "text": [
      "2022\n",
      "12\n",
      "1\n"
     ]
    }
   ],
   "source": [
    "print(x.year)\n",
    "print(x.month)\n",
    "print(x.day)"
   ]
  },
  {
   "cell_type": "code",
   "execution_count": 12,
   "id": "8123d14c",
   "metadata": {},
   "outputs": [
    {
     "name": "stdout",
     "output_type": "stream",
     "text": [
      "('Fecha Original: ', datetime.date(2022, 12, 1))\n",
      "('Fecha - 10 days: ', datetime.date(2022, 11, 21))\n",
      "('Fecha + 1 weeks: ', datetime.date(2022, 12, 8))\n",
      "('Fecha - (2 days + 4 weeks): ', datetime.date(2022, 11, 1))\n"
     ]
    }
   ],
   "source": [
    "print(\"Fecha Original: \", x)\n",
    "\n",
    "print(\"Fecha - 10 days: \", x - timedelta(days=10))\n",
    "print(\"Fecha + 1 weeks: \", x + timedelta(weeks = 1))\n",
    "print(\"Fecha - (2 days + 4 weeks): \", x - timedelta(days = 2, weeks = 4))"
   ]
  },
  {
   "cell_type": "markdown",
   "id": "00bbe663",
   "metadata": {},
   "source": [
    "### 2.) Time Series en Pandas\n",
    "\n",
    "Los más fundamentales de estos objetos de fecha/hora son los objetos Timestamp y DatetimeIndex. Si bien estos objetos de clase se pueden invocar directamente, es más común usar la función pd.to_datetime(), que puede analizar una amplia variedad de formatos. Pasar una sola fecha a pd.to_datetime() produce una marca de tiempo; pasar una serie de fechas de forma predeterminada produce un DatetimeIndex:"
   ]
  },
  {
   "cell_type": "code",
   "execution_count": 13,
   "id": "a69f0030",
   "metadata": {},
   "outputs": [
    {
     "data": {
      "text/plain": [
       "DatetimeIndex(['2022-07-03', '2022-07-04', '2022-07-06', '2022-07-07',\n",
       "               '2022-07-08'],\n",
       "              dtype='datetime64[ns]', freq=None)"
      ]
     },
     "execution_count": 13,
     "metadata": {},
     "output_type": "execute_result"
    }
   ],
   "source": [
    "dates = pd.to_datetime([datetime(2022, 7, 3), '4th of July, 2022','2022-Jul-6', '07-07-2022', '20220708'])\n",
    "dates"
   ]
  },
  {
   "cell_type": "code",
   "execution_count": 14,
   "id": "463c5f6f",
   "metadata": {},
   "outputs": [
    {
     "data": {
      "text/plain": [
       "DatetimeIndex(['2022-12-03', '2022-12-04', '2022-12-06', '2022-12-07',\n",
       "               '2023-01-01'],\n",
       "              dtype='datetime64[ns]', freq=None)"
      ]
     },
     "execution_count": 14,
     "metadata": {},
     "output_type": "execute_result"
    }
   ],
   "source": [
    "dates = pd.to_datetime([datetime(2022, 12, 3), '4th of December, 2022','2022-Dec-6', '12-07-2022', '20230101'])\n",
    "dates"
   ]
  },
  {
   "cell_type": "code",
   "execution_count": 15,
   "id": "cdeb1855",
   "metadata": {},
   "outputs": [
    {
     "data": {
      "text/plain": [
       "PeriodIndex(['2022-12-03', '2022-12-04', '2022-12-06', '2022-12-07',\n",
       "             '2023-01-01'],\n",
       "            dtype='period[D]', freq='D')"
      ]
     },
     "execution_count": 15,
     "metadata": {},
     "output_type": "execute_result"
    }
   ],
   "source": [
    "dates.to_period('D')"
   ]
  },
  {
   "cell_type": "code",
   "execution_count": 18,
   "id": "48d25131",
   "metadata": {},
   "outputs": [
    {
     "data": {
      "text/plain": [
       "PeriodIndex(['2022-11-28/2022-12-04', '2022-11-28/2022-12-04',\n",
       "             '2022-12-05/2022-12-11', '2022-12-05/2022-12-11',\n",
       "             '2022-12-26/2023-01-01'],\n",
       "            dtype='period[W-SUN]', freq='W-SUN')"
      ]
     },
     "execution_count": 18,
     "metadata": {},
     "output_type": "execute_result"
    }
   ],
   "source": [
    "dates.to_period('W') "
   ]
  },
  {
   "cell_type": "code",
   "execution_count": 19,
   "id": "dbd8305f",
   "metadata": {},
   "outputs": [
    {
     "data": {
      "text/plain": [
       "PeriodIndex(['2022', '2022', '2022', '2022', '2023'], dtype='period[A-DEC]', freq='A-DEC')"
      ]
     },
     "execution_count": 19,
     "metadata": {},
     "output_type": "execute_result"
    }
   ],
   "source": [
    "dates.to_period('Y')"
   ]
  },
  {
   "cell_type": "markdown",
   "id": "33897f03",
   "metadata": {},
   "source": [
    "TimedeltaIndex se crea, por ejemplo, cuando se resta una fecha de otra:"
   ]
  },
  {
   "cell_type": "code",
   "execution_count": 20,
   "id": "38852def",
   "metadata": {},
   "outputs": [
    {
     "data": {
      "text/plain": [
       "TimedeltaIndex(['0 days', '1 days', '3 days', '4 days', '29 days'], dtype='timedelta64[ns]', freq=None)"
      ]
     },
     "execution_count": 20,
     "metadata": {},
     "output_type": "execute_result"
    }
   ],
   "source": [
    "dates - dates[0]"
   ]
  },
  {
   "cell_type": "markdown",
   "id": "23c3e462",
   "metadata": {},
   "source": [
    "##### Regular sequences: pd.date_range()"
   ]
  },
  {
   "cell_type": "code",
   "execution_count": 21,
   "id": "191786d5",
   "metadata": {},
   "outputs": [
    {
     "data": {
      "text/plain": [
       "DatetimeIndex(['2022-10-03', '2022-10-04', '2022-10-05', '2022-10-06',\n",
       "               '2022-10-07', '2022-10-08', '2022-10-09', '2022-10-10',\n",
       "               '2022-10-11', '2022-10-12', '2022-10-13'],\n",
       "              dtype='datetime64[ns]', freq='D')"
      ]
     },
     "execution_count": 21,
     "metadata": {},
     "output_type": "execute_result"
    }
   ],
   "source": [
    "pd.date_range('2022-10-03', '2022-10-13')"
   ]
  },
  {
   "cell_type": "code",
   "execution_count": 22,
   "id": "fc369d7d",
   "metadata": {},
   "outputs": [
    {
     "data": {
      "text/plain": [
       "DatetimeIndex(['2022-07-03', '2022-07-04', '2022-07-05', '2022-07-06',\n",
       "               '2022-07-07', '2022-07-08', '2022-07-09', '2022-07-10'],\n",
       "              dtype='datetime64[ns]', freq='D')"
      ]
     },
     "execution_count": 22,
     "metadata": {},
     "output_type": "execute_result"
    }
   ],
   "source": [
    "pd.date_range('2022-07-03', periods=8)"
   ]
  },
  {
   "cell_type": "code",
   "execution_count": 23,
   "id": "67a6360a",
   "metadata": {
    "scrolled": true
   },
   "outputs": [
    {
     "data": {
      "text/plain": [
       "DatetimeIndex(['2022-07-31', '2022-08-31', '2022-09-30', '2022-10-31',\n",
       "               '2022-11-30', '2022-12-31', '2023-01-31', '2023-02-28'],\n",
       "              dtype='datetime64[ns]', freq='M')"
      ]
     },
     "execution_count": 23,
     "metadata": {},
     "output_type": "execute_result"
    }
   ],
   "source": [
    "pd.date_range('2022-07-03', periods=8, freq = \"M\")"
   ]
  },
  {
   "cell_type": "code",
   "execution_count": 24,
   "id": "219e776f",
   "metadata": {},
   "outputs": [
    {
     "data": {
      "text/plain": [
       "DatetimeIndex(['2022-07-01', '2022-08-01', '2022-09-01', '2022-10-03',\n",
       "               '2022-11-01', '2022-12-01', '2023-01-02', '2023-02-01'],\n",
       "              dtype='datetime64[ns]', freq='BMS')"
      ]
     },
     "execution_count": 24,
     "metadata": {},
     "output_type": "execute_result"
    }
   ],
   "source": [
    "pd.date_range('2022-07', periods=8, freq = \"BMS\") "
   ]
  },
  {
   "cell_type": "markdown",
   "id": "453b8686",
   "metadata": {},
   "source": [
    "Para crear secuencias regulares de períodos o valores delta de tiempo, las funciones muy similares pd.period_range() y pd.timedelta_range() son útiles. Estos son algunos períodos mensuales:"
   ]
  },
  {
   "cell_type": "code",
   "execution_count": 26,
   "id": "9821ebbd",
   "metadata": {},
   "outputs": [
    {
     "data": {
      "text/plain": [
       "PeriodIndex(['2022', '2023', '2024', '2025', '2026', '2027', '2028', '2029'], dtype='period[A-DEC]', freq='A-DEC')"
      ]
     },
     "execution_count": 26,
     "metadata": {},
     "output_type": "execute_result"
    }
   ],
   "source": [
    "pd.period_range('2022-07', periods=8, freq = \"Y\")"
   ]
  },
  {
   "cell_type": "code",
   "execution_count": 27,
   "id": "f4d2c234",
   "metadata": {},
   "outputs": [
    {
     "data": {
      "text/plain": [
       "TimedeltaIndex(['00:00:00', '01:00:00', '02:00:00', '03:00:00', '04:00:00',\n",
       "                '05:00:00', '06:00:00', '07:00:00', '08:00:00', '09:00:00'],\n",
       "               dtype='timedelta64[ns]', freq='H')"
      ]
     },
     "execution_count": 27,
     "metadata": {},
     "output_type": "execute_result"
    }
   ],
   "source": [
    "pd.timedelta_range(0, periods=10, freq = \"H\")"
   ]
  },
  {
   "cell_type": "code",
   "execution_count": 28,
   "id": "a472ddfd",
   "metadata": {},
   "outputs": [
    {
     "data": {
      "text/plain": [
       "TimedeltaIndex(['00:00:00', '02:30:00', '05:00:00', '07:30:00', '10:00:00',\n",
       "                '12:30:00', '15:00:00', '17:30:00', '20:00:00'],\n",
       "               dtype='timedelta64[ns]', freq='150T')"
      ]
     },
     "execution_count": 28,
     "metadata": {},
     "output_type": "execute_result"
    }
   ],
   "source": [
    "pd.timedelta_range(0, periods=9, freq = \"2H30T\")"
   ]
  },
  {
   "cell_type": "markdown",
   "id": "ea216ee0",
   "metadata": {},
   "source": [
    "### Resampling, Shifting, and Windowing (Financial Data)\n",
    "\n",
    "La capacidad de utilizar fechas y horas como índices para organizar y acceder de forma intuitiva a los datos es una pieza importante de las herramientas de series temporales de Pandas. Los beneficios de los datos indexados en general (alineación automática durante las operaciones, división y acceso intuitivo de datos, etc.) aún se aplican, y Pandas proporciona varias operaciones adicionales específicas de series de tiempo."
   ]
  },
  {
   "cell_type": "code",
   "execution_count": 7,
   "id": "0ade2308",
   "metadata": {},
   "outputs": [
    {
     "ename": "RemoteDataError",
     "evalue": "Unable to read URL: https://finance.yahoo.com/quote/AAPL/history?interval=1d&filter=history&frequency=1d&period2=1641113999&period1=1514797200\nResponse Text:\n<!DOCTYPE html>\n  <html lang=\"en-us\"><head>\n  <meta http-equiv=\"content-type\" content=\"text/html; charset=UTF-8\">\n      <meta charset=\"utf-8\">\n      <title>Yahoo</title>\n      <meta name=\"viewport\" content=\"width=device-width,initial-scale=1,minimal-ui\">\n      <meta http-equiv=\"X-UA-Compatible\" content=\"IE=edge,chrome=1\">\n      <style>\n  html {\n      height: 100%;\n  }\n  body {\n      background: #fafafc url(https://s.yimg.com/nn/img/sad-panda-201402200631.png) 50% 50%;\n      background-size: cover;\n      height: 100%;\n      text-align: center;\n      font: 300 18px \"helvetica neue\", helvetica, verdana, tahoma, arial, sans-serif;\n  }\n  table {\n      height: 100%;\n      width: 100%;\n      table-layout: fixed;\n      border-collapse: collapse;\n      border-spacing: 0;\n      border: none;\n  }\n  h1 {\n      font-size: 42px;\n      font-weight: 400;\n      color: #400090;\n  }\n  p {\n      color: #1A1A1A;\n  }\n  #message-1 {\n      font-weight: bold;\n      margin: 0;\n  }\n  #message-2 {\n      display: inline-block;\n      *display: inline;\n      zoom: 1;\n      max-width: 17em;\n      _width: 17em;\n  }\n      </style>\n  <script>\n    document.write('<img src=\"//geo.yahoo.com/b?s=1197757129&t='+new Date().getTime()+'&src=aws&err_url='+encodeURIComponent(document.URL)+'&err=%<pssc>&test='+encodeURIComponent('%<{Bucket}cqh[:200]>')+'\" width=\"0px\" height=\"0px\"/>');var beacon = new Image();beacon.src=\"//bcn.fp.yahoo.com/p?s=1197757129&t=\"+new Date().getTime()+\"&src=aws&err_url=\"+encodeURIComponent(document.URL)+\"&err=%<pssc>&test=\"+encodeURIComponent('%<{Bucket}cqh[:200]>');\n  </script>\n  </head>\n  <body>\n  <!-- status code : 404 -->\n  <!-- Not Found on Server -->\n  <table>\n  <tbody><tr>\n      <td>\n      <img src=\"https://s.yimg.com/rz/p/yahoo_frontpage_en-US_s_f_p_205x58_frontpage.png\" alt=\"Yahoo Logo\">\n      <h1 style=\"margin-top:20px;\">Will be right back...</h1>\n      <p id=\"message-1\">Thank you for your patience.</p>\n      <p id=\"message-2\">Our engineers are working quickly to resolve the issue.</p>\n      </td>\n  </tr>\n  </tbody></table>\n  </body></html>",
     "output_type": "error",
     "traceback": [
      "\u001b[1;31m---------------------------------------------------------------------------\u001b[0m",
      "\u001b[1;31mRemoteDataError\u001b[0m                           Traceback (most recent call last)",
      "\u001b[1;32m<ipython-input-7-61e7297ccb1c>\u001b[0m in \u001b[0;36m<module>\u001b[1;34m()\u001b[0m\n\u001b[0;32m      3\u001b[0m \u001b[1;32mimport\u001b[0m \u001b[0mseaborn\u001b[0m\u001b[1;33m;\u001b[0m \u001b[0mseaborn\u001b[0m\u001b[1;33m.\u001b[0m\u001b[0mset\u001b[0m\u001b[1;33m(\u001b[0m\u001b[1;33m)\u001b[0m\u001b[1;33m\u001b[0m\u001b[0m\n\u001b[0;32m      4\u001b[0m \u001b[1;33m\u001b[0m\u001b[0m\n\u001b[1;32m----> 5\u001b[1;33m \u001b[0maapl\u001b[0m \u001b[1;33m=\u001b[0m \u001b[0mdata\u001b[0m\u001b[1;33m.\u001b[0m\u001b[0mDataReader\u001b[0m\u001b[1;33m(\u001b[0m\u001b[1;34m\"AAPL\"\u001b[0m\u001b[1;33m,\u001b[0m \u001b[1;34m\"yahoo\"\u001b[0m\u001b[1;33m,\u001b[0m \u001b[1;36m2018\u001b[0m\u001b[1;33m,\u001b[0m \u001b[1;36m2022\u001b[0m\u001b[1;33m)\u001b[0m \u001b[1;31m# Yahoo Finance Data\u001b[0m\u001b[1;33m\u001b[0m\u001b[0m\n\u001b[0m\u001b[0;32m      6\u001b[0m \u001b[1;33m\u001b[0m\u001b[0m\n\u001b[0;32m      7\u001b[0m \u001b[1;31m# Por facilidad trabajamos solo con el precio de cierre\u001b[0m\u001b[1;33m\u001b[0m\u001b[1;33m\u001b[0m\u001b[0m\n",
      "\u001b[1;32mC:\\ProgramData\\Anaconda2\\lib\\site-packages\\pandas\\util\\_decorators.py\u001b[0m in \u001b[0;36mwrapper\u001b[1;34m(*args, **kwargs)\u001b[0m\n\u001b[0;32m    176\u001b[0m                 \u001b[1;32melse\u001b[0m\u001b[1;33m:\u001b[0m\u001b[1;33m\u001b[0m\u001b[0m\n\u001b[0;32m    177\u001b[0m                     \u001b[0mkwargs\u001b[0m\u001b[1;33m[\u001b[0m\u001b[0mnew_arg_name\u001b[0m\u001b[1;33m]\u001b[0m \u001b[1;33m=\u001b[0m \u001b[0mnew_arg_value\u001b[0m\u001b[1;33m\u001b[0m\u001b[0m\n\u001b[1;32m--> 178\u001b[1;33m             \u001b[1;32mreturn\u001b[0m \u001b[0mfunc\u001b[0m\u001b[1;33m(\u001b[0m\u001b[1;33m*\u001b[0m\u001b[0margs\u001b[0m\u001b[1;33m,\u001b[0m \u001b[1;33m**\u001b[0m\u001b[0mkwargs\u001b[0m\u001b[1;33m)\u001b[0m\u001b[1;33m\u001b[0m\u001b[0m\n\u001b[0m\u001b[0;32m    179\u001b[0m         \u001b[1;32mreturn\u001b[0m \u001b[0mwrapper\u001b[0m\u001b[1;33m\u001b[0m\u001b[0m\n\u001b[0;32m    180\u001b[0m     \u001b[1;32mreturn\u001b[0m \u001b[0m_deprecate_kwarg\u001b[0m\u001b[1;33m\u001b[0m\u001b[0m\n",
      "\u001b[1;32mC:\\ProgramData\\Anaconda2\\lib\\site-packages\\pandas_datareader\\data.pyc\u001b[0m in \u001b[0;36mDataReader\u001b[1;34m(name, data_source, start, end, retry_count, pause, session, api_key)\u001b[0m\n\u001b[0;32m    385\u001b[0m             \u001b[0mretry_count\u001b[0m\u001b[1;33m=\u001b[0m\u001b[0mretry_count\u001b[0m\u001b[1;33m,\u001b[0m\u001b[1;33m\u001b[0m\u001b[0m\n\u001b[0;32m    386\u001b[0m             \u001b[0mpause\u001b[0m\u001b[1;33m=\u001b[0m\u001b[0mpause\u001b[0m\u001b[1;33m,\u001b[0m\u001b[1;33m\u001b[0m\u001b[0m\n\u001b[1;32m--> 387\u001b[1;33m             \u001b[0msession\u001b[0m\u001b[1;33m=\u001b[0m\u001b[0msession\u001b[0m\u001b[1;33m,\u001b[0m\u001b[1;33m\u001b[0m\u001b[0m\n\u001b[0m\u001b[0;32m    388\u001b[0m         ).read()\n\u001b[0;32m    389\u001b[0m \u001b[1;33m\u001b[0m\u001b[0m\n",
      "\u001b[1;32mC:\\ProgramData\\Anaconda2\\lib\\site-packages\\pandas_datareader\\base.pyc\u001b[0m in \u001b[0;36mread\u001b[1;34m(self)\u001b[0m\n\u001b[0;32m    249\u001b[0m         \u001b[1;31m# If a single symbol, (e.g., 'GOOG')\u001b[0m\u001b[1;33m\u001b[0m\u001b[1;33m\u001b[0m\u001b[0m\n\u001b[0;32m    250\u001b[0m         \u001b[1;32mif\u001b[0m \u001b[0misinstance\u001b[0m\u001b[1;33m(\u001b[0m\u001b[0mself\u001b[0m\u001b[1;33m.\u001b[0m\u001b[0msymbols\u001b[0m\u001b[1;33m,\u001b[0m \u001b[1;33m(\u001b[0m\u001b[0mstring_types\u001b[0m\u001b[1;33m,\u001b[0m \u001b[0mint\u001b[0m\u001b[1;33m)\u001b[0m\u001b[1;33m)\u001b[0m\u001b[1;33m:\u001b[0m\u001b[1;33m\u001b[0m\u001b[0m\n\u001b[1;32m--> 251\u001b[1;33m             \u001b[0mdf\u001b[0m \u001b[1;33m=\u001b[0m \u001b[0mself\u001b[0m\u001b[1;33m.\u001b[0m\u001b[0m_read_one_data\u001b[0m\u001b[1;33m(\u001b[0m\u001b[0mself\u001b[0m\u001b[1;33m.\u001b[0m\u001b[0murl\u001b[0m\u001b[1;33m,\u001b[0m \u001b[0mparams\u001b[0m\u001b[1;33m=\u001b[0m\u001b[0mself\u001b[0m\u001b[1;33m.\u001b[0m\u001b[0m_get_params\u001b[0m\u001b[1;33m(\u001b[0m\u001b[0mself\u001b[0m\u001b[1;33m.\u001b[0m\u001b[0msymbols\u001b[0m\u001b[1;33m)\u001b[0m\u001b[1;33m)\u001b[0m\u001b[1;33m\u001b[0m\u001b[0m\n\u001b[0m\u001b[0;32m    252\u001b[0m         \u001b[1;31m# Or multiple symbols, (e.g., ['GOOG', 'AAPL', 'MSFT'])\u001b[0m\u001b[1;33m\u001b[0m\u001b[1;33m\u001b[0m\u001b[0m\n\u001b[0;32m    253\u001b[0m         \u001b[1;32melif\u001b[0m \u001b[0misinstance\u001b[0m\u001b[1;33m(\u001b[0m\u001b[0mself\u001b[0m\u001b[1;33m.\u001b[0m\u001b[0msymbols\u001b[0m\u001b[1;33m,\u001b[0m \u001b[0mDataFrame\u001b[0m\u001b[1;33m)\u001b[0m\u001b[1;33m:\u001b[0m\u001b[1;33m\u001b[0m\u001b[0m\n",
      "\u001b[1;32mC:\\ProgramData\\Anaconda2\\lib\\site-packages\\pandas_datareader\\yahoo\\daily.pyc\u001b[0m in \u001b[0;36m_read_one_data\u001b[1;34m(self, url, params)\u001b[0m\n\u001b[0;32m    151\u001b[0m         \u001b[0murl\u001b[0m \u001b[1;33m=\u001b[0m \u001b[0murl\u001b[0m\u001b[1;33m.\u001b[0m\u001b[0mformat\u001b[0m\u001b[1;33m(\u001b[0m\u001b[0msymbol\u001b[0m\u001b[1;33m)\u001b[0m\u001b[1;33m\u001b[0m\u001b[0m\n\u001b[0;32m    152\u001b[0m \u001b[1;33m\u001b[0m\u001b[0m\n\u001b[1;32m--> 153\u001b[1;33m         \u001b[0mresp\u001b[0m \u001b[1;33m=\u001b[0m \u001b[0mself\u001b[0m\u001b[1;33m.\u001b[0m\u001b[0m_get_response\u001b[0m\u001b[1;33m(\u001b[0m\u001b[0murl\u001b[0m\u001b[1;33m,\u001b[0m \u001b[0mparams\u001b[0m\u001b[1;33m=\u001b[0m\u001b[0mparams\u001b[0m\u001b[1;33m)\u001b[0m\u001b[1;33m\u001b[0m\u001b[0m\n\u001b[0m\u001b[0;32m    154\u001b[0m         \u001b[0mptrn\u001b[0m \u001b[1;33m=\u001b[0m \u001b[1;34mr\"root\\.App\\.main = (.*?);\\n}\\(this\\)\\);\"\u001b[0m\u001b[1;33m\u001b[0m\u001b[0m\n\u001b[0;32m    155\u001b[0m         \u001b[1;32mtry\u001b[0m\u001b[1;33m:\u001b[0m\u001b[1;33m\u001b[0m\u001b[0m\n",
      "\u001b[1;32mC:\\ProgramData\\Anaconda2\\lib\\site-packages\\pandas_datareader\\base.pyc\u001b[0m in \u001b[0;36m_get_response\u001b[1;34m(self, url, params, headers)\u001b[0m\n\u001b[0;32m    177\u001b[0m             \u001b[0mmsg\u001b[0m \u001b[1;33m+=\u001b[0m \u001b[1;34m\"\\nResponse Text:\\n{0}\"\u001b[0m\u001b[1;33m.\u001b[0m\u001b[0mformat\u001b[0m\u001b[1;33m(\u001b[0m\u001b[0mlast_response_text\u001b[0m\u001b[1;33m)\u001b[0m\u001b[1;33m\u001b[0m\u001b[0m\n\u001b[0;32m    178\u001b[0m \u001b[1;33m\u001b[0m\u001b[0m\n\u001b[1;32m--> 179\u001b[1;33m         \u001b[1;32mraise\u001b[0m \u001b[0mRemoteDataError\u001b[0m\u001b[1;33m(\u001b[0m\u001b[0mmsg\u001b[0m\u001b[1;33m)\u001b[0m\u001b[1;33m\u001b[0m\u001b[0m\n\u001b[0m\u001b[0;32m    180\u001b[0m \u001b[1;33m\u001b[0m\u001b[0m\n\u001b[0;32m    181\u001b[0m     \u001b[1;32mdef\u001b[0m \u001b[0m_get_crumb\u001b[0m\u001b[1;33m(\u001b[0m\u001b[0mself\u001b[0m\u001b[1;33m,\u001b[0m \u001b[1;33m*\u001b[0m\u001b[0margs\u001b[0m\u001b[1;33m)\u001b[0m\u001b[1;33m:\u001b[0m\u001b[1;33m\u001b[0m\u001b[0m\n",
      "\u001b[1;31mRemoteDataError\u001b[0m: Unable to read URL: https://finance.yahoo.com/quote/AAPL/history?interval=1d&filter=history&frequency=1d&period2=1641113999&period1=1514797200\nResponse Text:\n<!DOCTYPE html>\n  <html lang=\"en-us\"><head>\n  <meta http-equiv=\"content-type\" content=\"text/html; charset=UTF-8\">\n      <meta charset=\"utf-8\">\n      <title>Yahoo</title>\n      <meta name=\"viewport\" content=\"width=device-width,initial-scale=1,minimal-ui\">\n      <meta http-equiv=\"X-UA-Compatible\" content=\"IE=edge,chrome=1\">\n      <style>\n  html {\n      height: 100%;\n  }\n  body {\n      background: #fafafc url(https://s.yimg.com/nn/img/sad-panda-201402200631.png) 50% 50%;\n      background-size: cover;\n      height: 100%;\n      text-align: center;\n      font: 300 18px \"helvetica neue\", helvetica, verdana, tahoma, arial, sans-serif;\n  }\n  table {\n      height: 100%;\n      width: 100%;\n      table-layout: fixed;\n      border-collapse: collapse;\n      border-spacing: 0;\n      border: none;\n  }\n  h1 {\n      font-size: 42px;\n      font-weight: 400;\n      color: #400090;\n  }\n  p {\n      color: #1A1A1A;\n  }\n  #message-1 {\n      font-weight: bold;\n      margin: 0;\n  }\n  #message-2 {\n      display: inline-block;\n      *display: inline;\n      zoom: 1;\n      max-width: 17em;\n      _width: 17em;\n  }\n      </style>\n  <script>\n    document.write('<img src=\"//geo.yahoo.com/b?s=1197757129&t='+new Date().getTime()+'&src=aws&err_url='+encodeURIComponent(document.URL)+'&err=%<pssc>&test='+encodeURIComponent('%<{Bucket}cqh[:200]>')+'\" width=\"0px\" height=\"0px\"/>');var beacon = new Image();beacon.src=\"//bcn.fp.yahoo.com/p?s=1197757129&t=\"+new Date().getTime()+\"&src=aws&err_url=\"+encodeURIComponent(document.URL)+\"&err=%<pssc>&test=\"+encodeURIComponent('%<{Bucket}cqh[:200]>');\n  </script>\n  </head>\n  <body>\n  <!-- status code : 404 -->\n  <!-- Not Found on Server -->\n  <table>\n  <tbody><tr>\n      <td>\n      <img src=\"https://s.yimg.com/rz/p/yahoo_frontpage_en-US_s_f_p_205x58_frontpage.png\" alt=\"Yahoo Logo\">\n      <h1 style=\"margin-top:20px;\">Will be right back...</h1>\n      <p id=\"message-1\">Thank you for your patience.</p>\n      <p id=\"message-2\">Our engineers are working quickly to resolve the issue.</p>\n      </td>\n  </tr>\n  </tbody></table>\n  </body></html>"
     ]
    }
   ],
   "source": [
    "from pandas_datareader import data \n",
    "import matplotlib.pyplot as plt\n",
    "import seaborn; seaborn.set()\n",
    "\n",
    "aapl = data.DataReader(\"AAPL\", \"yahoo\", 2018, 2022) # Yahoo Finance Data\n",
    "\n",
    "# Por facilidad trabajamos solo con el precio de cierre \n",
    "aapl = aapl['Close']"
   ]
  },
  {
   "cell_type": "code",
   "execution_count": 4,
   "id": "9067c9cc",
   "metadata": {},
   "outputs": [
    {
     "ename": "ImportError",
     "evalue": "No module named yfinance",
     "output_type": "error",
     "traceback": [
      "\u001b[1;31m---------------------------------------------------------------------------\u001b[0m",
      "\u001b[1;31mImportError\u001b[0m                               Traceback (most recent call last)",
      "\u001b[1;32m<ipython-input-4-64c65c1f1884>\u001b[0m in \u001b[0;36m<module>\u001b[1;34m()\u001b[0m\n\u001b[0;32m      1\u001b[0m \u001b[1;32mimport\u001b[0m \u001b[0mmatplotlib\u001b[0m\u001b[1;33m.\u001b[0m\u001b[0mpyplot\u001b[0m \u001b[1;32mas\u001b[0m \u001b[0mplt\u001b[0m\u001b[1;33m\u001b[0m\u001b[0m\n\u001b[0;32m      2\u001b[0m \u001b[1;32mimport\u001b[0m \u001b[0mseaborn\u001b[0m\u001b[1;33m;\u001b[0m \u001b[0mseaborn\u001b[0m\u001b[1;33m.\u001b[0m\u001b[0mset\u001b[0m\u001b[1;33m(\u001b[0m\u001b[1;33m)\u001b[0m\u001b[1;33m\u001b[0m\u001b[0m\n\u001b[1;32m----> 3\u001b[1;33m \u001b[1;32mimport\u001b[0m \u001b[0myfinance\u001b[0m \u001b[1;32mas\u001b[0m \u001b[0myf\u001b[0m\u001b[1;33m\u001b[0m\u001b[0m\n\u001b[0m\u001b[0;32m      4\u001b[0m \u001b[1;33m\u001b[0m\u001b[0m\n\u001b[0;32m      5\u001b[0m \u001b[1;32mfrom\u001b[0m \u001b[0myahoofinancials\u001b[0m \u001b[1;32mimport\u001b[0m \u001b[0mYahooFinancials\u001b[0m\u001b[1;33m\u001b[0m\u001b[0m\n",
      "\u001b[1;31mImportError\u001b[0m: No module named yfinance"
     ]
    }
   ],
   "source": [
    "import matplotlib.pyplot as plt\n",
    "import seaborn; seaborn.set()\n",
    "import yfinance as yf\n",
    "\n",
    "from yahoofinancials import YahooFinancials\n",
    "\n",
    "aapl = yf.download(\"AAPL\",2018, 2022) # Yahoo Finance Data\n",
    "\n",
    "# Por facilidad trabajamos solo con el precio de cierre \n",
    "aapl = aapl['Close']"
   ]
  },
  {
   "cell_type": "code",
   "execution_count": null,
   "id": "9c4035d8",
   "metadata": {},
   "outputs": [],
   "source": [
    "%matplotlib inline\n",
    "\n",
    "aapl._____();"
   ]
  },
  {
   "cell_type": "markdown",
   "id": "92d53118",
   "metadata": {},
   "source": [
    "Una necesidad común de datos de series temporales es volver a muestrear a una frecuencia más alta o más baja. Puedes hacer esto usando el método resample(), o el método mucho más simple asfreq(). La principal diferencia entre los dos es que resample() es fundamentalmente una agregación de datos, mientras que asfreq() es fundamentalmente una selección de datos."
   ]
  },
  {
   "cell_type": "code",
   "execution_count": null,
   "id": "f4b77c7c",
   "metadata": {
    "scrolled": true
   },
   "outputs": [],
   "source": [
    "aapl.plot(alpha=0.6, style='-')\n",
    "aapl.________('W').mean().plot(style=':')\n",
    "aapl.________('BMS').plot(style='--');\n",
    "plt.legend(['input', 'resample', 'asfreq'],\n",
    "loc='upper left');\n"
   ]
  },
  {
   "cell_type": "code",
   "execution_count": null,
   "id": "0a8e2c19",
   "metadata": {},
   "outputs": [],
   "source": [
    "aapl.max"
   ]
  },
  {
   "cell_type": "markdown",
   "id": "224a336e",
   "metadata": {},
   "source": [
    "Para el muestreo ascendente, resample() y asfreq() son en gran medida equivalentes, aunque resample tiene muchas más opciones disponibles. En este caso, el valor predeterminado para ambos métodos es dejar vacíos los puntos muestreados, es decir, llenos con valores NA."
   ]
  },
  {
   "cell_type": "code",
   "execution_count": null,
   "id": "5bbe3a02",
   "metadata": {},
   "outputs": [],
   "source": [
    "fig, ax = plt.subplots(2, sharex=True)\n",
    "\n",
    "data = aapl.iloc[:10]\n",
    "data.asfreq('D').plot(ax=ax[0], marker='o')\n",
    "data.asfreq('D', ________).plot(ax=ax[1], style='-o')\n",
    "data.asfreq('D', ________).plot(ax=ax[1], style='--o')\n",
    "ax[1].legend([\"back-fill\", \"forward-fill\"]);\n"
   ]
  },
  {
   "cell_type": "markdown",
   "id": "161ecd04",
   "metadata": {},
   "source": [
    "##### Time-shifts\n",
    "\n",
    "Otra operación común específica de series de tiempo es el desplazamiento de datos en el tiempo. Pandas tiene dos métodos estrechamente relacionados para calcular esto: shift() y tshift(). En resumen, la diferencia entre ellos es que shift() cambia los datos, mientras que tshift() cambia el índice. En ambos casos, el cambio se especifica en múltiplos de la frecuencia."
   ]
  },
  {
   "cell_type": "code",
   "execution_count": null,
   "id": "62da3d44",
   "metadata": {},
   "outputs": [],
   "source": [
    "fig, ax = plt.subplots(3, sharey=True, figsize=(10,10))\n",
    "\n",
    "aapl = aapl.asfreq('D', method='pad')\n",
    "aapl.plot(ax=ax[0])\n",
    "aapl._______(100).plot(ax=ax[1])\n",
    "aapl._______(100).plot(ax=ax[2])\n",
    "\n",
    "# legends and annotations\n",
    "local_min = pd.to_datetime('2020-03-20')\n",
    "offset = pd.Timedelta(100, 'D')\n",
    "\n",
    "ax[0].legend(['input'], loc=2)\n",
    "ax[0].get_xticklabels()[2].set(weight='heavy', color='red')\n",
    "ax[0].axvline(local_min, alpha=0.3, color='red')\n",
    "\n",
    "ax[1].legend(['shift(100)'], loc=2)\n",
    "ax[1].get_xticklabels()[2].set(weight='heavy', color='red')\n",
    "ax[1].axvline(local_min + offset, alpha=0.3, color='red');\n",
    "\n",
    "ax[2].legend(['tshift(100)'], loc=2)\n",
    "ax[2].get_xticklabels()[2].set(weight='heavy', color='red')\n",
    "ax[2].axvline(local_min + offset, alpha=0.3, color='red');\n"
   ]
  },
  {
   "cell_type": "markdown",
   "id": "c67d8740",
   "metadata": {},
   "source": [
    "Un contexto común para este tipo de cambio es calcular las diferencias a lo largo del tiempo. Por ejemplo, usamos valores desplazados para calcular el retorno de la inversión de un año para las acciones de Google a lo largo del conjunto de datos"
   ]
  },
  {
   "cell_type": "code",
   "execution_count": null,
   "id": "7d566a19",
   "metadata": {},
   "outputs": [],
   "source": [
    "ROI = 100 * (aapl._______(-365) / aapl - 1)\n",
    "ROI.plot()\n",
    "plt.ylabel('% Return on Investment');"
   ]
  },
  {
   "cell_type": "markdown",
   "id": "0743275a",
   "metadata": {},
   "source": [
    "##### Rolling Windows\n",
    "\n",
    "Las estadísticas continuas son un tercer tipo de operación específica de serie temporal implementada por Pandas. Esto se puede lograr a través del atributo rolling() de los objetos Series y DataFrame, que devuelve una vista similar a la que vimos con la operación groupby. Esta vista continua pone a disposición una serie de operaciones de agregación de forma predeterminada.\n",
    "\n",
    "Por ejemplo, aquí está la media móvil centrada en un año y la desviación estándar de los precios de las acciones de AAPL:"
   ]
  },
  {
   "cell_type": "code",
   "execution_count": null,
   "id": "13695229",
   "metadata": {
    "scrolled": true
   },
   "outputs": [],
   "source": [
    "rolling = aapl._______(365, center=True)\n",
    "data = pd.DataFrame({'input': aapl,\n",
    "'one-year rolling_mean': _______.mean(),\n",
    "'one-year rolling_std': _______.std()})\n",
    "\n",
    "ax = data.plot(style=['-', '--', ':'])\n",
    "ax.lines[0].set_alpha(0.3)\n"
   ]
  },
  {
   "cell_type": "markdown",
   "id": "0f461d12",
   "metadata": {},
   "source": [
    "### 3.) Ejercicio práctico"
   ]
  },
  {
   "cell_type": "code",
   "execution_count": null,
   "id": "5cdfa429",
   "metadata": {
    "scrolled": true
   },
   "outputs": [],
   "source": [
    "data = pd.read_csv('Fremont_Bridge_Bicycle_Counter.csv', index_col='Date', parse_dates=True)\n",
    "data.head()"
   ]
  },
  {
   "cell_type": "code",
   "execution_count": null,
   "id": "f0a5c456",
   "metadata": {},
   "outputs": [],
   "source": []
  },
  {
   "cell_type": "markdown",
   "id": "50b253dc",
   "metadata": {},
   "source": [
    "Podemos obtener una idea del conjunto de datos al visualizarlo. Comencemos graficando los datos sin procesar:"
   ]
  },
  {
   "cell_type": "code",
   "execution_count": null,
   "id": "266e255a",
   "metadata": {},
   "outputs": [],
   "source": []
  },
  {
   "cell_type": "markdown",
   "id": "9df5f1b9",
   "metadata": {},
   "source": [
    "Las ~86,000 muestras por hora son demasiado densas para que podamos entenderlas. Podemos obtener más información volviendo a muestrear los datos en una cuadrícula más gruesa. Remuestreemos por semana"
   ]
  },
  {
   "cell_type": "code",
   "execution_count": null,
   "id": "b85295b9",
   "metadata": {},
   "outputs": [],
   "source": [
    "weekly = data._______('W').sum()\n",
    "weekly.plot(style=[ '-', '--',':'])\n",
    "plt.ylabel('Weekly bicycle count');"
   ]
  },
  {
   "cell_type": "markdown",
   "id": "9c694abb",
   "metadata": {},
   "source": [
    "Otra forma que resulta útil para agregar los datos es usar una media móvil, utilizando la función pd.rolling_mean(). Aquí haremos una media móvil de 30 días de nuestros datos, asegurándonos de centrar la ventana"
   ]
  },
  {
   "cell_type": "code",
   "execution_count": null,
   "id": "f01dd2f7",
   "metadata": {},
   "outputs": [],
   "source": [
    "daily = data._______('D').sum()\n",
    "daily._______(30, center=True).sum().plot(style=[ '-', '--',':'])\n",
    "plt.ylabel('mean hourly count');"
   ]
  },
  {
   "cell_type": "code",
   "execution_count": null,
   "id": "1be4059b",
   "metadata": {},
   "outputs": [],
   "source": [
    "daily._______(50, center=True, _______='gaussian').sum(std=10).plot(style=['-', '--',':']);"
   ]
  },
  {
   "cell_type": "code",
   "execution_count": null,
   "id": "f86e42a0",
   "metadata": {},
   "outputs": [],
   "source": [
    "by_time = data._______(data.index.time).mean()\n",
    "hourly_ticks = 4 * 60 * 60 * np.arange(6)\n",
    "by_time.plot(xticks=_______, style=['-', '--',':']);"
   ]
  },
  {
   "cell_type": "code",
   "execution_count": null,
   "id": "d8d57f3d",
   "metadata": {},
   "outputs": [],
   "source": [
    "by_weekday = data.groupby(data.index._______).mean()\n",
    "by_weekday.index = ['Mon', 'Tues', 'Wed', 'Thurs', 'Fri', 'Sat', 'Sun']\n",
    "by_weekday.plot(style=['-', '--',':']);"
   ]
  },
  {
   "cell_type": "code",
   "execution_count": null,
   "id": "9decbb9c",
   "metadata": {},
   "outputs": [],
   "source": [
    "weekend = np.where(data.index._______ < 5, 'Weekday', 'Weekend')\n",
    "by_time = data._______([weekend, data.index.time]).mean()\n",
    "\n",
    "fig, ax = plt.subplots(1, 2, figsize=(14, 5))\n",
    "\n",
    "by_time.loc['Weekday'].plot(ax=ax[0], title='Weekdays', xticks=_______, style=['-', '--',':'])\n",
    "by_time.loc['Weekend'].plot(ax=ax[1], title='Weekends', xticks=_______, style=['-', '--',':']);"
   ]
  }
 ],
 "metadata": {
  "kernelspec": {
   "display_name": "Python 3",
   "language": "python",
   "name": "python3"
  },
  "language_info": {
   "codemirror_mode": {
    "name": "ipython",
    "version": 3
   },
   "file_extension": ".py",
   "mimetype": "text/x-python",
   "name": "python",
   "nbconvert_exporter": "python",
   "pygments_lexer": "ipython3",
   "version": "3.8.5"
  }
 },
 "nbformat": 4,
 "nbformat_minor": 5
}
