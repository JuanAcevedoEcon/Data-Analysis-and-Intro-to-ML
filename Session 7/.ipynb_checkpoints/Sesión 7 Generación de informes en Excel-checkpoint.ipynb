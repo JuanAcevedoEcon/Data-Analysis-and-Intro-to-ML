{
 "cells": [
  {
   "cell_type": "code",
   "execution_count": null,
   "id": "46f8dc3a",
   "metadata": {},
   "outputs": [],
   "source": []
  },
  {
   "cell_type": "markdown",
   "id": "02dd6b9f",
   "metadata": {},
   "source": [
    "### Ejercicio a resolver\n",
    "\n",
    "Usted es un analista de Bancoco, su gerente le pide que realice la automatización de un proceso que al día de hoy consume variedad de horas en ejecutar. El procese es simple; sin embargo, cuenta con varias peculiaridades. La intención es realizar el cálculo del PyG para las operaciones de divisas operadas en el día de análisis (en este caso 11/10/2022). Para tal fin, su gerente le da las siguientes notaciones: \n",
    "\n",
    "1. Las cantidades del archivo insumo siempre vienen dadas en valor absoluto. Esto implica un cambio, pues cuando se realiza una venta, la cantidad se debe modelar con el signo negativo.\n",
    "2. Algunos clientes no finalizan la transacción, por tal motivo, existen operaciones que se encuentran en Estado Cancelada. Adicionalmente, unas se encuentran en estado Pendiente. Estas últimas, no deben ser incluídas en el total del PyG del día ya que no han sido efectuadas; a pesar de ello, deseo ver en el informe el posible PyG de estas operaciones.\n",
    "3. Aquellas operaciones con Fecha de operación diferentes al día del informe, no deben ser tenidas en cuenta.  \n",
    "4. El PyG resulta de restar el valor nominal de la posición por la trm - el valor nominal de la posición por la tasa operada. Quisiera poder ver cada multiplicación en una columna aparte y una para el PyG por operación. Para la columna de PyG sería interesante que el fondo de la celda fuera rojo cuando hay pérdidas y verde cuando hay ganancias.\n",
    "5. Agradezco cualquier esfuerzo por dejar visualmente agradable los datos resultantes.\n"
   ]
  },
  {
   "cell_type": "code",
   "execution_count": null,
   "id": "75ebdb2f",
   "metadata": {},
   "outputs": [],
   "source": [
    "import pandas as pd\n",
    "import numpy as np\n",
    "\n",
    "from openpyxl.comments import Comment\n",
    "from openpyxl.workbook import Workbook\n",
    "from openpyxl.utils.dataframe import dataframe_to_rows\n",
    "from openpyxl.styles import PatternFill, NamedStyle, Border, Side, Alignment, Font"
   ]
  },
  {
   "cell_type": "code",
   "execution_count": null,
   "id": "5a1b3713",
   "metadata": {},
   "outputs": [],
   "source": [
    "data = pd.read_excel(r\"OperacionesDivisas 11 Oct.xlsx\")\n",
    "data.head()"
   ]
  },
  {
   "cell_type": "markdown",
   "id": "0b16b158",
   "metadata": {},
   "source": [
    "##### 1.) Cambiar cantidades con tipo Venta a negativas"
   ]
  },
  {
   "cell_type": "code",
   "execution_count": null,
   "id": "b2118003",
   "metadata": {},
   "outputs": [],
   "source": []
  },
  {
   "cell_type": "markdown",
   "id": "d719517c",
   "metadata": {},
   "source": [
    "##### 2.) y 3.) Borrar datos que no deben ser tenidos en cuenta "
   ]
  },
  {
   "cell_type": "code",
   "execution_count": null,
   "id": "92544f41",
   "metadata": {},
   "outputs": [],
   "source": []
  },
  {
   "cell_type": "markdown",
   "id": "afa3a58b",
   "metadata": {},
   "source": [
    "##### 4.) Cálculo del PyG "
   ]
  },
  {
   "cell_type": "code",
   "execution_count": null,
   "id": "22ffb979",
   "metadata": {},
   "outputs": [],
   "source": []
  },
  {
   "cell_type": "markdown",
   "id": "2571ea29",
   "metadata": {},
   "source": [
    "### 5.) Visualización"
   ]
  },
  {
   "cell_type": "code",
   "execution_count": null,
   "id": "2eb7c62f",
   "metadata": {},
   "outputs": [],
   "source": [
    "informe = _________()\n",
    "hoja = informe._________\n",
    "hoja._____ = \"PyG\"\n",
    "\n",
    "for fila in __________________________(data, ______=False, ______=False): \n",
    "    hoja.append(fila)\n",
    "    \n",
    "informe.____(\"PyG Dólar Today.xlsx\")"
   ]
  },
  {
   "cell_type": "markdown",
   "id": "2735aefe",
   "metadata": {},
   "source": [
    "Vamos a agregar encabezados propios (los del df data son feos), un nombre del informe (Resultado divisas) y el dato de total (ubicándolo antes de la tabla); además, vamos a empezar la tabla desde la columna B dejando la A vacía con fines gráficos."
   ]
  },
  {
   "cell_type": "code",
   "execution_count": null,
   "id": "96cf9c72",
   "metadata": {},
   "outputs": [],
   "source": []
  },
  {
   "cell_type": "markdown",
   "id": "66c0edbe",
   "metadata": {},
   "source": [
    "Tenemos un problema, los datos quedan en la columna A pero mis encabezados empiezan en la columna B. \n",
    "Hagamos un truco...  \n",
    "\n",
    "Adicionalmente, note que es importante que las personas sepan porqué la sumatoria de la columna PyG, no es igual al valor de PyG. Para esta misión, es relevante crear un comentario."
   ]
  },
  {
   "cell_type": "code",
   "execution_count": null,
   "id": "f4f1af35",
   "metadata": {},
   "outputs": [],
   "source": []
  },
  {
   "cell_type": "code",
   "execution_count": null,
   "id": "c59be586",
   "metadata": {},
   "outputs": [],
   "source": []
  },
  {
   "cell_type": "markdown",
   "id": "d77b4f1e",
   "metadata": {},
   "source": [
    "Modificación de ancho para las columnas (se puese abrir el excel y mostrar los cm que se sugieren para cada columna) y unificar celdas para el título y los datos de pygs totales"
   ]
  },
  {
   "cell_type": "code",
   "execution_count": null,
   "id": "9ffe09fd",
   "metadata": {},
   "outputs": [],
   "source": []
  },
  {
   "cell_type": "markdown",
   "id": "ca1b2e17",
   "metadata": {},
   "source": [
    "Adición de estilos para títulos, encabezados y datos de la tabla"
   ]
  },
  {
   "cell_type": "code",
   "execution_count": null,
   "id": "2f428aec",
   "metadata": {},
   "outputs": [],
   "source": []
  },
  {
   "cell_type": "markdown",
   "id": "43ac321a",
   "metadata": {},
   "source": [
    "### Ejercicio estudiantes \n",
    "\n",
    "1) Hasta el momento, no hemos logrado que el PyG tenga un color condicionado al signo (rojo si es negativo, verde si es positivo), intentemos darle gusto al jefe.  \n",
    "2) Crear una columna de totales, asginarles un color de fondo diferente a los asignados en las celdas de la tablas. **Nota:** para aquellos valores que sean precios, coloque el promedio y no la sumatoria.  \n",
    "3) A todas aquellas celdas al rededor de la tabla eliminelé las líneas grises de excel.\n",
    "\n",
    "Se espera un resultado similar al siguiente:\n",
    "\n",
    "<img src=\"Resultado esperado.png\">"
   ]
  },
  {
   "cell_type": "code",
   "execution_count": null,
   "id": "e7d8d37f",
   "metadata": {},
   "outputs": [],
   "source": []
  }
 ],
 "metadata": {
  "kernelspec": {
   "display_name": "Python 3",
   "language": "python",
   "name": "python3"
  },
  "language_info": {
   "codemirror_mode": {
    "name": "ipython",
    "version": 3
   },
   "file_extension": ".py",
   "mimetype": "text/x-python",
   "name": "python",
   "nbconvert_exporter": "python",
   "pygments_lexer": "ipython3",
   "version": "3.8.5"
  }
 },
 "nbformat": 4,
 "nbformat_minor": 5
}
