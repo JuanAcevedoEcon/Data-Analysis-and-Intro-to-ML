{
 "cells": [
  {
   "cell_type": "markdown",
   "metadata": {
    "id": "dzDLOiGa6YYK"
   },
   "source": [
    "<h1 style=\"color:darkred;\"> Bosques Aleatorios: ¿Ingreso Alto o Bajo? </h1>\n",
    "<h2> Horas trabajadas, Años de Estudio, Edad, Tipo trabajo, ...</h2> \n"
   ]
  },
  {
   "cell_type": "markdown",
   "metadata": {
    "id": "JXNjqNxt6YYR"
   },
   "source": [
    "<h1 style=\"color:darkred;\"> Aleatoriedad: </h1>\n",
    "<h1 style=\"color:darkred;\"> Muestreo con reemplazo </h1>\n",
    "<h2 style=\"color:darkblue;\"> >>>>> max_samples <<<<< </h2> "
   ]
  },
  {
   "cell_type": "code",
   "execution_count": null,
   "metadata": {
    "id": "tTQB-fGH6YYT",
    "outputId": "501d942a-fb64-4b8d-933b-911dd1b109bf"
   },
   "outputs": [],
   "source": [
    "import pandas as pd \n",
    "\n",
    "personas = pd.read_csv(\"ingresos.csv\")\n",
    "\n",
    "print(personas.______(frac=___, replace=True))"
   ]
  },
  {
   "cell_type": "markdown",
   "metadata": {
    "id": "gn5uw4Kk6YYd"
   },
   "source": [
    "<h1 style=\"color:darkred;\"> Aleatoriedad: </h1>\n",
    "<h1 style=\"color:darkred;\"> Selección de las Características para Divisiones </h1>\n",
    "<h2 style=\"color:darkblue;\"> >>>>> max_features = √num_características <<<<< </h2>"
   ]
  },
  {
   "cell_type": "code",
   "execution_count": null,
   "metadata": {
    "id": "BliTxBgu6YYg",
    "outputId": "7ace688c-57b4-4994-c933-ac0e25b34cd0"
   },
   "outputs": [],
   "source": [
    "from random import sample\n"
   ]
  },
  {
   "cell_type": "markdown",
   "metadata": {
    "id": "8Oq9rxrq6YYj"
   },
   "source": [
    "<h1 style=\"color:darkred;\"> Creación de Bosque Aleatorio (Random Forest) </h1>"
   ]
  },
  {
   "cell_type": "code",
   "execution_count": null,
   "metadata": {
    "id": "8GpPuURM6YYk",
    "outputId": "1e8eecac-12b6-4b7a-fdb1-8c46d05388e9"
   },
   "outputs": [],
   "source": [
    "from sklearn.ensemble import RandomForestClassifier\n",
    "\n",
    "bosque = _____________________(___________=____,\n",
    "                               ___________=_______,\n",
    "                               ___________=_______,\n",
    "                               ___________=____,\n",
    "                               ___________=____,\n",
    "                               ___________=____)\n",
    "\n",
    "bosque.fit()\n",
    "\n",
    "print(bosque.__________())\n",
    "print(bosque.___________(personas[personas.columns[:-1]].values, personas[\"ingreso\"].values))\n",
    "\n"
   ]
  },
  {
   "cell_type": "markdown",
   "metadata": {
    "id": "QWFYP-Pu6YYm"
   },
   "source": [
    "<h1 style=\"color:darkred;\"> Visualización del Bosque Aleatorio</h1>"
   ]
  },
  {
   "cell_type": "code",
   "execution_count": null,
   "metadata": {
    "id": "9gTyQc6z6YYn",
    "outputId": "08e0b4fd-b4e7-4c5b-9068-9b9e9882d823"
   },
   "outputs": [],
   "source": [
    "import matplotlib.pyplot as plt\n",
    "from sklearn import tree\n"
   ]
  },
  {
   "cell_type": "markdown",
   "metadata": {
    "id": "nkIVt3C96YYp"
   },
   "source": [
    "# Referencia"
   ]
  },
  {
   "cell_type": "markdown",
   "metadata": {
    "id": "bKO8TJ0z6YYq"
   },
   "source": [
    "#####  Breiman, \"Random Forests\", Machine Learning, 45(1), 5-32, 2001."
   ]
  }
 ],
 "metadata": {
  "colab": {
   "collapsed_sections": [],
   "provenance": []
  },
  "kernelspec": {
   "display_name": "Python 3",
   "language": "python",
   "name": "python3"
  },
  "language_info": {
   "codemirror_mode": {
    "name": "ipython",
    "version": 3
   },
   "file_extension": ".py",
   "mimetype": "text/x-python",
   "name": "python",
   "nbconvert_exporter": "python",
   "pygments_lexer": "ipython3",
   "version": "3.8.5"
  }
 },
 "nbformat": 4,
 "nbformat_minor": 1
}
